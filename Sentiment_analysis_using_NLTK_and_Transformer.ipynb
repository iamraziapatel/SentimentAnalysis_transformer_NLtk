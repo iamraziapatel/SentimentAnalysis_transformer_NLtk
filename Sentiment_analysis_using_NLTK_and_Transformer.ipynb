{
  "nbformat": 4,
  "nbformat_minor": 0,
  "metadata": {
    "colab": {
      "provenance": [],
      "gpuType": "T4"
    },
    "kernelspec": {
      "name": "python3",
      "display_name": "Python 3"
    },
    "language_info": {
      "name": "python"
    },
    "accelerator": "GPU",
    "widgets": {
      "application/vnd.jupyter.widget-state+json": {
        "3d07c45242c1418b9453bb76376a3030": {
          "model_module": "@jupyter-widgets/controls",
          "model_name": "HBoxModel",
          "model_module_version": "1.5.0",
          "state": {
            "_dom_classes": [],
            "_model_module": "@jupyter-widgets/controls",
            "_model_module_version": "1.5.0",
            "_model_name": "HBoxModel",
            "_view_count": null,
            "_view_module": "@jupyter-widgets/controls",
            "_view_module_version": "1.5.0",
            "_view_name": "HBoxView",
            "box_style": "",
            "children": [
              "IPY_MODEL_70e9bc4476cd4443a1438823a64d7103",
              "IPY_MODEL_f9bc1d7f13484d7ea72f30844443bc5f",
              "IPY_MODEL_498778ca521547fe901500c57b023ae6"
            ],
            "layout": "IPY_MODEL_a4af44a067844b33a0a9efa2b31a6d71"
          }
        },
        "70e9bc4476cd4443a1438823a64d7103": {
          "model_module": "@jupyter-widgets/controls",
          "model_name": "HTMLModel",
          "model_module_version": "1.5.0",
          "state": {
            "_dom_classes": [],
            "_model_module": "@jupyter-widgets/controls",
            "_model_module_version": "1.5.0",
            "_model_name": "HTMLModel",
            "_view_count": null,
            "_view_module": "@jupyter-widgets/controls",
            "_view_module_version": "1.5.0",
            "_view_name": "HTMLView",
            "description": "",
            "description_tooltip": null,
            "layout": "IPY_MODEL_3baa72ad6c5e4aeabc4d6b93ffd54fce",
            "placeholder": "​",
            "style": "IPY_MODEL_a26f82f9df3b455b99f490bbeb5d4f30",
            "value": "100%"
          }
        },
        "f9bc1d7f13484d7ea72f30844443bc5f": {
          "model_module": "@jupyter-widgets/controls",
          "model_name": "FloatProgressModel",
          "model_module_version": "1.5.0",
          "state": {
            "_dom_classes": [],
            "_model_module": "@jupyter-widgets/controls",
            "_model_module_version": "1.5.0",
            "_model_name": "FloatProgressModel",
            "_view_count": null,
            "_view_module": "@jupyter-widgets/controls",
            "_view_module_version": "1.5.0",
            "_view_name": "ProgressView",
            "bar_style": "success",
            "description": "",
            "description_tooltip": null,
            "layout": "IPY_MODEL_61f2fee5568d4c9dbb40a5880a59d291",
            "max": 500,
            "min": 0,
            "orientation": "horizontal",
            "style": "IPY_MODEL_9c38f796679a4f0fa0da0cc161519b81",
            "value": 500
          }
        },
        "498778ca521547fe901500c57b023ae6": {
          "model_module": "@jupyter-widgets/controls",
          "model_name": "HTMLModel",
          "model_module_version": "1.5.0",
          "state": {
            "_dom_classes": [],
            "_model_module": "@jupyter-widgets/controls",
            "_model_module_version": "1.5.0",
            "_model_name": "HTMLModel",
            "_view_count": null,
            "_view_module": "@jupyter-widgets/controls",
            "_view_module_version": "1.5.0",
            "_view_name": "HTMLView",
            "description": "",
            "description_tooltip": null,
            "layout": "IPY_MODEL_ac21f020e55c43ca82e7158464f9c3b3",
            "placeholder": "​",
            "style": "IPY_MODEL_41e5a291813f4440b8a08df22d20d9ef",
            "value": " 500/500 [00:00&lt;00:00, 1151.18it/s]"
          }
        },
        "a4af44a067844b33a0a9efa2b31a6d71": {
          "model_module": "@jupyter-widgets/base",
          "model_name": "LayoutModel",
          "model_module_version": "1.2.0",
          "state": {
            "_model_module": "@jupyter-widgets/base",
            "_model_module_version": "1.2.0",
            "_model_name": "LayoutModel",
            "_view_count": null,
            "_view_module": "@jupyter-widgets/base",
            "_view_module_version": "1.2.0",
            "_view_name": "LayoutView",
            "align_content": null,
            "align_items": null,
            "align_self": null,
            "border": null,
            "bottom": null,
            "display": null,
            "flex": null,
            "flex_flow": null,
            "grid_area": null,
            "grid_auto_columns": null,
            "grid_auto_flow": null,
            "grid_auto_rows": null,
            "grid_column": null,
            "grid_gap": null,
            "grid_row": null,
            "grid_template_areas": null,
            "grid_template_columns": null,
            "grid_template_rows": null,
            "height": null,
            "justify_content": null,
            "justify_items": null,
            "left": null,
            "margin": null,
            "max_height": null,
            "max_width": null,
            "min_height": null,
            "min_width": null,
            "object_fit": null,
            "object_position": null,
            "order": null,
            "overflow": null,
            "overflow_x": null,
            "overflow_y": null,
            "padding": null,
            "right": null,
            "top": null,
            "visibility": null,
            "width": null
          }
        },
        "3baa72ad6c5e4aeabc4d6b93ffd54fce": {
          "model_module": "@jupyter-widgets/base",
          "model_name": "LayoutModel",
          "model_module_version": "1.2.0",
          "state": {
            "_model_module": "@jupyter-widgets/base",
            "_model_module_version": "1.2.0",
            "_model_name": "LayoutModel",
            "_view_count": null,
            "_view_module": "@jupyter-widgets/base",
            "_view_module_version": "1.2.0",
            "_view_name": "LayoutView",
            "align_content": null,
            "align_items": null,
            "align_self": null,
            "border": null,
            "bottom": null,
            "display": null,
            "flex": null,
            "flex_flow": null,
            "grid_area": null,
            "grid_auto_columns": null,
            "grid_auto_flow": null,
            "grid_auto_rows": null,
            "grid_column": null,
            "grid_gap": null,
            "grid_row": null,
            "grid_template_areas": null,
            "grid_template_columns": null,
            "grid_template_rows": null,
            "height": null,
            "justify_content": null,
            "justify_items": null,
            "left": null,
            "margin": null,
            "max_height": null,
            "max_width": null,
            "min_height": null,
            "min_width": null,
            "object_fit": null,
            "object_position": null,
            "order": null,
            "overflow": null,
            "overflow_x": null,
            "overflow_y": null,
            "padding": null,
            "right": null,
            "top": null,
            "visibility": null,
            "width": null
          }
        },
        "a26f82f9df3b455b99f490bbeb5d4f30": {
          "model_module": "@jupyter-widgets/controls",
          "model_name": "DescriptionStyleModel",
          "model_module_version": "1.5.0",
          "state": {
            "_model_module": "@jupyter-widgets/controls",
            "_model_module_version": "1.5.0",
            "_model_name": "DescriptionStyleModel",
            "_view_count": null,
            "_view_module": "@jupyter-widgets/base",
            "_view_module_version": "1.2.0",
            "_view_name": "StyleView",
            "description_width": ""
          }
        },
        "61f2fee5568d4c9dbb40a5880a59d291": {
          "model_module": "@jupyter-widgets/base",
          "model_name": "LayoutModel",
          "model_module_version": "1.2.0",
          "state": {
            "_model_module": "@jupyter-widgets/base",
            "_model_module_version": "1.2.0",
            "_model_name": "LayoutModel",
            "_view_count": null,
            "_view_module": "@jupyter-widgets/base",
            "_view_module_version": "1.2.0",
            "_view_name": "LayoutView",
            "align_content": null,
            "align_items": null,
            "align_self": null,
            "border": null,
            "bottom": null,
            "display": null,
            "flex": null,
            "flex_flow": null,
            "grid_area": null,
            "grid_auto_columns": null,
            "grid_auto_flow": null,
            "grid_auto_rows": null,
            "grid_column": null,
            "grid_gap": null,
            "grid_row": null,
            "grid_template_areas": null,
            "grid_template_columns": null,
            "grid_template_rows": null,
            "height": null,
            "justify_content": null,
            "justify_items": null,
            "left": null,
            "margin": null,
            "max_height": null,
            "max_width": null,
            "min_height": null,
            "min_width": null,
            "object_fit": null,
            "object_position": null,
            "order": null,
            "overflow": null,
            "overflow_x": null,
            "overflow_y": null,
            "padding": null,
            "right": null,
            "top": null,
            "visibility": null,
            "width": null
          }
        },
        "9c38f796679a4f0fa0da0cc161519b81": {
          "model_module": "@jupyter-widgets/controls",
          "model_name": "ProgressStyleModel",
          "model_module_version": "1.5.0",
          "state": {
            "_model_module": "@jupyter-widgets/controls",
            "_model_module_version": "1.5.0",
            "_model_name": "ProgressStyleModel",
            "_view_count": null,
            "_view_module": "@jupyter-widgets/base",
            "_view_module_version": "1.2.0",
            "_view_name": "StyleView",
            "bar_color": null,
            "description_width": ""
          }
        },
        "ac21f020e55c43ca82e7158464f9c3b3": {
          "model_module": "@jupyter-widgets/base",
          "model_name": "LayoutModel",
          "model_module_version": "1.2.0",
          "state": {
            "_model_module": "@jupyter-widgets/base",
            "_model_module_version": "1.2.0",
            "_model_name": "LayoutModel",
            "_view_count": null,
            "_view_module": "@jupyter-widgets/base",
            "_view_module_version": "1.2.0",
            "_view_name": "LayoutView",
            "align_content": null,
            "align_items": null,
            "align_self": null,
            "border": null,
            "bottom": null,
            "display": null,
            "flex": null,
            "flex_flow": null,
            "grid_area": null,
            "grid_auto_columns": null,
            "grid_auto_flow": null,
            "grid_auto_rows": null,
            "grid_column": null,
            "grid_gap": null,
            "grid_row": null,
            "grid_template_areas": null,
            "grid_template_columns": null,
            "grid_template_rows": null,
            "height": null,
            "justify_content": null,
            "justify_items": null,
            "left": null,
            "margin": null,
            "max_height": null,
            "max_width": null,
            "min_height": null,
            "min_width": null,
            "object_fit": null,
            "object_position": null,
            "order": null,
            "overflow": null,
            "overflow_x": null,
            "overflow_y": null,
            "padding": null,
            "right": null,
            "top": null,
            "visibility": null,
            "width": null
          }
        },
        "41e5a291813f4440b8a08df22d20d9ef": {
          "model_module": "@jupyter-widgets/controls",
          "model_name": "DescriptionStyleModel",
          "model_module_version": "1.5.0",
          "state": {
            "_model_module": "@jupyter-widgets/controls",
            "_model_module_version": "1.5.0",
            "_model_name": "DescriptionStyleModel",
            "_view_count": null,
            "_view_module": "@jupyter-widgets/base",
            "_view_module_version": "1.2.0",
            "_view_name": "StyleView",
            "description_width": ""
          }
        },
        "54766c65539c40269eb0317ed7c33e6e": {
          "model_module": "@jupyter-widgets/controls",
          "model_name": "HBoxModel",
          "model_module_version": "1.5.0",
          "state": {
            "_dom_classes": [],
            "_model_module": "@jupyter-widgets/controls",
            "_model_module_version": "1.5.0",
            "_model_name": "HBoxModel",
            "_view_count": null,
            "_view_module": "@jupyter-widgets/controls",
            "_view_module_version": "1.5.0",
            "_view_name": "HBoxView",
            "box_style": "",
            "children": [
              "IPY_MODEL_24793ee894f544b5b9bc4037a12fc2e9",
              "IPY_MODEL_8324251b13424a7bbc3b3d8c9e7eec61",
              "IPY_MODEL_5fb6a648a15e4fa080f7fc8938ea9e21"
            ],
            "layout": "IPY_MODEL_ea3f1ed829684bc9ae696a2c4c8ea93f"
          }
        },
        "24793ee894f544b5b9bc4037a12fc2e9": {
          "model_module": "@jupyter-widgets/controls",
          "model_name": "HTMLModel",
          "model_module_version": "1.5.0",
          "state": {
            "_dom_classes": [],
            "_model_module": "@jupyter-widgets/controls",
            "_model_module_version": "1.5.0",
            "_model_name": "HTMLModel",
            "_view_count": null,
            "_view_module": "@jupyter-widgets/controls",
            "_view_module_version": "1.5.0",
            "_view_name": "HTMLView",
            "description": "",
            "description_tooltip": null,
            "layout": "IPY_MODEL_321f68b7770244e78c6410cfe33e1243",
            "placeholder": "​",
            "style": "IPY_MODEL_fbb55ccb2a0d4a4791cd9206722a34b3",
            "value": "Downloading (…)lve/main/config.json: 100%"
          }
        },
        "8324251b13424a7bbc3b3d8c9e7eec61": {
          "model_module": "@jupyter-widgets/controls",
          "model_name": "FloatProgressModel",
          "model_module_version": "1.5.0",
          "state": {
            "_dom_classes": [],
            "_model_module": "@jupyter-widgets/controls",
            "_model_module_version": "1.5.0",
            "_model_name": "FloatProgressModel",
            "_view_count": null,
            "_view_module": "@jupyter-widgets/controls",
            "_view_module_version": "1.5.0",
            "_view_name": "ProgressView",
            "bar_style": "success",
            "description": "",
            "description_tooltip": null,
            "layout": "IPY_MODEL_a927f3c55f6f4783b7fc1d2f36f1cc8e",
            "max": 747,
            "min": 0,
            "orientation": "horizontal",
            "style": "IPY_MODEL_5fb19341df384367bd0f049eb716fd28",
            "value": 747
          }
        },
        "5fb6a648a15e4fa080f7fc8938ea9e21": {
          "model_module": "@jupyter-widgets/controls",
          "model_name": "HTMLModel",
          "model_module_version": "1.5.0",
          "state": {
            "_dom_classes": [],
            "_model_module": "@jupyter-widgets/controls",
            "_model_module_version": "1.5.0",
            "_model_name": "HTMLModel",
            "_view_count": null,
            "_view_module": "@jupyter-widgets/controls",
            "_view_module_version": "1.5.0",
            "_view_name": "HTMLView",
            "description": "",
            "description_tooltip": null,
            "layout": "IPY_MODEL_cfd13aff3b0f4534b262795964831999",
            "placeholder": "​",
            "style": "IPY_MODEL_6585acc0f9e64c36ac3d9e3f9022a4b7",
            "value": " 747/747 [00:00&lt;00:00, 19.6kB/s]"
          }
        },
        "ea3f1ed829684bc9ae696a2c4c8ea93f": {
          "model_module": "@jupyter-widgets/base",
          "model_name": "LayoutModel",
          "model_module_version": "1.2.0",
          "state": {
            "_model_module": "@jupyter-widgets/base",
            "_model_module_version": "1.2.0",
            "_model_name": "LayoutModel",
            "_view_count": null,
            "_view_module": "@jupyter-widgets/base",
            "_view_module_version": "1.2.0",
            "_view_name": "LayoutView",
            "align_content": null,
            "align_items": null,
            "align_self": null,
            "border": null,
            "bottom": null,
            "display": null,
            "flex": null,
            "flex_flow": null,
            "grid_area": null,
            "grid_auto_columns": null,
            "grid_auto_flow": null,
            "grid_auto_rows": null,
            "grid_column": null,
            "grid_gap": null,
            "grid_row": null,
            "grid_template_areas": null,
            "grid_template_columns": null,
            "grid_template_rows": null,
            "height": null,
            "justify_content": null,
            "justify_items": null,
            "left": null,
            "margin": null,
            "max_height": null,
            "max_width": null,
            "min_height": null,
            "min_width": null,
            "object_fit": null,
            "object_position": null,
            "order": null,
            "overflow": null,
            "overflow_x": null,
            "overflow_y": null,
            "padding": null,
            "right": null,
            "top": null,
            "visibility": null,
            "width": null
          }
        },
        "321f68b7770244e78c6410cfe33e1243": {
          "model_module": "@jupyter-widgets/base",
          "model_name": "LayoutModel",
          "model_module_version": "1.2.0",
          "state": {
            "_model_module": "@jupyter-widgets/base",
            "_model_module_version": "1.2.0",
            "_model_name": "LayoutModel",
            "_view_count": null,
            "_view_module": "@jupyter-widgets/base",
            "_view_module_version": "1.2.0",
            "_view_name": "LayoutView",
            "align_content": null,
            "align_items": null,
            "align_self": null,
            "border": null,
            "bottom": null,
            "display": null,
            "flex": null,
            "flex_flow": null,
            "grid_area": null,
            "grid_auto_columns": null,
            "grid_auto_flow": null,
            "grid_auto_rows": null,
            "grid_column": null,
            "grid_gap": null,
            "grid_row": null,
            "grid_template_areas": null,
            "grid_template_columns": null,
            "grid_template_rows": null,
            "height": null,
            "justify_content": null,
            "justify_items": null,
            "left": null,
            "margin": null,
            "max_height": null,
            "max_width": null,
            "min_height": null,
            "min_width": null,
            "object_fit": null,
            "object_position": null,
            "order": null,
            "overflow": null,
            "overflow_x": null,
            "overflow_y": null,
            "padding": null,
            "right": null,
            "top": null,
            "visibility": null,
            "width": null
          }
        },
        "fbb55ccb2a0d4a4791cd9206722a34b3": {
          "model_module": "@jupyter-widgets/controls",
          "model_name": "DescriptionStyleModel",
          "model_module_version": "1.5.0",
          "state": {
            "_model_module": "@jupyter-widgets/controls",
            "_model_module_version": "1.5.0",
            "_model_name": "DescriptionStyleModel",
            "_view_count": null,
            "_view_module": "@jupyter-widgets/base",
            "_view_module_version": "1.2.0",
            "_view_name": "StyleView",
            "description_width": ""
          }
        },
        "a927f3c55f6f4783b7fc1d2f36f1cc8e": {
          "model_module": "@jupyter-widgets/base",
          "model_name": "LayoutModel",
          "model_module_version": "1.2.0",
          "state": {
            "_model_module": "@jupyter-widgets/base",
            "_model_module_version": "1.2.0",
            "_model_name": "LayoutModel",
            "_view_count": null,
            "_view_module": "@jupyter-widgets/base",
            "_view_module_version": "1.2.0",
            "_view_name": "LayoutView",
            "align_content": null,
            "align_items": null,
            "align_self": null,
            "border": null,
            "bottom": null,
            "display": null,
            "flex": null,
            "flex_flow": null,
            "grid_area": null,
            "grid_auto_columns": null,
            "grid_auto_flow": null,
            "grid_auto_rows": null,
            "grid_column": null,
            "grid_gap": null,
            "grid_row": null,
            "grid_template_areas": null,
            "grid_template_columns": null,
            "grid_template_rows": null,
            "height": null,
            "justify_content": null,
            "justify_items": null,
            "left": null,
            "margin": null,
            "max_height": null,
            "max_width": null,
            "min_height": null,
            "min_width": null,
            "object_fit": null,
            "object_position": null,
            "order": null,
            "overflow": null,
            "overflow_x": null,
            "overflow_y": null,
            "padding": null,
            "right": null,
            "top": null,
            "visibility": null,
            "width": null
          }
        },
        "5fb19341df384367bd0f049eb716fd28": {
          "model_module": "@jupyter-widgets/controls",
          "model_name": "ProgressStyleModel",
          "model_module_version": "1.5.0",
          "state": {
            "_model_module": "@jupyter-widgets/controls",
            "_model_module_version": "1.5.0",
            "_model_name": "ProgressStyleModel",
            "_view_count": null,
            "_view_module": "@jupyter-widgets/base",
            "_view_module_version": "1.2.0",
            "_view_name": "StyleView",
            "bar_color": null,
            "description_width": ""
          }
        },
        "cfd13aff3b0f4534b262795964831999": {
          "model_module": "@jupyter-widgets/base",
          "model_name": "LayoutModel",
          "model_module_version": "1.2.0",
          "state": {
            "_model_module": "@jupyter-widgets/base",
            "_model_module_version": "1.2.0",
            "_model_name": "LayoutModel",
            "_view_count": null,
            "_view_module": "@jupyter-widgets/base",
            "_view_module_version": "1.2.0",
            "_view_name": "LayoutView",
            "align_content": null,
            "align_items": null,
            "align_self": null,
            "border": null,
            "bottom": null,
            "display": null,
            "flex": null,
            "flex_flow": null,
            "grid_area": null,
            "grid_auto_columns": null,
            "grid_auto_flow": null,
            "grid_auto_rows": null,
            "grid_column": null,
            "grid_gap": null,
            "grid_row": null,
            "grid_template_areas": null,
            "grid_template_columns": null,
            "grid_template_rows": null,
            "height": null,
            "justify_content": null,
            "justify_items": null,
            "left": null,
            "margin": null,
            "max_height": null,
            "max_width": null,
            "min_height": null,
            "min_width": null,
            "object_fit": null,
            "object_position": null,
            "order": null,
            "overflow": null,
            "overflow_x": null,
            "overflow_y": null,
            "padding": null,
            "right": null,
            "top": null,
            "visibility": null,
            "width": null
          }
        },
        "6585acc0f9e64c36ac3d9e3f9022a4b7": {
          "model_module": "@jupyter-widgets/controls",
          "model_name": "DescriptionStyleModel",
          "model_module_version": "1.5.0",
          "state": {
            "_model_module": "@jupyter-widgets/controls",
            "_model_module_version": "1.5.0",
            "_model_name": "DescriptionStyleModel",
            "_view_count": null,
            "_view_module": "@jupyter-widgets/base",
            "_view_module_version": "1.2.0",
            "_view_name": "StyleView",
            "description_width": ""
          }
        },
        "d62d140c9cfe4be18f109dc94de740bf": {
          "model_module": "@jupyter-widgets/controls",
          "model_name": "HBoxModel",
          "model_module_version": "1.5.0",
          "state": {
            "_dom_classes": [],
            "_model_module": "@jupyter-widgets/controls",
            "_model_module_version": "1.5.0",
            "_model_name": "HBoxModel",
            "_view_count": null,
            "_view_module": "@jupyter-widgets/controls",
            "_view_module_version": "1.5.0",
            "_view_name": "HBoxView",
            "box_style": "",
            "children": [
              "IPY_MODEL_85b020f4de0a4a97838ccd311b33829c",
              "IPY_MODEL_8aaa042fdc7c479c81ce141b9f598027",
              "IPY_MODEL_1a9c4ccbda8649e5bbabe78afcbf83a6"
            ],
            "layout": "IPY_MODEL_1f4804ac06034c1eaf55f93354f8dbec"
          }
        },
        "85b020f4de0a4a97838ccd311b33829c": {
          "model_module": "@jupyter-widgets/controls",
          "model_name": "HTMLModel",
          "model_module_version": "1.5.0",
          "state": {
            "_dom_classes": [],
            "_model_module": "@jupyter-widgets/controls",
            "_model_module_version": "1.5.0",
            "_model_name": "HTMLModel",
            "_view_count": null,
            "_view_module": "@jupyter-widgets/controls",
            "_view_module_version": "1.5.0",
            "_view_name": "HTMLView",
            "description": "",
            "description_tooltip": null,
            "layout": "IPY_MODEL_3f6f87feeccc4c7b86391cc807d059b5",
            "placeholder": "​",
            "style": "IPY_MODEL_bb0c1ce5a42543e0a7f26817a47dc9fb",
            "value": "Downloading (…)olve/main/vocab.json: 100%"
          }
        },
        "8aaa042fdc7c479c81ce141b9f598027": {
          "model_module": "@jupyter-widgets/controls",
          "model_name": "FloatProgressModel",
          "model_module_version": "1.5.0",
          "state": {
            "_dom_classes": [],
            "_model_module": "@jupyter-widgets/controls",
            "_model_module_version": "1.5.0",
            "_model_name": "FloatProgressModel",
            "_view_count": null,
            "_view_module": "@jupyter-widgets/controls",
            "_view_module_version": "1.5.0",
            "_view_name": "ProgressView",
            "bar_style": "success",
            "description": "",
            "description_tooltip": null,
            "layout": "IPY_MODEL_2fd17664f1674f09aed69b2b8468deb5",
            "max": 898822,
            "min": 0,
            "orientation": "horizontal",
            "style": "IPY_MODEL_074f9261b8c3483c9e592c0b6dbf03d4",
            "value": 898822
          }
        },
        "1a9c4ccbda8649e5bbabe78afcbf83a6": {
          "model_module": "@jupyter-widgets/controls",
          "model_name": "HTMLModel",
          "model_module_version": "1.5.0",
          "state": {
            "_dom_classes": [],
            "_model_module": "@jupyter-widgets/controls",
            "_model_module_version": "1.5.0",
            "_model_name": "HTMLModel",
            "_view_count": null,
            "_view_module": "@jupyter-widgets/controls",
            "_view_module_version": "1.5.0",
            "_view_name": "HTMLView",
            "description": "",
            "description_tooltip": null,
            "layout": "IPY_MODEL_cda2b4fe3b8f4f96821a49577d07830f",
            "placeholder": "​",
            "style": "IPY_MODEL_9b7c492676994ea2a9decfd1ac057a3c",
            "value": " 899k/899k [00:00&lt;00:00, 9.73MB/s]"
          }
        },
        "1f4804ac06034c1eaf55f93354f8dbec": {
          "model_module": "@jupyter-widgets/base",
          "model_name": "LayoutModel",
          "model_module_version": "1.2.0",
          "state": {
            "_model_module": "@jupyter-widgets/base",
            "_model_module_version": "1.2.0",
            "_model_name": "LayoutModel",
            "_view_count": null,
            "_view_module": "@jupyter-widgets/base",
            "_view_module_version": "1.2.0",
            "_view_name": "LayoutView",
            "align_content": null,
            "align_items": null,
            "align_self": null,
            "border": null,
            "bottom": null,
            "display": null,
            "flex": null,
            "flex_flow": null,
            "grid_area": null,
            "grid_auto_columns": null,
            "grid_auto_flow": null,
            "grid_auto_rows": null,
            "grid_column": null,
            "grid_gap": null,
            "grid_row": null,
            "grid_template_areas": null,
            "grid_template_columns": null,
            "grid_template_rows": null,
            "height": null,
            "justify_content": null,
            "justify_items": null,
            "left": null,
            "margin": null,
            "max_height": null,
            "max_width": null,
            "min_height": null,
            "min_width": null,
            "object_fit": null,
            "object_position": null,
            "order": null,
            "overflow": null,
            "overflow_x": null,
            "overflow_y": null,
            "padding": null,
            "right": null,
            "top": null,
            "visibility": null,
            "width": null
          }
        },
        "3f6f87feeccc4c7b86391cc807d059b5": {
          "model_module": "@jupyter-widgets/base",
          "model_name": "LayoutModel",
          "model_module_version": "1.2.0",
          "state": {
            "_model_module": "@jupyter-widgets/base",
            "_model_module_version": "1.2.0",
            "_model_name": "LayoutModel",
            "_view_count": null,
            "_view_module": "@jupyter-widgets/base",
            "_view_module_version": "1.2.0",
            "_view_name": "LayoutView",
            "align_content": null,
            "align_items": null,
            "align_self": null,
            "border": null,
            "bottom": null,
            "display": null,
            "flex": null,
            "flex_flow": null,
            "grid_area": null,
            "grid_auto_columns": null,
            "grid_auto_flow": null,
            "grid_auto_rows": null,
            "grid_column": null,
            "grid_gap": null,
            "grid_row": null,
            "grid_template_areas": null,
            "grid_template_columns": null,
            "grid_template_rows": null,
            "height": null,
            "justify_content": null,
            "justify_items": null,
            "left": null,
            "margin": null,
            "max_height": null,
            "max_width": null,
            "min_height": null,
            "min_width": null,
            "object_fit": null,
            "object_position": null,
            "order": null,
            "overflow": null,
            "overflow_x": null,
            "overflow_y": null,
            "padding": null,
            "right": null,
            "top": null,
            "visibility": null,
            "width": null
          }
        },
        "bb0c1ce5a42543e0a7f26817a47dc9fb": {
          "model_module": "@jupyter-widgets/controls",
          "model_name": "DescriptionStyleModel",
          "model_module_version": "1.5.0",
          "state": {
            "_model_module": "@jupyter-widgets/controls",
            "_model_module_version": "1.5.0",
            "_model_name": "DescriptionStyleModel",
            "_view_count": null,
            "_view_module": "@jupyter-widgets/base",
            "_view_module_version": "1.2.0",
            "_view_name": "StyleView",
            "description_width": ""
          }
        },
        "2fd17664f1674f09aed69b2b8468deb5": {
          "model_module": "@jupyter-widgets/base",
          "model_name": "LayoutModel",
          "model_module_version": "1.2.0",
          "state": {
            "_model_module": "@jupyter-widgets/base",
            "_model_module_version": "1.2.0",
            "_model_name": "LayoutModel",
            "_view_count": null,
            "_view_module": "@jupyter-widgets/base",
            "_view_module_version": "1.2.0",
            "_view_name": "LayoutView",
            "align_content": null,
            "align_items": null,
            "align_self": null,
            "border": null,
            "bottom": null,
            "display": null,
            "flex": null,
            "flex_flow": null,
            "grid_area": null,
            "grid_auto_columns": null,
            "grid_auto_flow": null,
            "grid_auto_rows": null,
            "grid_column": null,
            "grid_gap": null,
            "grid_row": null,
            "grid_template_areas": null,
            "grid_template_columns": null,
            "grid_template_rows": null,
            "height": null,
            "justify_content": null,
            "justify_items": null,
            "left": null,
            "margin": null,
            "max_height": null,
            "max_width": null,
            "min_height": null,
            "min_width": null,
            "object_fit": null,
            "object_position": null,
            "order": null,
            "overflow": null,
            "overflow_x": null,
            "overflow_y": null,
            "padding": null,
            "right": null,
            "top": null,
            "visibility": null,
            "width": null
          }
        },
        "074f9261b8c3483c9e592c0b6dbf03d4": {
          "model_module": "@jupyter-widgets/controls",
          "model_name": "ProgressStyleModel",
          "model_module_version": "1.5.0",
          "state": {
            "_model_module": "@jupyter-widgets/controls",
            "_model_module_version": "1.5.0",
            "_model_name": "ProgressStyleModel",
            "_view_count": null,
            "_view_module": "@jupyter-widgets/base",
            "_view_module_version": "1.2.0",
            "_view_name": "StyleView",
            "bar_color": null,
            "description_width": ""
          }
        },
        "cda2b4fe3b8f4f96821a49577d07830f": {
          "model_module": "@jupyter-widgets/base",
          "model_name": "LayoutModel",
          "model_module_version": "1.2.0",
          "state": {
            "_model_module": "@jupyter-widgets/base",
            "_model_module_version": "1.2.0",
            "_model_name": "LayoutModel",
            "_view_count": null,
            "_view_module": "@jupyter-widgets/base",
            "_view_module_version": "1.2.0",
            "_view_name": "LayoutView",
            "align_content": null,
            "align_items": null,
            "align_self": null,
            "border": null,
            "bottom": null,
            "display": null,
            "flex": null,
            "flex_flow": null,
            "grid_area": null,
            "grid_auto_columns": null,
            "grid_auto_flow": null,
            "grid_auto_rows": null,
            "grid_column": null,
            "grid_gap": null,
            "grid_row": null,
            "grid_template_areas": null,
            "grid_template_columns": null,
            "grid_template_rows": null,
            "height": null,
            "justify_content": null,
            "justify_items": null,
            "left": null,
            "margin": null,
            "max_height": null,
            "max_width": null,
            "min_height": null,
            "min_width": null,
            "object_fit": null,
            "object_position": null,
            "order": null,
            "overflow": null,
            "overflow_x": null,
            "overflow_y": null,
            "padding": null,
            "right": null,
            "top": null,
            "visibility": null,
            "width": null
          }
        },
        "9b7c492676994ea2a9decfd1ac057a3c": {
          "model_module": "@jupyter-widgets/controls",
          "model_name": "DescriptionStyleModel",
          "model_module_version": "1.5.0",
          "state": {
            "_model_module": "@jupyter-widgets/controls",
            "_model_module_version": "1.5.0",
            "_model_name": "DescriptionStyleModel",
            "_view_count": null,
            "_view_module": "@jupyter-widgets/base",
            "_view_module_version": "1.2.0",
            "_view_name": "StyleView",
            "description_width": ""
          }
        },
        "df4cf4129c304c4da69fbed03ac73cc5": {
          "model_module": "@jupyter-widgets/controls",
          "model_name": "HBoxModel",
          "model_module_version": "1.5.0",
          "state": {
            "_dom_classes": [],
            "_model_module": "@jupyter-widgets/controls",
            "_model_module_version": "1.5.0",
            "_model_name": "HBoxModel",
            "_view_count": null,
            "_view_module": "@jupyter-widgets/controls",
            "_view_module_version": "1.5.0",
            "_view_name": "HBoxView",
            "box_style": "",
            "children": [
              "IPY_MODEL_d3155fc067a64a08b6f22ce360155c84",
              "IPY_MODEL_6a38ce0b065d45b1bda9383f3daa546e",
              "IPY_MODEL_12933bea82e4424499aa5dfdfdcd905e"
            ],
            "layout": "IPY_MODEL_a556d452ff6b48ea8e1b68df06aa33dd"
          }
        },
        "d3155fc067a64a08b6f22ce360155c84": {
          "model_module": "@jupyter-widgets/controls",
          "model_name": "HTMLModel",
          "model_module_version": "1.5.0",
          "state": {
            "_dom_classes": [],
            "_model_module": "@jupyter-widgets/controls",
            "_model_module_version": "1.5.0",
            "_model_name": "HTMLModel",
            "_view_count": null,
            "_view_module": "@jupyter-widgets/controls",
            "_view_module_version": "1.5.0",
            "_view_name": "HTMLView",
            "description": "",
            "description_tooltip": null,
            "layout": "IPY_MODEL_ddef7eaa573346acab858388981b5ce0",
            "placeholder": "​",
            "style": "IPY_MODEL_2150664878334a1c8a58bf9f65047f3e",
            "value": "Downloading (…)olve/main/merges.txt: 100%"
          }
        },
        "6a38ce0b065d45b1bda9383f3daa546e": {
          "model_module": "@jupyter-widgets/controls",
          "model_name": "FloatProgressModel",
          "model_module_version": "1.5.0",
          "state": {
            "_dom_classes": [],
            "_model_module": "@jupyter-widgets/controls",
            "_model_module_version": "1.5.0",
            "_model_name": "FloatProgressModel",
            "_view_count": null,
            "_view_module": "@jupyter-widgets/controls",
            "_view_module_version": "1.5.0",
            "_view_name": "ProgressView",
            "bar_style": "success",
            "description": "",
            "description_tooltip": null,
            "layout": "IPY_MODEL_7efbce70cb054d3c8f44bb805a39546c",
            "max": 456318,
            "min": 0,
            "orientation": "horizontal",
            "style": "IPY_MODEL_0486c154d4fb47ffb703a9f1cdf67dd4",
            "value": 456318
          }
        },
        "12933bea82e4424499aa5dfdfdcd905e": {
          "model_module": "@jupyter-widgets/controls",
          "model_name": "HTMLModel",
          "model_module_version": "1.5.0",
          "state": {
            "_dom_classes": [],
            "_model_module": "@jupyter-widgets/controls",
            "_model_module_version": "1.5.0",
            "_model_name": "HTMLModel",
            "_view_count": null,
            "_view_module": "@jupyter-widgets/controls",
            "_view_module_version": "1.5.0",
            "_view_name": "HTMLView",
            "description": "",
            "description_tooltip": null,
            "layout": "IPY_MODEL_19e45663ebf041c89fb2450db7ecb860",
            "placeholder": "​",
            "style": "IPY_MODEL_850705780c8c4297b4f2bdcd9913e304",
            "value": " 456k/456k [00:00&lt;00:00, 6.40MB/s]"
          }
        },
        "a556d452ff6b48ea8e1b68df06aa33dd": {
          "model_module": "@jupyter-widgets/base",
          "model_name": "LayoutModel",
          "model_module_version": "1.2.0",
          "state": {
            "_model_module": "@jupyter-widgets/base",
            "_model_module_version": "1.2.0",
            "_model_name": "LayoutModel",
            "_view_count": null,
            "_view_module": "@jupyter-widgets/base",
            "_view_module_version": "1.2.0",
            "_view_name": "LayoutView",
            "align_content": null,
            "align_items": null,
            "align_self": null,
            "border": null,
            "bottom": null,
            "display": null,
            "flex": null,
            "flex_flow": null,
            "grid_area": null,
            "grid_auto_columns": null,
            "grid_auto_flow": null,
            "grid_auto_rows": null,
            "grid_column": null,
            "grid_gap": null,
            "grid_row": null,
            "grid_template_areas": null,
            "grid_template_columns": null,
            "grid_template_rows": null,
            "height": null,
            "justify_content": null,
            "justify_items": null,
            "left": null,
            "margin": null,
            "max_height": null,
            "max_width": null,
            "min_height": null,
            "min_width": null,
            "object_fit": null,
            "object_position": null,
            "order": null,
            "overflow": null,
            "overflow_x": null,
            "overflow_y": null,
            "padding": null,
            "right": null,
            "top": null,
            "visibility": null,
            "width": null
          }
        },
        "ddef7eaa573346acab858388981b5ce0": {
          "model_module": "@jupyter-widgets/base",
          "model_name": "LayoutModel",
          "model_module_version": "1.2.0",
          "state": {
            "_model_module": "@jupyter-widgets/base",
            "_model_module_version": "1.2.0",
            "_model_name": "LayoutModel",
            "_view_count": null,
            "_view_module": "@jupyter-widgets/base",
            "_view_module_version": "1.2.0",
            "_view_name": "LayoutView",
            "align_content": null,
            "align_items": null,
            "align_self": null,
            "border": null,
            "bottom": null,
            "display": null,
            "flex": null,
            "flex_flow": null,
            "grid_area": null,
            "grid_auto_columns": null,
            "grid_auto_flow": null,
            "grid_auto_rows": null,
            "grid_column": null,
            "grid_gap": null,
            "grid_row": null,
            "grid_template_areas": null,
            "grid_template_columns": null,
            "grid_template_rows": null,
            "height": null,
            "justify_content": null,
            "justify_items": null,
            "left": null,
            "margin": null,
            "max_height": null,
            "max_width": null,
            "min_height": null,
            "min_width": null,
            "object_fit": null,
            "object_position": null,
            "order": null,
            "overflow": null,
            "overflow_x": null,
            "overflow_y": null,
            "padding": null,
            "right": null,
            "top": null,
            "visibility": null,
            "width": null
          }
        },
        "2150664878334a1c8a58bf9f65047f3e": {
          "model_module": "@jupyter-widgets/controls",
          "model_name": "DescriptionStyleModel",
          "model_module_version": "1.5.0",
          "state": {
            "_model_module": "@jupyter-widgets/controls",
            "_model_module_version": "1.5.0",
            "_model_name": "DescriptionStyleModel",
            "_view_count": null,
            "_view_module": "@jupyter-widgets/base",
            "_view_module_version": "1.2.0",
            "_view_name": "StyleView",
            "description_width": ""
          }
        },
        "7efbce70cb054d3c8f44bb805a39546c": {
          "model_module": "@jupyter-widgets/base",
          "model_name": "LayoutModel",
          "model_module_version": "1.2.0",
          "state": {
            "_model_module": "@jupyter-widgets/base",
            "_model_module_version": "1.2.0",
            "_model_name": "LayoutModel",
            "_view_count": null,
            "_view_module": "@jupyter-widgets/base",
            "_view_module_version": "1.2.0",
            "_view_name": "LayoutView",
            "align_content": null,
            "align_items": null,
            "align_self": null,
            "border": null,
            "bottom": null,
            "display": null,
            "flex": null,
            "flex_flow": null,
            "grid_area": null,
            "grid_auto_columns": null,
            "grid_auto_flow": null,
            "grid_auto_rows": null,
            "grid_column": null,
            "grid_gap": null,
            "grid_row": null,
            "grid_template_areas": null,
            "grid_template_columns": null,
            "grid_template_rows": null,
            "height": null,
            "justify_content": null,
            "justify_items": null,
            "left": null,
            "margin": null,
            "max_height": null,
            "max_width": null,
            "min_height": null,
            "min_width": null,
            "object_fit": null,
            "object_position": null,
            "order": null,
            "overflow": null,
            "overflow_x": null,
            "overflow_y": null,
            "padding": null,
            "right": null,
            "top": null,
            "visibility": null,
            "width": null
          }
        },
        "0486c154d4fb47ffb703a9f1cdf67dd4": {
          "model_module": "@jupyter-widgets/controls",
          "model_name": "ProgressStyleModel",
          "model_module_version": "1.5.0",
          "state": {
            "_model_module": "@jupyter-widgets/controls",
            "_model_module_version": "1.5.0",
            "_model_name": "ProgressStyleModel",
            "_view_count": null,
            "_view_module": "@jupyter-widgets/base",
            "_view_module_version": "1.2.0",
            "_view_name": "StyleView",
            "bar_color": null,
            "description_width": ""
          }
        },
        "19e45663ebf041c89fb2450db7ecb860": {
          "model_module": "@jupyter-widgets/base",
          "model_name": "LayoutModel",
          "model_module_version": "1.2.0",
          "state": {
            "_model_module": "@jupyter-widgets/base",
            "_model_module_version": "1.2.0",
            "_model_name": "LayoutModel",
            "_view_count": null,
            "_view_module": "@jupyter-widgets/base",
            "_view_module_version": "1.2.0",
            "_view_name": "LayoutView",
            "align_content": null,
            "align_items": null,
            "align_self": null,
            "border": null,
            "bottom": null,
            "display": null,
            "flex": null,
            "flex_flow": null,
            "grid_area": null,
            "grid_auto_columns": null,
            "grid_auto_flow": null,
            "grid_auto_rows": null,
            "grid_column": null,
            "grid_gap": null,
            "grid_row": null,
            "grid_template_areas": null,
            "grid_template_columns": null,
            "grid_template_rows": null,
            "height": null,
            "justify_content": null,
            "justify_items": null,
            "left": null,
            "margin": null,
            "max_height": null,
            "max_width": null,
            "min_height": null,
            "min_width": null,
            "object_fit": null,
            "object_position": null,
            "order": null,
            "overflow": null,
            "overflow_x": null,
            "overflow_y": null,
            "padding": null,
            "right": null,
            "top": null,
            "visibility": null,
            "width": null
          }
        },
        "850705780c8c4297b4f2bdcd9913e304": {
          "model_module": "@jupyter-widgets/controls",
          "model_name": "DescriptionStyleModel",
          "model_module_version": "1.5.0",
          "state": {
            "_model_module": "@jupyter-widgets/controls",
            "_model_module_version": "1.5.0",
            "_model_name": "DescriptionStyleModel",
            "_view_count": null,
            "_view_module": "@jupyter-widgets/base",
            "_view_module_version": "1.2.0",
            "_view_name": "StyleView",
            "description_width": ""
          }
        },
        "fac18cf0a5f947da967932560a7c6b93": {
          "model_module": "@jupyter-widgets/controls",
          "model_name": "HBoxModel",
          "model_module_version": "1.5.0",
          "state": {
            "_dom_classes": [],
            "_model_module": "@jupyter-widgets/controls",
            "_model_module_version": "1.5.0",
            "_model_name": "HBoxModel",
            "_view_count": null,
            "_view_module": "@jupyter-widgets/controls",
            "_view_module_version": "1.5.0",
            "_view_name": "HBoxView",
            "box_style": "",
            "children": [
              "IPY_MODEL_52e25895f43b4515b1c2b513e5afa8f7",
              "IPY_MODEL_264096ee782446f9b4811328dc5b8d4f",
              "IPY_MODEL_6e35c39175de482183819c3f8a91c65e"
            ],
            "layout": "IPY_MODEL_4680885a198f48f88b4a27ecdbfdc3d8"
          }
        },
        "52e25895f43b4515b1c2b513e5afa8f7": {
          "model_module": "@jupyter-widgets/controls",
          "model_name": "HTMLModel",
          "model_module_version": "1.5.0",
          "state": {
            "_dom_classes": [],
            "_model_module": "@jupyter-widgets/controls",
            "_model_module_version": "1.5.0",
            "_model_name": "HTMLModel",
            "_view_count": null,
            "_view_module": "@jupyter-widgets/controls",
            "_view_module_version": "1.5.0",
            "_view_name": "HTMLView",
            "description": "",
            "description_tooltip": null,
            "layout": "IPY_MODEL_4c2d3db9d09743e48a817e89e3050f28",
            "placeholder": "​",
            "style": "IPY_MODEL_3b740e6d08b24440820f3de356b88424",
            "value": "Downloading (…)cial_tokens_map.json: 100%"
          }
        },
        "264096ee782446f9b4811328dc5b8d4f": {
          "model_module": "@jupyter-widgets/controls",
          "model_name": "FloatProgressModel",
          "model_module_version": "1.5.0",
          "state": {
            "_dom_classes": [],
            "_model_module": "@jupyter-widgets/controls",
            "_model_module_version": "1.5.0",
            "_model_name": "FloatProgressModel",
            "_view_count": null,
            "_view_module": "@jupyter-widgets/controls",
            "_view_module_version": "1.5.0",
            "_view_name": "ProgressView",
            "bar_style": "success",
            "description": "",
            "description_tooltip": null,
            "layout": "IPY_MODEL_2079fb44a7b74379959dc6f41d692ead",
            "max": 150,
            "min": 0,
            "orientation": "horizontal",
            "style": "IPY_MODEL_70a8dc82826a4cff94d51cf59f932b7b",
            "value": 150
          }
        },
        "6e35c39175de482183819c3f8a91c65e": {
          "model_module": "@jupyter-widgets/controls",
          "model_name": "HTMLModel",
          "model_module_version": "1.5.0",
          "state": {
            "_dom_classes": [],
            "_model_module": "@jupyter-widgets/controls",
            "_model_module_version": "1.5.0",
            "_model_name": "HTMLModel",
            "_view_count": null,
            "_view_module": "@jupyter-widgets/controls",
            "_view_module_version": "1.5.0",
            "_view_name": "HTMLView",
            "description": "",
            "description_tooltip": null,
            "layout": "IPY_MODEL_508a4fdf15dd4e7b9999b4ce04d4df2c",
            "placeholder": "​",
            "style": "IPY_MODEL_c821445b9d474269b7f7f08af389f5ab",
            "value": " 150/150 [00:00&lt;00:00, 3.76kB/s]"
          }
        },
        "4680885a198f48f88b4a27ecdbfdc3d8": {
          "model_module": "@jupyter-widgets/base",
          "model_name": "LayoutModel",
          "model_module_version": "1.2.0",
          "state": {
            "_model_module": "@jupyter-widgets/base",
            "_model_module_version": "1.2.0",
            "_model_name": "LayoutModel",
            "_view_count": null,
            "_view_module": "@jupyter-widgets/base",
            "_view_module_version": "1.2.0",
            "_view_name": "LayoutView",
            "align_content": null,
            "align_items": null,
            "align_self": null,
            "border": null,
            "bottom": null,
            "display": null,
            "flex": null,
            "flex_flow": null,
            "grid_area": null,
            "grid_auto_columns": null,
            "grid_auto_flow": null,
            "grid_auto_rows": null,
            "grid_column": null,
            "grid_gap": null,
            "grid_row": null,
            "grid_template_areas": null,
            "grid_template_columns": null,
            "grid_template_rows": null,
            "height": null,
            "justify_content": null,
            "justify_items": null,
            "left": null,
            "margin": null,
            "max_height": null,
            "max_width": null,
            "min_height": null,
            "min_width": null,
            "object_fit": null,
            "object_position": null,
            "order": null,
            "overflow": null,
            "overflow_x": null,
            "overflow_y": null,
            "padding": null,
            "right": null,
            "top": null,
            "visibility": null,
            "width": null
          }
        },
        "4c2d3db9d09743e48a817e89e3050f28": {
          "model_module": "@jupyter-widgets/base",
          "model_name": "LayoutModel",
          "model_module_version": "1.2.0",
          "state": {
            "_model_module": "@jupyter-widgets/base",
            "_model_module_version": "1.2.0",
            "_model_name": "LayoutModel",
            "_view_count": null,
            "_view_module": "@jupyter-widgets/base",
            "_view_module_version": "1.2.0",
            "_view_name": "LayoutView",
            "align_content": null,
            "align_items": null,
            "align_self": null,
            "border": null,
            "bottom": null,
            "display": null,
            "flex": null,
            "flex_flow": null,
            "grid_area": null,
            "grid_auto_columns": null,
            "grid_auto_flow": null,
            "grid_auto_rows": null,
            "grid_column": null,
            "grid_gap": null,
            "grid_row": null,
            "grid_template_areas": null,
            "grid_template_columns": null,
            "grid_template_rows": null,
            "height": null,
            "justify_content": null,
            "justify_items": null,
            "left": null,
            "margin": null,
            "max_height": null,
            "max_width": null,
            "min_height": null,
            "min_width": null,
            "object_fit": null,
            "object_position": null,
            "order": null,
            "overflow": null,
            "overflow_x": null,
            "overflow_y": null,
            "padding": null,
            "right": null,
            "top": null,
            "visibility": null,
            "width": null
          }
        },
        "3b740e6d08b24440820f3de356b88424": {
          "model_module": "@jupyter-widgets/controls",
          "model_name": "DescriptionStyleModel",
          "model_module_version": "1.5.0",
          "state": {
            "_model_module": "@jupyter-widgets/controls",
            "_model_module_version": "1.5.0",
            "_model_name": "DescriptionStyleModel",
            "_view_count": null,
            "_view_module": "@jupyter-widgets/base",
            "_view_module_version": "1.2.0",
            "_view_name": "StyleView",
            "description_width": ""
          }
        },
        "2079fb44a7b74379959dc6f41d692ead": {
          "model_module": "@jupyter-widgets/base",
          "model_name": "LayoutModel",
          "model_module_version": "1.2.0",
          "state": {
            "_model_module": "@jupyter-widgets/base",
            "_model_module_version": "1.2.0",
            "_model_name": "LayoutModel",
            "_view_count": null,
            "_view_module": "@jupyter-widgets/base",
            "_view_module_version": "1.2.0",
            "_view_name": "LayoutView",
            "align_content": null,
            "align_items": null,
            "align_self": null,
            "border": null,
            "bottom": null,
            "display": null,
            "flex": null,
            "flex_flow": null,
            "grid_area": null,
            "grid_auto_columns": null,
            "grid_auto_flow": null,
            "grid_auto_rows": null,
            "grid_column": null,
            "grid_gap": null,
            "grid_row": null,
            "grid_template_areas": null,
            "grid_template_columns": null,
            "grid_template_rows": null,
            "height": null,
            "justify_content": null,
            "justify_items": null,
            "left": null,
            "margin": null,
            "max_height": null,
            "max_width": null,
            "min_height": null,
            "min_width": null,
            "object_fit": null,
            "object_position": null,
            "order": null,
            "overflow": null,
            "overflow_x": null,
            "overflow_y": null,
            "padding": null,
            "right": null,
            "top": null,
            "visibility": null,
            "width": null
          }
        },
        "70a8dc82826a4cff94d51cf59f932b7b": {
          "model_module": "@jupyter-widgets/controls",
          "model_name": "ProgressStyleModel",
          "model_module_version": "1.5.0",
          "state": {
            "_model_module": "@jupyter-widgets/controls",
            "_model_module_version": "1.5.0",
            "_model_name": "ProgressStyleModel",
            "_view_count": null,
            "_view_module": "@jupyter-widgets/base",
            "_view_module_version": "1.2.0",
            "_view_name": "StyleView",
            "bar_color": null,
            "description_width": ""
          }
        },
        "508a4fdf15dd4e7b9999b4ce04d4df2c": {
          "model_module": "@jupyter-widgets/base",
          "model_name": "LayoutModel",
          "model_module_version": "1.2.0",
          "state": {
            "_model_module": "@jupyter-widgets/base",
            "_model_module_version": "1.2.0",
            "_model_name": "LayoutModel",
            "_view_count": null,
            "_view_module": "@jupyter-widgets/base",
            "_view_module_version": "1.2.0",
            "_view_name": "LayoutView",
            "align_content": null,
            "align_items": null,
            "align_self": null,
            "border": null,
            "bottom": null,
            "display": null,
            "flex": null,
            "flex_flow": null,
            "grid_area": null,
            "grid_auto_columns": null,
            "grid_auto_flow": null,
            "grid_auto_rows": null,
            "grid_column": null,
            "grid_gap": null,
            "grid_row": null,
            "grid_template_areas": null,
            "grid_template_columns": null,
            "grid_template_rows": null,
            "height": null,
            "justify_content": null,
            "justify_items": null,
            "left": null,
            "margin": null,
            "max_height": null,
            "max_width": null,
            "min_height": null,
            "min_width": null,
            "object_fit": null,
            "object_position": null,
            "order": null,
            "overflow": null,
            "overflow_x": null,
            "overflow_y": null,
            "padding": null,
            "right": null,
            "top": null,
            "visibility": null,
            "width": null
          }
        },
        "c821445b9d474269b7f7f08af389f5ab": {
          "model_module": "@jupyter-widgets/controls",
          "model_name": "DescriptionStyleModel",
          "model_module_version": "1.5.0",
          "state": {
            "_model_module": "@jupyter-widgets/controls",
            "_model_module_version": "1.5.0",
            "_model_name": "DescriptionStyleModel",
            "_view_count": null,
            "_view_module": "@jupyter-widgets/base",
            "_view_module_version": "1.2.0",
            "_view_name": "StyleView",
            "description_width": ""
          }
        },
        "3e853a041eaa485384e6f86b705acb44": {
          "model_module": "@jupyter-widgets/controls",
          "model_name": "HBoxModel",
          "model_module_version": "1.5.0",
          "state": {
            "_dom_classes": [],
            "_model_module": "@jupyter-widgets/controls",
            "_model_module_version": "1.5.0",
            "_model_name": "HBoxModel",
            "_view_count": null,
            "_view_module": "@jupyter-widgets/controls",
            "_view_module_version": "1.5.0",
            "_view_name": "HBoxView",
            "box_style": "",
            "children": [
              "IPY_MODEL_4b5cce74008d48569d728a3dab89d2a7",
              "IPY_MODEL_bb7cc2447c2c4d9291a4ddc880dec5da",
              "IPY_MODEL_c2dbfc1edc5a4c449e06d75be12fe7d3"
            ],
            "layout": "IPY_MODEL_b7dee9bdd78945a4b5628b92103f6ce5"
          }
        },
        "4b5cce74008d48569d728a3dab89d2a7": {
          "model_module": "@jupyter-widgets/controls",
          "model_name": "HTMLModel",
          "model_module_version": "1.5.0",
          "state": {
            "_dom_classes": [],
            "_model_module": "@jupyter-widgets/controls",
            "_model_module_version": "1.5.0",
            "_model_name": "HTMLModel",
            "_view_count": null,
            "_view_module": "@jupyter-widgets/controls",
            "_view_module_version": "1.5.0",
            "_view_name": "HTMLView",
            "description": "",
            "description_tooltip": null,
            "layout": "IPY_MODEL_453364b3785d47efbe56a3447794c5f5",
            "placeholder": "​",
            "style": "IPY_MODEL_ee769952dfea4c599c236d7808d09b61",
            "value": "Downloading pytorch_model.bin: 100%"
          }
        },
        "bb7cc2447c2c4d9291a4ddc880dec5da": {
          "model_module": "@jupyter-widgets/controls",
          "model_name": "FloatProgressModel",
          "model_module_version": "1.5.0",
          "state": {
            "_dom_classes": [],
            "_model_module": "@jupyter-widgets/controls",
            "_model_module_version": "1.5.0",
            "_model_name": "FloatProgressModel",
            "_view_count": null,
            "_view_module": "@jupyter-widgets/controls",
            "_view_module_version": "1.5.0",
            "_view_name": "ProgressView",
            "bar_style": "success",
            "description": "",
            "description_tooltip": null,
            "layout": "IPY_MODEL_8f890a4766594592b4cc5b1db719ba84",
            "max": 498679497,
            "min": 0,
            "orientation": "horizontal",
            "style": "IPY_MODEL_8a36d917a4574e83af2df4ad9ede3077",
            "value": 498679497
          }
        },
        "c2dbfc1edc5a4c449e06d75be12fe7d3": {
          "model_module": "@jupyter-widgets/controls",
          "model_name": "HTMLModel",
          "model_module_version": "1.5.0",
          "state": {
            "_dom_classes": [],
            "_model_module": "@jupyter-widgets/controls",
            "_model_module_version": "1.5.0",
            "_model_name": "HTMLModel",
            "_view_count": null,
            "_view_module": "@jupyter-widgets/controls",
            "_view_module_version": "1.5.0",
            "_view_name": "HTMLView",
            "description": "",
            "description_tooltip": null,
            "layout": "IPY_MODEL_9c4f6bdc0c8b4d8593bec135ad938d5c",
            "placeholder": "​",
            "style": "IPY_MODEL_fc0b3b272870462cab961737d90ca14d",
            "value": " 499M/499M [00:05&lt;00:00, 104MB/s]"
          }
        },
        "b7dee9bdd78945a4b5628b92103f6ce5": {
          "model_module": "@jupyter-widgets/base",
          "model_name": "LayoutModel",
          "model_module_version": "1.2.0",
          "state": {
            "_model_module": "@jupyter-widgets/base",
            "_model_module_version": "1.2.0",
            "_model_name": "LayoutModel",
            "_view_count": null,
            "_view_module": "@jupyter-widgets/base",
            "_view_module_version": "1.2.0",
            "_view_name": "LayoutView",
            "align_content": null,
            "align_items": null,
            "align_self": null,
            "border": null,
            "bottom": null,
            "display": null,
            "flex": null,
            "flex_flow": null,
            "grid_area": null,
            "grid_auto_columns": null,
            "grid_auto_flow": null,
            "grid_auto_rows": null,
            "grid_column": null,
            "grid_gap": null,
            "grid_row": null,
            "grid_template_areas": null,
            "grid_template_columns": null,
            "grid_template_rows": null,
            "height": null,
            "justify_content": null,
            "justify_items": null,
            "left": null,
            "margin": null,
            "max_height": null,
            "max_width": null,
            "min_height": null,
            "min_width": null,
            "object_fit": null,
            "object_position": null,
            "order": null,
            "overflow": null,
            "overflow_x": null,
            "overflow_y": null,
            "padding": null,
            "right": null,
            "top": null,
            "visibility": null,
            "width": null
          }
        },
        "453364b3785d47efbe56a3447794c5f5": {
          "model_module": "@jupyter-widgets/base",
          "model_name": "LayoutModel",
          "model_module_version": "1.2.0",
          "state": {
            "_model_module": "@jupyter-widgets/base",
            "_model_module_version": "1.2.0",
            "_model_name": "LayoutModel",
            "_view_count": null,
            "_view_module": "@jupyter-widgets/base",
            "_view_module_version": "1.2.0",
            "_view_name": "LayoutView",
            "align_content": null,
            "align_items": null,
            "align_self": null,
            "border": null,
            "bottom": null,
            "display": null,
            "flex": null,
            "flex_flow": null,
            "grid_area": null,
            "grid_auto_columns": null,
            "grid_auto_flow": null,
            "grid_auto_rows": null,
            "grid_column": null,
            "grid_gap": null,
            "grid_row": null,
            "grid_template_areas": null,
            "grid_template_columns": null,
            "grid_template_rows": null,
            "height": null,
            "justify_content": null,
            "justify_items": null,
            "left": null,
            "margin": null,
            "max_height": null,
            "max_width": null,
            "min_height": null,
            "min_width": null,
            "object_fit": null,
            "object_position": null,
            "order": null,
            "overflow": null,
            "overflow_x": null,
            "overflow_y": null,
            "padding": null,
            "right": null,
            "top": null,
            "visibility": null,
            "width": null
          }
        },
        "ee769952dfea4c599c236d7808d09b61": {
          "model_module": "@jupyter-widgets/controls",
          "model_name": "DescriptionStyleModel",
          "model_module_version": "1.5.0",
          "state": {
            "_model_module": "@jupyter-widgets/controls",
            "_model_module_version": "1.5.0",
            "_model_name": "DescriptionStyleModel",
            "_view_count": null,
            "_view_module": "@jupyter-widgets/base",
            "_view_module_version": "1.2.0",
            "_view_name": "StyleView",
            "description_width": ""
          }
        },
        "8f890a4766594592b4cc5b1db719ba84": {
          "model_module": "@jupyter-widgets/base",
          "model_name": "LayoutModel",
          "model_module_version": "1.2.0",
          "state": {
            "_model_module": "@jupyter-widgets/base",
            "_model_module_version": "1.2.0",
            "_model_name": "LayoutModel",
            "_view_count": null,
            "_view_module": "@jupyter-widgets/base",
            "_view_module_version": "1.2.0",
            "_view_name": "LayoutView",
            "align_content": null,
            "align_items": null,
            "align_self": null,
            "border": null,
            "bottom": null,
            "display": null,
            "flex": null,
            "flex_flow": null,
            "grid_area": null,
            "grid_auto_columns": null,
            "grid_auto_flow": null,
            "grid_auto_rows": null,
            "grid_column": null,
            "grid_gap": null,
            "grid_row": null,
            "grid_template_areas": null,
            "grid_template_columns": null,
            "grid_template_rows": null,
            "height": null,
            "justify_content": null,
            "justify_items": null,
            "left": null,
            "margin": null,
            "max_height": null,
            "max_width": null,
            "min_height": null,
            "min_width": null,
            "object_fit": null,
            "object_position": null,
            "order": null,
            "overflow": null,
            "overflow_x": null,
            "overflow_y": null,
            "padding": null,
            "right": null,
            "top": null,
            "visibility": null,
            "width": null
          }
        },
        "8a36d917a4574e83af2df4ad9ede3077": {
          "model_module": "@jupyter-widgets/controls",
          "model_name": "ProgressStyleModel",
          "model_module_version": "1.5.0",
          "state": {
            "_model_module": "@jupyter-widgets/controls",
            "_model_module_version": "1.5.0",
            "_model_name": "ProgressStyleModel",
            "_view_count": null,
            "_view_module": "@jupyter-widgets/base",
            "_view_module_version": "1.2.0",
            "_view_name": "StyleView",
            "bar_color": null,
            "description_width": ""
          }
        },
        "9c4f6bdc0c8b4d8593bec135ad938d5c": {
          "model_module": "@jupyter-widgets/base",
          "model_name": "LayoutModel",
          "model_module_version": "1.2.0",
          "state": {
            "_model_module": "@jupyter-widgets/base",
            "_model_module_version": "1.2.0",
            "_model_name": "LayoutModel",
            "_view_count": null,
            "_view_module": "@jupyter-widgets/base",
            "_view_module_version": "1.2.0",
            "_view_name": "LayoutView",
            "align_content": null,
            "align_items": null,
            "align_self": null,
            "border": null,
            "bottom": null,
            "display": null,
            "flex": null,
            "flex_flow": null,
            "grid_area": null,
            "grid_auto_columns": null,
            "grid_auto_flow": null,
            "grid_auto_rows": null,
            "grid_column": null,
            "grid_gap": null,
            "grid_row": null,
            "grid_template_areas": null,
            "grid_template_columns": null,
            "grid_template_rows": null,
            "height": null,
            "justify_content": null,
            "justify_items": null,
            "left": null,
            "margin": null,
            "max_height": null,
            "max_width": null,
            "min_height": null,
            "min_width": null,
            "object_fit": null,
            "object_position": null,
            "order": null,
            "overflow": null,
            "overflow_x": null,
            "overflow_y": null,
            "padding": null,
            "right": null,
            "top": null,
            "visibility": null,
            "width": null
          }
        },
        "fc0b3b272870462cab961737d90ca14d": {
          "model_module": "@jupyter-widgets/controls",
          "model_name": "DescriptionStyleModel",
          "model_module_version": "1.5.0",
          "state": {
            "_model_module": "@jupyter-widgets/controls",
            "_model_module_version": "1.5.0",
            "_model_name": "DescriptionStyleModel",
            "_view_count": null,
            "_view_module": "@jupyter-widgets/base",
            "_view_module_version": "1.2.0",
            "_view_name": "StyleView",
            "description_width": ""
          }
        },
        "e500185d9a9e45e3b0c64d4a235d9292": {
          "model_module": "@jupyter-widgets/controls",
          "model_name": "HBoxModel",
          "model_module_version": "1.5.0",
          "state": {
            "_dom_classes": [],
            "_model_module": "@jupyter-widgets/controls",
            "_model_module_version": "1.5.0",
            "_model_name": "HBoxModel",
            "_view_count": null,
            "_view_module": "@jupyter-widgets/controls",
            "_view_module_version": "1.5.0",
            "_view_name": "HBoxView",
            "box_style": "",
            "children": [
              "IPY_MODEL_32df97c8d3444789b8d3ebe12ea951c5",
              "IPY_MODEL_26e889fc574747aa94ecf9c9a0357bcd",
              "IPY_MODEL_66133c1411664184ab9cc8589be057b8"
            ],
            "layout": "IPY_MODEL_f7894459e4ea4d03b614621b036c0b3e"
          }
        },
        "32df97c8d3444789b8d3ebe12ea951c5": {
          "model_module": "@jupyter-widgets/controls",
          "model_name": "HTMLModel",
          "model_module_version": "1.5.0",
          "state": {
            "_dom_classes": [],
            "_model_module": "@jupyter-widgets/controls",
            "_model_module_version": "1.5.0",
            "_model_name": "HTMLModel",
            "_view_count": null,
            "_view_module": "@jupyter-widgets/controls",
            "_view_module_version": "1.5.0",
            "_view_name": "HTMLView",
            "description": "",
            "description_tooltip": null,
            "layout": "IPY_MODEL_3929fa7df6684e0bb07520c7a4d32e05",
            "placeholder": "​",
            "style": "IPY_MODEL_59bdb2ea57394a079a8f02ce700f6bde",
            "value": "100%"
          }
        },
        "26e889fc574747aa94ecf9c9a0357bcd": {
          "model_module": "@jupyter-widgets/controls",
          "model_name": "FloatProgressModel",
          "model_module_version": "1.5.0",
          "state": {
            "_dom_classes": [],
            "_model_module": "@jupyter-widgets/controls",
            "_model_module_version": "1.5.0",
            "_model_name": "FloatProgressModel",
            "_view_count": null,
            "_view_module": "@jupyter-widgets/controls",
            "_view_module_version": "1.5.0",
            "_view_name": "ProgressView",
            "bar_style": "success",
            "description": "",
            "description_tooltip": null,
            "layout": "IPY_MODEL_558c16bf3e5d451db79f5124b5fc80a0",
            "max": 500,
            "min": 0,
            "orientation": "horizontal",
            "style": "IPY_MODEL_f3ac90ac0a24406dbdc56431428c61e5",
            "value": 500
          }
        },
        "66133c1411664184ab9cc8589be057b8": {
          "model_module": "@jupyter-widgets/controls",
          "model_name": "HTMLModel",
          "model_module_version": "1.5.0",
          "state": {
            "_dom_classes": [],
            "_model_module": "@jupyter-widgets/controls",
            "_model_module_version": "1.5.0",
            "_model_name": "HTMLModel",
            "_view_count": null,
            "_view_module": "@jupyter-widgets/controls",
            "_view_module_version": "1.5.0",
            "_view_name": "HTMLView",
            "description": "",
            "description_tooltip": null,
            "layout": "IPY_MODEL_ca2a41480663428ca2bca80f5ee0c4ad",
            "placeholder": "​",
            "style": "IPY_MODEL_3ce1a549f9c147c79c490d2ab6cd38ff",
            "value": " 500/500 [03:04&lt;00:00,  3.15it/s]"
          }
        },
        "f7894459e4ea4d03b614621b036c0b3e": {
          "model_module": "@jupyter-widgets/base",
          "model_name": "LayoutModel",
          "model_module_version": "1.2.0",
          "state": {
            "_model_module": "@jupyter-widgets/base",
            "_model_module_version": "1.2.0",
            "_model_name": "LayoutModel",
            "_view_count": null,
            "_view_module": "@jupyter-widgets/base",
            "_view_module_version": "1.2.0",
            "_view_name": "LayoutView",
            "align_content": null,
            "align_items": null,
            "align_self": null,
            "border": null,
            "bottom": null,
            "display": null,
            "flex": null,
            "flex_flow": null,
            "grid_area": null,
            "grid_auto_columns": null,
            "grid_auto_flow": null,
            "grid_auto_rows": null,
            "grid_column": null,
            "grid_gap": null,
            "grid_row": null,
            "grid_template_areas": null,
            "grid_template_columns": null,
            "grid_template_rows": null,
            "height": null,
            "justify_content": null,
            "justify_items": null,
            "left": null,
            "margin": null,
            "max_height": null,
            "max_width": null,
            "min_height": null,
            "min_width": null,
            "object_fit": null,
            "object_position": null,
            "order": null,
            "overflow": null,
            "overflow_x": null,
            "overflow_y": null,
            "padding": null,
            "right": null,
            "top": null,
            "visibility": null,
            "width": null
          }
        },
        "3929fa7df6684e0bb07520c7a4d32e05": {
          "model_module": "@jupyter-widgets/base",
          "model_name": "LayoutModel",
          "model_module_version": "1.2.0",
          "state": {
            "_model_module": "@jupyter-widgets/base",
            "_model_module_version": "1.2.0",
            "_model_name": "LayoutModel",
            "_view_count": null,
            "_view_module": "@jupyter-widgets/base",
            "_view_module_version": "1.2.0",
            "_view_name": "LayoutView",
            "align_content": null,
            "align_items": null,
            "align_self": null,
            "border": null,
            "bottom": null,
            "display": null,
            "flex": null,
            "flex_flow": null,
            "grid_area": null,
            "grid_auto_columns": null,
            "grid_auto_flow": null,
            "grid_auto_rows": null,
            "grid_column": null,
            "grid_gap": null,
            "grid_row": null,
            "grid_template_areas": null,
            "grid_template_columns": null,
            "grid_template_rows": null,
            "height": null,
            "justify_content": null,
            "justify_items": null,
            "left": null,
            "margin": null,
            "max_height": null,
            "max_width": null,
            "min_height": null,
            "min_width": null,
            "object_fit": null,
            "object_position": null,
            "order": null,
            "overflow": null,
            "overflow_x": null,
            "overflow_y": null,
            "padding": null,
            "right": null,
            "top": null,
            "visibility": null,
            "width": null
          }
        },
        "59bdb2ea57394a079a8f02ce700f6bde": {
          "model_module": "@jupyter-widgets/controls",
          "model_name": "DescriptionStyleModel",
          "model_module_version": "1.5.0",
          "state": {
            "_model_module": "@jupyter-widgets/controls",
            "_model_module_version": "1.5.0",
            "_model_name": "DescriptionStyleModel",
            "_view_count": null,
            "_view_module": "@jupyter-widgets/base",
            "_view_module_version": "1.2.0",
            "_view_name": "StyleView",
            "description_width": ""
          }
        },
        "558c16bf3e5d451db79f5124b5fc80a0": {
          "model_module": "@jupyter-widgets/base",
          "model_name": "LayoutModel",
          "model_module_version": "1.2.0",
          "state": {
            "_model_module": "@jupyter-widgets/base",
            "_model_module_version": "1.2.0",
            "_model_name": "LayoutModel",
            "_view_count": null,
            "_view_module": "@jupyter-widgets/base",
            "_view_module_version": "1.2.0",
            "_view_name": "LayoutView",
            "align_content": null,
            "align_items": null,
            "align_self": null,
            "border": null,
            "bottom": null,
            "display": null,
            "flex": null,
            "flex_flow": null,
            "grid_area": null,
            "grid_auto_columns": null,
            "grid_auto_flow": null,
            "grid_auto_rows": null,
            "grid_column": null,
            "grid_gap": null,
            "grid_row": null,
            "grid_template_areas": null,
            "grid_template_columns": null,
            "grid_template_rows": null,
            "height": null,
            "justify_content": null,
            "justify_items": null,
            "left": null,
            "margin": null,
            "max_height": null,
            "max_width": null,
            "min_height": null,
            "min_width": null,
            "object_fit": null,
            "object_position": null,
            "order": null,
            "overflow": null,
            "overflow_x": null,
            "overflow_y": null,
            "padding": null,
            "right": null,
            "top": null,
            "visibility": null,
            "width": null
          }
        },
        "f3ac90ac0a24406dbdc56431428c61e5": {
          "model_module": "@jupyter-widgets/controls",
          "model_name": "ProgressStyleModel",
          "model_module_version": "1.5.0",
          "state": {
            "_model_module": "@jupyter-widgets/controls",
            "_model_module_version": "1.5.0",
            "_model_name": "ProgressStyleModel",
            "_view_count": null,
            "_view_module": "@jupyter-widgets/base",
            "_view_module_version": "1.2.0",
            "_view_name": "StyleView",
            "bar_color": null,
            "description_width": ""
          }
        },
        "ca2a41480663428ca2bca80f5ee0c4ad": {
          "model_module": "@jupyter-widgets/base",
          "model_name": "LayoutModel",
          "model_module_version": "1.2.0",
          "state": {
            "_model_module": "@jupyter-widgets/base",
            "_model_module_version": "1.2.0",
            "_model_name": "LayoutModel",
            "_view_count": null,
            "_view_module": "@jupyter-widgets/base",
            "_view_module_version": "1.2.0",
            "_view_name": "LayoutView",
            "align_content": null,
            "align_items": null,
            "align_self": null,
            "border": null,
            "bottom": null,
            "display": null,
            "flex": null,
            "flex_flow": null,
            "grid_area": null,
            "grid_auto_columns": null,
            "grid_auto_flow": null,
            "grid_auto_rows": null,
            "grid_column": null,
            "grid_gap": null,
            "grid_row": null,
            "grid_template_areas": null,
            "grid_template_columns": null,
            "grid_template_rows": null,
            "height": null,
            "justify_content": null,
            "justify_items": null,
            "left": null,
            "margin": null,
            "max_height": null,
            "max_width": null,
            "min_height": null,
            "min_width": null,
            "object_fit": null,
            "object_position": null,
            "order": null,
            "overflow": null,
            "overflow_x": null,
            "overflow_y": null,
            "padding": null,
            "right": null,
            "top": null,
            "visibility": null,
            "width": null
          }
        },
        "3ce1a549f9c147c79c490d2ab6cd38ff": {
          "model_module": "@jupyter-widgets/controls",
          "model_name": "DescriptionStyleModel",
          "model_module_version": "1.5.0",
          "state": {
            "_model_module": "@jupyter-widgets/controls",
            "_model_module_version": "1.5.0",
            "_model_name": "DescriptionStyleModel",
            "_view_count": null,
            "_view_module": "@jupyter-widgets/base",
            "_view_module_version": "1.2.0",
            "_view_name": "StyleView",
            "description_width": ""
          }
        },
        "c7e1ca13ff7e45e4bb3f9d7629a5d555": {
          "model_module": "@jupyter-widgets/controls",
          "model_name": "HBoxModel",
          "model_module_version": "1.5.0",
          "state": {
            "_dom_classes": [],
            "_model_module": "@jupyter-widgets/controls",
            "_model_module_version": "1.5.0",
            "_model_name": "HBoxModel",
            "_view_count": null,
            "_view_module": "@jupyter-widgets/controls",
            "_view_module_version": "1.5.0",
            "_view_name": "HBoxView",
            "box_style": "",
            "children": [
              "IPY_MODEL_50f4091f002347d68a3b76a747b5a955",
              "IPY_MODEL_1d0b7141f903499e83a3660ac534bd14",
              "IPY_MODEL_0f2ab9fc0a2d401bb373879ecb6c0d82"
            ],
            "layout": "IPY_MODEL_1bc4511584e843cf8939911387f081ca"
          }
        },
        "50f4091f002347d68a3b76a747b5a955": {
          "model_module": "@jupyter-widgets/controls",
          "model_name": "HTMLModel",
          "model_module_version": "1.5.0",
          "state": {
            "_dom_classes": [],
            "_model_module": "@jupyter-widgets/controls",
            "_model_module_version": "1.5.0",
            "_model_name": "HTMLModel",
            "_view_count": null,
            "_view_module": "@jupyter-widgets/controls",
            "_view_module_version": "1.5.0",
            "_view_name": "HTMLView",
            "description": "",
            "description_tooltip": null,
            "layout": "IPY_MODEL_074f9795486348cd93a5a199e5cb801b",
            "placeholder": "​",
            "style": "IPY_MODEL_56c305643d5d408bad82a367d5105226",
            "value": "Downloading (…)lve/main/config.json: 100%"
          }
        },
        "1d0b7141f903499e83a3660ac534bd14": {
          "model_module": "@jupyter-widgets/controls",
          "model_name": "FloatProgressModel",
          "model_module_version": "1.5.0",
          "state": {
            "_dom_classes": [],
            "_model_module": "@jupyter-widgets/controls",
            "_model_module_version": "1.5.0",
            "_model_name": "FloatProgressModel",
            "_view_count": null,
            "_view_module": "@jupyter-widgets/controls",
            "_view_module_version": "1.5.0",
            "_view_name": "ProgressView",
            "bar_style": "success",
            "description": "",
            "description_tooltip": null,
            "layout": "IPY_MODEL_01957d36eb024374b7d809b37470c925",
            "max": 629,
            "min": 0,
            "orientation": "horizontal",
            "style": "IPY_MODEL_d5267ce54bfb4ff39292e60bcbc8f067",
            "value": 629
          }
        },
        "0f2ab9fc0a2d401bb373879ecb6c0d82": {
          "model_module": "@jupyter-widgets/controls",
          "model_name": "HTMLModel",
          "model_module_version": "1.5.0",
          "state": {
            "_dom_classes": [],
            "_model_module": "@jupyter-widgets/controls",
            "_model_module_version": "1.5.0",
            "_model_name": "HTMLModel",
            "_view_count": null,
            "_view_module": "@jupyter-widgets/controls",
            "_view_module_version": "1.5.0",
            "_view_name": "HTMLView",
            "description": "",
            "description_tooltip": null,
            "layout": "IPY_MODEL_b47ab27c1625408f956b9f08352f6d30",
            "placeholder": "​",
            "style": "IPY_MODEL_f81df5ab60ac4d4c93cfe357fd43139b",
            "value": " 629/629 [00:00&lt;00:00, 37.4kB/s]"
          }
        },
        "1bc4511584e843cf8939911387f081ca": {
          "model_module": "@jupyter-widgets/base",
          "model_name": "LayoutModel",
          "model_module_version": "1.2.0",
          "state": {
            "_model_module": "@jupyter-widgets/base",
            "_model_module_version": "1.2.0",
            "_model_name": "LayoutModel",
            "_view_count": null,
            "_view_module": "@jupyter-widgets/base",
            "_view_module_version": "1.2.0",
            "_view_name": "LayoutView",
            "align_content": null,
            "align_items": null,
            "align_self": null,
            "border": null,
            "bottom": null,
            "display": null,
            "flex": null,
            "flex_flow": null,
            "grid_area": null,
            "grid_auto_columns": null,
            "grid_auto_flow": null,
            "grid_auto_rows": null,
            "grid_column": null,
            "grid_gap": null,
            "grid_row": null,
            "grid_template_areas": null,
            "grid_template_columns": null,
            "grid_template_rows": null,
            "height": null,
            "justify_content": null,
            "justify_items": null,
            "left": null,
            "margin": null,
            "max_height": null,
            "max_width": null,
            "min_height": null,
            "min_width": null,
            "object_fit": null,
            "object_position": null,
            "order": null,
            "overflow": null,
            "overflow_x": null,
            "overflow_y": null,
            "padding": null,
            "right": null,
            "top": null,
            "visibility": null,
            "width": null
          }
        },
        "074f9795486348cd93a5a199e5cb801b": {
          "model_module": "@jupyter-widgets/base",
          "model_name": "LayoutModel",
          "model_module_version": "1.2.0",
          "state": {
            "_model_module": "@jupyter-widgets/base",
            "_model_module_version": "1.2.0",
            "_model_name": "LayoutModel",
            "_view_count": null,
            "_view_module": "@jupyter-widgets/base",
            "_view_module_version": "1.2.0",
            "_view_name": "LayoutView",
            "align_content": null,
            "align_items": null,
            "align_self": null,
            "border": null,
            "bottom": null,
            "display": null,
            "flex": null,
            "flex_flow": null,
            "grid_area": null,
            "grid_auto_columns": null,
            "grid_auto_flow": null,
            "grid_auto_rows": null,
            "grid_column": null,
            "grid_gap": null,
            "grid_row": null,
            "grid_template_areas": null,
            "grid_template_columns": null,
            "grid_template_rows": null,
            "height": null,
            "justify_content": null,
            "justify_items": null,
            "left": null,
            "margin": null,
            "max_height": null,
            "max_width": null,
            "min_height": null,
            "min_width": null,
            "object_fit": null,
            "object_position": null,
            "order": null,
            "overflow": null,
            "overflow_x": null,
            "overflow_y": null,
            "padding": null,
            "right": null,
            "top": null,
            "visibility": null,
            "width": null
          }
        },
        "56c305643d5d408bad82a367d5105226": {
          "model_module": "@jupyter-widgets/controls",
          "model_name": "DescriptionStyleModel",
          "model_module_version": "1.5.0",
          "state": {
            "_model_module": "@jupyter-widgets/controls",
            "_model_module_version": "1.5.0",
            "_model_name": "DescriptionStyleModel",
            "_view_count": null,
            "_view_module": "@jupyter-widgets/base",
            "_view_module_version": "1.2.0",
            "_view_name": "StyleView",
            "description_width": ""
          }
        },
        "01957d36eb024374b7d809b37470c925": {
          "model_module": "@jupyter-widgets/base",
          "model_name": "LayoutModel",
          "model_module_version": "1.2.0",
          "state": {
            "_model_module": "@jupyter-widgets/base",
            "_model_module_version": "1.2.0",
            "_model_name": "LayoutModel",
            "_view_count": null,
            "_view_module": "@jupyter-widgets/base",
            "_view_module_version": "1.2.0",
            "_view_name": "LayoutView",
            "align_content": null,
            "align_items": null,
            "align_self": null,
            "border": null,
            "bottom": null,
            "display": null,
            "flex": null,
            "flex_flow": null,
            "grid_area": null,
            "grid_auto_columns": null,
            "grid_auto_flow": null,
            "grid_auto_rows": null,
            "grid_column": null,
            "grid_gap": null,
            "grid_row": null,
            "grid_template_areas": null,
            "grid_template_columns": null,
            "grid_template_rows": null,
            "height": null,
            "justify_content": null,
            "justify_items": null,
            "left": null,
            "margin": null,
            "max_height": null,
            "max_width": null,
            "min_height": null,
            "min_width": null,
            "object_fit": null,
            "object_position": null,
            "order": null,
            "overflow": null,
            "overflow_x": null,
            "overflow_y": null,
            "padding": null,
            "right": null,
            "top": null,
            "visibility": null,
            "width": null
          }
        },
        "d5267ce54bfb4ff39292e60bcbc8f067": {
          "model_module": "@jupyter-widgets/controls",
          "model_name": "ProgressStyleModel",
          "model_module_version": "1.5.0",
          "state": {
            "_model_module": "@jupyter-widgets/controls",
            "_model_module_version": "1.5.0",
            "_model_name": "ProgressStyleModel",
            "_view_count": null,
            "_view_module": "@jupyter-widgets/base",
            "_view_module_version": "1.2.0",
            "_view_name": "StyleView",
            "bar_color": null,
            "description_width": ""
          }
        },
        "b47ab27c1625408f956b9f08352f6d30": {
          "model_module": "@jupyter-widgets/base",
          "model_name": "LayoutModel",
          "model_module_version": "1.2.0",
          "state": {
            "_model_module": "@jupyter-widgets/base",
            "_model_module_version": "1.2.0",
            "_model_name": "LayoutModel",
            "_view_count": null,
            "_view_module": "@jupyter-widgets/base",
            "_view_module_version": "1.2.0",
            "_view_name": "LayoutView",
            "align_content": null,
            "align_items": null,
            "align_self": null,
            "border": null,
            "bottom": null,
            "display": null,
            "flex": null,
            "flex_flow": null,
            "grid_area": null,
            "grid_auto_columns": null,
            "grid_auto_flow": null,
            "grid_auto_rows": null,
            "grid_column": null,
            "grid_gap": null,
            "grid_row": null,
            "grid_template_areas": null,
            "grid_template_columns": null,
            "grid_template_rows": null,
            "height": null,
            "justify_content": null,
            "justify_items": null,
            "left": null,
            "margin": null,
            "max_height": null,
            "max_width": null,
            "min_height": null,
            "min_width": null,
            "object_fit": null,
            "object_position": null,
            "order": null,
            "overflow": null,
            "overflow_x": null,
            "overflow_y": null,
            "padding": null,
            "right": null,
            "top": null,
            "visibility": null,
            "width": null
          }
        },
        "f81df5ab60ac4d4c93cfe357fd43139b": {
          "model_module": "@jupyter-widgets/controls",
          "model_name": "DescriptionStyleModel",
          "model_module_version": "1.5.0",
          "state": {
            "_model_module": "@jupyter-widgets/controls",
            "_model_module_version": "1.5.0",
            "_model_name": "DescriptionStyleModel",
            "_view_count": null,
            "_view_module": "@jupyter-widgets/base",
            "_view_module_version": "1.2.0",
            "_view_name": "StyleView",
            "description_width": ""
          }
        },
        "b2754bb4c7db4fcc98dd2d40d6762b85": {
          "model_module": "@jupyter-widgets/controls",
          "model_name": "HBoxModel",
          "model_module_version": "1.5.0",
          "state": {
            "_dom_classes": [],
            "_model_module": "@jupyter-widgets/controls",
            "_model_module_version": "1.5.0",
            "_model_name": "HBoxModel",
            "_view_count": null,
            "_view_module": "@jupyter-widgets/controls",
            "_view_module_version": "1.5.0",
            "_view_name": "HBoxView",
            "box_style": "",
            "children": [
              "IPY_MODEL_2cf4e9422ee9453b9bddd8da23d7a5ca",
              "IPY_MODEL_537458c84a4a48f6ac1ee2a38d28469b",
              "IPY_MODEL_82ecb73c013b4b28a4664b730f54f423"
            ],
            "layout": "IPY_MODEL_c72e1388591f4dc692f3b5128ec78fc4"
          }
        },
        "2cf4e9422ee9453b9bddd8da23d7a5ca": {
          "model_module": "@jupyter-widgets/controls",
          "model_name": "HTMLModel",
          "model_module_version": "1.5.0",
          "state": {
            "_dom_classes": [],
            "_model_module": "@jupyter-widgets/controls",
            "_model_module_version": "1.5.0",
            "_model_name": "HTMLModel",
            "_view_count": null,
            "_view_module": "@jupyter-widgets/controls",
            "_view_module_version": "1.5.0",
            "_view_name": "HTMLView",
            "description": "",
            "description_tooltip": null,
            "layout": "IPY_MODEL_c30ecfc3f6594ed28c2d0b4178dc7060",
            "placeholder": "​",
            "style": "IPY_MODEL_24c680e00ee94e9c81bfb4049969407d",
            "value": "Downloading model.safetensors: 100%"
          }
        },
        "537458c84a4a48f6ac1ee2a38d28469b": {
          "model_module": "@jupyter-widgets/controls",
          "model_name": "FloatProgressModel",
          "model_module_version": "1.5.0",
          "state": {
            "_dom_classes": [],
            "_model_module": "@jupyter-widgets/controls",
            "_model_module_version": "1.5.0",
            "_model_name": "FloatProgressModel",
            "_view_count": null,
            "_view_module": "@jupyter-widgets/controls",
            "_view_module_version": "1.5.0",
            "_view_name": "ProgressView",
            "bar_style": "success",
            "description": "",
            "description_tooltip": null,
            "layout": "IPY_MODEL_98a8d0e28b8c42b484ff3e2de16305ab",
            "max": 267832558,
            "min": 0,
            "orientation": "horizontal",
            "style": "IPY_MODEL_a99346b1f46748599dea19d665524fb5",
            "value": 267832558
          }
        },
        "82ecb73c013b4b28a4664b730f54f423": {
          "model_module": "@jupyter-widgets/controls",
          "model_name": "HTMLModel",
          "model_module_version": "1.5.0",
          "state": {
            "_dom_classes": [],
            "_model_module": "@jupyter-widgets/controls",
            "_model_module_version": "1.5.0",
            "_model_name": "HTMLModel",
            "_view_count": null,
            "_view_module": "@jupyter-widgets/controls",
            "_view_module_version": "1.5.0",
            "_view_name": "HTMLView",
            "description": "",
            "description_tooltip": null,
            "layout": "IPY_MODEL_a9d99016a0be4ee585d86ae4a9c151f6",
            "placeholder": "​",
            "style": "IPY_MODEL_a48b447b29a54dd5b75f28cd14316721",
            "value": " 268M/268M [00:01&lt;00:00, 211MB/s]"
          }
        },
        "c72e1388591f4dc692f3b5128ec78fc4": {
          "model_module": "@jupyter-widgets/base",
          "model_name": "LayoutModel",
          "model_module_version": "1.2.0",
          "state": {
            "_model_module": "@jupyter-widgets/base",
            "_model_module_version": "1.2.0",
            "_model_name": "LayoutModel",
            "_view_count": null,
            "_view_module": "@jupyter-widgets/base",
            "_view_module_version": "1.2.0",
            "_view_name": "LayoutView",
            "align_content": null,
            "align_items": null,
            "align_self": null,
            "border": null,
            "bottom": null,
            "display": null,
            "flex": null,
            "flex_flow": null,
            "grid_area": null,
            "grid_auto_columns": null,
            "grid_auto_flow": null,
            "grid_auto_rows": null,
            "grid_column": null,
            "grid_gap": null,
            "grid_row": null,
            "grid_template_areas": null,
            "grid_template_columns": null,
            "grid_template_rows": null,
            "height": null,
            "justify_content": null,
            "justify_items": null,
            "left": null,
            "margin": null,
            "max_height": null,
            "max_width": null,
            "min_height": null,
            "min_width": null,
            "object_fit": null,
            "object_position": null,
            "order": null,
            "overflow": null,
            "overflow_x": null,
            "overflow_y": null,
            "padding": null,
            "right": null,
            "top": null,
            "visibility": null,
            "width": null
          }
        },
        "c30ecfc3f6594ed28c2d0b4178dc7060": {
          "model_module": "@jupyter-widgets/base",
          "model_name": "LayoutModel",
          "model_module_version": "1.2.0",
          "state": {
            "_model_module": "@jupyter-widgets/base",
            "_model_module_version": "1.2.0",
            "_model_name": "LayoutModel",
            "_view_count": null,
            "_view_module": "@jupyter-widgets/base",
            "_view_module_version": "1.2.0",
            "_view_name": "LayoutView",
            "align_content": null,
            "align_items": null,
            "align_self": null,
            "border": null,
            "bottom": null,
            "display": null,
            "flex": null,
            "flex_flow": null,
            "grid_area": null,
            "grid_auto_columns": null,
            "grid_auto_flow": null,
            "grid_auto_rows": null,
            "grid_column": null,
            "grid_gap": null,
            "grid_row": null,
            "grid_template_areas": null,
            "grid_template_columns": null,
            "grid_template_rows": null,
            "height": null,
            "justify_content": null,
            "justify_items": null,
            "left": null,
            "margin": null,
            "max_height": null,
            "max_width": null,
            "min_height": null,
            "min_width": null,
            "object_fit": null,
            "object_position": null,
            "order": null,
            "overflow": null,
            "overflow_x": null,
            "overflow_y": null,
            "padding": null,
            "right": null,
            "top": null,
            "visibility": null,
            "width": null
          }
        },
        "24c680e00ee94e9c81bfb4049969407d": {
          "model_module": "@jupyter-widgets/controls",
          "model_name": "DescriptionStyleModel",
          "model_module_version": "1.5.0",
          "state": {
            "_model_module": "@jupyter-widgets/controls",
            "_model_module_version": "1.5.0",
            "_model_name": "DescriptionStyleModel",
            "_view_count": null,
            "_view_module": "@jupyter-widgets/base",
            "_view_module_version": "1.2.0",
            "_view_name": "StyleView",
            "description_width": ""
          }
        },
        "98a8d0e28b8c42b484ff3e2de16305ab": {
          "model_module": "@jupyter-widgets/base",
          "model_name": "LayoutModel",
          "model_module_version": "1.2.0",
          "state": {
            "_model_module": "@jupyter-widgets/base",
            "_model_module_version": "1.2.0",
            "_model_name": "LayoutModel",
            "_view_count": null,
            "_view_module": "@jupyter-widgets/base",
            "_view_module_version": "1.2.0",
            "_view_name": "LayoutView",
            "align_content": null,
            "align_items": null,
            "align_self": null,
            "border": null,
            "bottom": null,
            "display": null,
            "flex": null,
            "flex_flow": null,
            "grid_area": null,
            "grid_auto_columns": null,
            "grid_auto_flow": null,
            "grid_auto_rows": null,
            "grid_column": null,
            "grid_gap": null,
            "grid_row": null,
            "grid_template_areas": null,
            "grid_template_columns": null,
            "grid_template_rows": null,
            "height": null,
            "justify_content": null,
            "justify_items": null,
            "left": null,
            "margin": null,
            "max_height": null,
            "max_width": null,
            "min_height": null,
            "min_width": null,
            "object_fit": null,
            "object_position": null,
            "order": null,
            "overflow": null,
            "overflow_x": null,
            "overflow_y": null,
            "padding": null,
            "right": null,
            "top": null,
            "visibility": null,
            "width": null
          }
        },
        "a99346b1f46748599dea19d665524fb5": {
          "model_module": "@jupyter-widgets/controls",
          "model_name": "ProgressStyleModel",
          "model_module_version": "1.5.0",
          "state": {
            "_model_module": "@jupyter-widgets/controls",
            "_model_module_version": "1.5.0",
            "_model_name": "ProgressStyleModel",
            "_view_count": null,
            "_view_module": "@jupyter-widgets/base",
            "_view_module_version": "1.2.0",
            "_view_name": "StyleView",
            "bar_color": null,
            "description_width": ""
          }
        },
        "a9d99016a0be4ee585d86ae4a9c151f6": {
          "model_module": "@jupyter-widgets/base",
          "model_name": "LayoutModel",
          "model_module_version": "1.2.0",
          "state": {
            "_model_module": "@jupyter-widgets/base",
            "_model_module_version": "1.2.0",
            "_model_name": "LayoutModel",
            "_view_count": null,
            "_view_module": "@jupyter-widgets/base",
            "_view_module_version": "1.2.0",
            "_view_name": "LayoutView",
            "align_content": null,
            "align_items": null,
            "align_self": null,
            "border": null,
            "bottom": null,
            "display": null,
            "flex": null,
            "flex_flow": null,
            "grid_area": null,
            "grid_auto_columns": null,
            "grid_auto_flow": null,
            "grid_auto_rows": null,
            "grid_column": null,
            "grid_gap": null,
            "grid_row": null,
            "grid_template_areas": null,
            "grid_template_columns": null,
            "grid_template_rows": null,
            "height": null,
            "justify_content": null,
            "justify_items": null,
            "left": null,
            "margin": null,
            "max_height": null,
            "max_width": null,
            "min_height": null,
            "min_width": null,
            "object_fit": null,
            "object_position": null,
            "order": null,
            "overflow": null,
            "overflow_x": null,
            "overflow_y": null,
            "padding": null,
            "right": null,
            "top": null,
            "visibility": null,
            "width": null
          }
        },
        "a48b447b29a54dd5b75f28cd14316721": {
          "model_module": "@jupyter-widgets/controls",
          "model_name": "DescriptionStyleModel",
          "model_module_version": "1.5.0",
          "state": {
            "_model_module": "@jupyter-widgets/controls",
            "_model_module_version": "1.5.0",
            "_model_name": "DescriptionStyleModel",
            "_view_count": null,
            "_view_module": "@jupyter-widgets/base",
            "_view_module_version": "1.2.0",
            "_view_name": "StyleView",
            "description_width": ""
          }
        },
        "45f1b0c570c64aaa863a27bdfa1e33cd": {
          "model_module": "@jupyter-widgets/controls",
          "model_name": "HBoxModel",
          "model_module_version": "1.5.0",
          "state": {
            "_dom_classes": [],
            "_model_module": "@jupyter-widgets/controls",
            "_model_module_version": "1.5.0",
            "_model_name": "HBoxModel",
            "_view_count": null,
            "_view_module": "@jupyter-widgets/controls",
            "_view_module_version": "1.5.0",
            "_view_name": "HBoxView",
            "box_style": "",
            "children": [
              "IPY_MODEL_a4534bbc7d2443cbb084ea2bdce2041e",
              "IPY_MODEL_b934d01a22e94b5e8ac3577bda9e3cc9",
              "IPY_MODEL_a3a2854b09fe45f7911239fa6d40da16"
            ],
            "layout": "IPY_MODEL_d528b5b55e1b48159063d2c2402b104b"
          }
        },
        "a4534bbc7d2443cbb084ea2bdce2041e": {
          "model_module": "@jupyter-widgets/controls",
          "model_name": "HTMLModel",
          "model_module_version": "1.5.0",
          "state": {
            "_dom_classes": [],
            "_model_module": "@jupyter-widgets/controls",
            "_model_module_version": "1.5.0",
            "_model_name": "HTMLModel",
            "_view_count": null,
            "_view_module": "@jupyter-widgets/controls",
            "_view_module_version": "1.5.0",
            "_view_name": "HTMLView",
            "description": "",
            "description_tooltip": null,
            "layout": "IPY_MODEL_a25698f0bc35449aa54a90212e484bca",
            "placeholder": "​",
            "style": "IPY_MODEL_dfb56d59bb604a5e8ad12d1415b59a68",
            "value": "Downloading (…)okenizer_config.json: 100%"
          }
        },
        "b934d01a22e94b5e8ac3577bda9e3cc9": {
          "model_module": "@jupyter-widgets/controls",
          "model_name": "FloatProgressModel",
          "model_module_version": "1.5.0",
          "state": {
            "_dom_classes": [],
            "_model_module": "@jupyter-widgets/controls",
            "_model_module_version": "1.5.0",
            "_model_name": "FloatProgressModel",
            "_view_count": null,
            "_view_module": "@jupyter-widgets/controls",
            "_view_module_version": "1.5.0",
            "_view_name": "ProgressView",
            "bar_style": "success",
            "description": "",
            "description_tooltip": null,
            "layout": "IPY_MODEL_f4250e421f0e43c9a89af3cef4d4d4c8",
            "max": 48,
            "min": 0,
            "orientation": "horizontal",
            "style": "IPY_MODEL_c143c4b4fcb846dcb42748dffa8a9e04",
            "value": 48
          }
        },
        "a3a2854b09fe45f7911239fa6d40da16": {
          "model_module": "@jupyter-widgets/controls",
          "model_name": "HTMLModel",
          "model_module_version": "1.5.0",
          "state": {
            "_dom_classes": [],
            "_model_module": "@jupyter-widgets/controls",
            "_model_module_version": "1.5.0",
            "_model_name": "HTMLModel",
            "_view_count": null,
            "_view_module": "@jupyter-widgets/controls",
            "_view_module_version": "1.5.0",
            "_view_name": "HTMLView",
            "description": "",
            "description_tooltip": null,
            "layout": "IPY_MODEL_d6b44767a67543e48ac557c790a51924",
            "placeholder": "​",
            "style": "IPY_MODEL_ca668de36e954d43828920907367dc98",
            "value": " 48.0/48.0 [00:00&lt;00:00, 3.08kB/s]"
          }
        },
        "d528b5b55e1b48159063d2c2402b104b": {
          "model_module": "@jupyter-widgets/base",
          "model_name": "LayoutModel",
          "model_module_version": "1.2.0",
          "state": {
            "_model_module": "@jupyter-widgets/base",
            "_model_module_version": "1.2.0",
            "_model_name": "LayoutModel",
            "_view_count": null,
            "_view_module": "@jupyter-widgets/base",
            "_view_module_version": "1.2.0",
            "_view_name": "LayoutView",
            "align_content": null,
            "align_items": null,
            "align_self": null,
            "border": null,
            "bottom": null,
            "display": null,
            "flex": null,
            "flex_flow": null,
            "grid_area": null,
            "grid_auto_columns": null,
            "grid_auto_flow": null,
            "grid_auto_rows": null,
            "grid_column": null,
            "grid_gap": null,
            "grid_row": null,
            "grid_template_areas": null,
            "grid_template_columns": null,
            "grid_template_rows": null,
            "height": null,
            "justify_content": null,
            "justify_items": null,
            "left": null,
            "margin": null,
            "max_height": null,
            "max_width": null,
            "min_height": null,
            "min_width": null,
            "object_fit": null,
            "object_position": null,
            "order": null,
            "overflow": null,
            "overflow_x": null,
            "overflow_y": null,
            "padding": null,
            "right": null,
            "top": null,
            "visibility": null,
            "width": null
          }
        },
        "a25698f0bc35449aa54a90212e484bca": {
          "model_module": "@jupyter-widgets/base",
          "model_name": "LayoutModel",
          "model_module_version": "1.2.0",
          "state": {
            "_model_module": "@jupyter-widgets/base",
            "_model_module_version": "1.2.0",
            "_model_name": "LayoutModel",
            "_view_count": null,
            "_view_module": "@jupyter-widgets/base",
            "_view_module_version": "1.2.0",
            "_view_name": "LayoutView",
            "align_content": null,
            "align_items": null,
            "align_self": null,
            "border": null,
            "bottom": null,
            "display": null,
            "flex": null,
            "flex_flow": null,
            "grid_area": null,
            "grid_auto_columns": null,
            "grid_auto_flow": null,
            "grid_auto_rows": null,
            "grid_column": null,
            "grid_gap": null,
            "grid_row": null,
            "grid_template_areas": null,
            "grid_template_columns": null,
            "grid_template_rows": null,
            "height": null,
            "justify_content": null,
            "justify_items": null,
            "left": null,
            "margin": null,
            "max_height": null,
            "max_width": null,
            "min_height": null,
            "min_width": null,
            "object_fit": null,
            "object_position": null,
            "order": null,
            "overflow": null,
            "overflow_x": null,
            "overflow_y": null,
            "padding": null,
            "right": null,
            "top": null,
            "visibility": null,
            "width": null
          }
        },
        "dfb56d59bb604a5e8ad12d1415b59a68": {
          "model_module": "@jupyter-widgets/controls",
          "model_name": "DescriptionStyleModel",
          "model_module_version": "1.5.0",
          "state": {
            "_model_module": "@jupyter-widgets/controls",
            "_model_module_version": "1.5.0",
            "_model_name": "DescriptionStyleModel",
            "_view_count": null,
            "_view_module": "@jupyter-widgets/base",
            "_view_module_version": "1.2.0",
            "_view_name": "StyleView",
            "description_width": ""
          }
        },
        "f4250e421f0e43c9a89af3cef4d4d4c8": {
          "model_module": "@jupyter-widgets/base",
          "model_name": "LayoutModel",
          "model_module_version": "1.2.0",
          "state": {
            "_model_module": "@jupyter-widgets/base",
            "_model_module_version": "1.2.0",
            "_model_name": "LayoutModel",
            "_view_count": null,
            "_view_module": "@jupyter-widgets/base",
            "_view_module_version": "1.2.0",
            "_view_name": "LayoutView",
            "align_content": null,
            "align_items": null,
            "align_self": null,
            "border": null,
            "bottom": null,
            "display": null,
            "flex": null,
            "flex_flow": null,
            "grid_area": null,
            "grid_auto_columns": null,
            "grid_auto_flow": null,
            "grid_auto_rows": null,
            "grid_column": null,
            "grid_gap": null,
            "grid_row": null,
            "grid_template_areas": null,
            "grid_template_columns": null,
            "grid_template_rows": null,
            "height": null,
            "justify_content": null,
            "justify_items": null,
            "left": null,
            "margin": null,
            "max_height": null,
            "max_width": null,
            "min_height": null,
            "min_width": null,
            "object_fit": null,
            "object_position": null,
            "order": null,
            "overflow": null,
            "overflow_x": null,
            "overflow_y": null,
            "padding": null,
            "right": null,
            "top": null,
            "visibility": null,
            "width": null
          }
        },
        "c143c4b4fcb846dcb42748dffa8a9e04": {
          "model_module": "@jupyter-widgets/controls",
          "model_name": "ProgressStyleModel",
          "model_module_version": "1.5.0",
          "state": {
            "_model_module": "@jupyter-widgets/controls",
            "_model_module_version": "1.5.0",
            "_model_name": "ProgressStyleModel",
            "_view_count": null,
            "_view_module": "@jupyter-widgets/base",
            "_view_module_version": "1.2.0",
            "_view_name": "StyleView",
            "bar_color": null,
            "description_width": ""
          }
        },
        "d6b44767a67543e48ac557c790a51924": {
          "model_module": "@jupyter-widgets/base",
          "model_name": "LayoutModel",
          "model_module_version": "1.2.0",
          "state": {
            "_model_module": "@jupyter-widgets/base",
            "_model_module_version": "1.2.0",
            "_model_name": "LayoutModel",
            "_view_count": null,
            "_view_module": "@jupyter-widgets/base",
            "_view_module_version": "1.2.0",
            "_view_name": "LayoutView",
            "align_content": null,
            "align_items": null,
            "align_self": null,
            "border": null,
            "bottom": null,
            "display": null,
            "flex": null,
            "flex_flow": null,
            "grid_area": null,
            "grid_auto_columns": null,
            "grid_auto_flow": null,
            "grid_auto_rows": null,
            "grid_column": null,
            "grid_gap": null,
            "grid_row": null,
            "grid_template_areas": null,
            "grid_template_columns": null,
            "grid_template_rows": null,
            "height": null,
            "justify_content": null,
            "justify_items": null,
            "left": null,
            "margin": null,
            "max_height": null,
            "max_width": null,
            "min_height": null,
            "min_width": null,
            "object_fit": null,
            "object_position": null,
            "order": null,
            "overflow": null,
            "overflow_x": null,
            "overflow_y": null,
            "padding": null,
            "right": null,
            "top": null,
            "visibility": null,
            "width": null
          }
        },
        "ca668de36e954d43828920907367dc98": {
          "model_module": "@jupyter-widgets/controls",
          "model_name": "DescriptionStyleModel",
          "model_module_version": "1.5.0",
          "state": {
            "_model_module": "@jupyter-widgets/controls",
            "_model_module_version": "1.5.0",
            "_model_name": "DescriptionStyleModel",
            "_view_count": null,
            "_view_module": "@jupyter-widgets/base",
            "_view_module_version": "1.2.0",
            "_view_name": "StyleView",
            "description_width": ""
          }
        },
        "e72f5f1c96d44d3e99a96e0fff8e8fc8": {
          "model_module": "@jupyter-widgets/controls",
          "model_name": "HBoxModel",
          "model_module_version": "1.5.0",
          "state": {
            "_dom_classes": [],
            "_model_module": "@jupyter-widgets/controls",
            "_model_module_version": "1.5.0",
            "_model_name": "HBoxModel",
            "_view_count": null,
            "_view_module": "@jupyter-widgets/controls",
            "_view_module_version": "1.5.0",
            "_view_name": "HBoxView",
            "box_style": "",
            "children": [
              "IPY_MODEL_71fcc52a76b94406b7b252ec970ec0e4",
              "IPY_MODEL_f18ee603b12840d599615fd7434688b9",
              "IPY_MODEL_b338aeac9b1545b0b6cb6adef07b4710"
            ],
            "layout": "IPY_MODEL_60f2f6e46e2e404d95abe5944ec1c0dd"
          }
        },
        "71fcc52a76b94406b7b252ec970ec0e4": {
          "model_module": "@jupyter-widgets/controls",
          "model_name": "HTMLModel",
          "model_module_version": "1.5.0",
          "state": {
            "_dom_classes": [],
            "_model_module": "@jupyter-widgets/controls",
            "_model_module_version": "1.5.0",
            "_model_name": "HTMLModel",
            "_view_count": null,
            "_view_module": "@jupyter-widgets/controls",
            "_view_module_version": "1.5.0",
            "_view_name": "HTMLView",
            "description": "",
            "description_tooltip": null,
            "layout": "IPY_MODEL_235e4b41c934469ab1738c82165ebbd6",
            "placeholder": "​",
            "style": "IPY_MODEL_3240421115934bf8b8c4b3e738fe0f87",
            "value": "Downloading (…)solve/main/vocab.txt: 100%"
          }
        },
        "f18ee603b12840d599615fd7434688b9": {
          "model_module": "@jupyter-widgets/controls",
          "model_name": "FloatProgressModel",
          "model_module_version": "1.5.0",
          "state": {
            "_dom_classes": [],
            "_model_module": "@jupyter-widgets/controls",
            "_model_module_version": "1.5.0",
            "_model_name": "FloatProgressModel",
            "_view_count": null,
            "_view_module": "@jupyter-widgets/controls",
            "_view_module_version": "1.5.0",
            "_view_name": "ProgressView",
            "bar_style": "success",
            "description": "",
            "description_tooltip": null,
            "layout": "IPY_MODEL_bb5b59125579472f8cc6458cdc470009",
            "max": 231508,
            "min": 0,
            "orientation": "horizontal",
            "style": "IPY_MODEL_fb75c95961be45bcb8c7adcd66eb20fb",
            "value": 231508
          }
        },
        "b338aeac9b1545b0b6cb6adef07b4710": {
          "model_module": "@jupyter-widgets/controls",
          "model_name": "HTMLModel",
          "model_module_version": "1.5.0",
          "state": {
            "_dom_classes": [],
            "_model_module": "@jupyter-widgets/controls",
            "_model_module_version": "1.5.0",
            "_model_name": "HTMLModel",
            "_view_count": null,
            "_view_module": "@jupyter-widgets/controls",
            "_view_module_version": "1.5.0",
            "_view_name": "HTMLView",
            "description": "",
            "description_tooltip": null,
            "layout": "IPY_MODEL_a8be7147043c46cb81d3e07778b45e6c",
            "placeholder": "​",
            "style": "IPY_MODEL_9c943d7cd9e74de8b9bcf300ff36d503",
            "value": " 232k/232k [00:00&lt;00:00, 4.90MB/s]"
          }
        },
        "60f2f6e46e2e404d95abe5944ec1c0dd": {
          "model_module": "@jupyter-widgets/base",
          "model_name": "LayoutModel",
          "model_module_version": "1.2.0",
          "state": {
            "_model_module": "@jupyter-widgets/base",
            "_model_module_version": "1.2.0",
            "_model_name": "LayoutModel",
            "_view_count": null,
            "_view_module": "@jupyter-widgets/base",
            "_view_module_version": "1.2.0",
            "_view_name": "LayoutView",
            "align_content": null,
            "align_items": null,
            "align_self": null,
            "border": null,
            "bottom": null,
            "display": null,
            "flex": null,
            "flex_flow": null,
            "grid_area": null,
            "grid_auto_columns": null,
            "grid_auto_flow": null,
            "grid_auto_rows": null,
            "grid_column": null,
            "grid_gap": null,
            "grid_row": null,
            "grid_template_areas": null,
            "grid_template_columns": null,
            "grid_template_rows": null,
            "height": null,
            "justify_content": null,
            "justify_items": null,
            "left": null,
            "margin": null,
            "max_height": null,
            "max_width": null,
            "min_height": null,
            "min_width": null,
            "object_fit": null,
            "object_position": null,
            "order": null,
            "overflow": null,
            "overflow_x": null,
            "overflow_y": null,
            "padding": null,
            "right": null,
            "top": null,
            "visibility": null,
            "width": null
          }
        },
        "235e4b41c934469ab1738c82165ebbd6": {
          "model_module": "@jupyter-widgets/base",
          "model_name": "LayoutModel",
          "model_module_version": "1.2.0",
          "state": {
            "_model_module": "@jupyter-widgets/base",
            "_model_module_version": "1.2.0",
            "_model_name": "LayoutModel",
            "_view_count": null,
            "_view_module": "@jupyter-widgets/base",
            "_view_module_version": "1.2.0",
            "_view_name": "LayoutView",
            "align_content": null,
            "align_items": null,
            "align_self": null,
            "border": null,
            "bottom": null,
            "display": null,
            "flex": null,
            "flex_flow": null,
            "grid_area": null,
            "grid_auto_columns": null,
            "grid_auto_flow": null,
            "grid_auto_rows": null,
            "grid_column": null,
            "grid_gap": null,
            "grid_row": null,
            "grid_template_areas": null,
            "grid_template_columns": null,
            "grid_template_rows": null,
            "height": null,
            "justify_content": null,
            "justify_items": null,
            "left": null,
            "margin": null,
            "max_height": null,
            "max_width": null,
            "min_height": null,
            "min_width": null,
            "object_fit": null,
            "object_position": null,
            "order": null,
            "overflow": null,
            "overflow_x": null,
            "overflow_y": null,
            "padding": null,
            "right": null,
            "top": null,
            "visibility": null,
            "width": null
          }
        },
        "3240421115934bf8b8c4b3e738fe0f87": {
          "model_module": "@jupyter-widgets/controls",
          "model_name": "DescriptionStyleModel",
          "model_module_version": "1.5.0",
          "state": {
            "_model_module": "@jupyter-widgets/controls",
            "_model_module_version": "1.5.0",
            "_model_name": "DescriptionStyleModel",
            "_view_count": null,
            "_view_module": "@jupyter-widgets/base",
            "_view_module_version": "1.2.0",
            "_view_name": "StyleView",
            "description_width": ""
          }
        },
        "bb5b59125579472f8cc6458cdc470009": {
          "model_module": "@jupyter-widgets/base",
          "model_name": "LayoutModel",
          "model_module_version": "1.2.0",
          "state": {
            "_model_module": "@jupyter-widgets/base",
            "_model_module_version": "1.2.0",
            "_model_name": "LayoutModel",
            "_view_count": null,
            "_view_module": "@jupyter-widgets/base",
            "_view_module_version": "1.2.0",
            "_view_name": "LayoutView",
            "align_content": null,
            "align_items": null,
            "align_self": null,
            "border": null,
            "bottom": null,
            "display": null,
            "flex": null,
            "flex_flow": null,
            "grid_area": null,
            "grid_auto_columns": null,
            "grid_auto_flow": null,
            "grid_auto_rows": null,
            "grid_column": null,
            "grid_gap": null,
            "grid_row": null,
            "grid_template_areas": null,
            "grid_template_columns": null,
            "grid_template_rows": null,
            "height": null,
            "justify_content": null,
            "justify_items": null,
            "left": null,
            "margin": null,
            "max_height": null,
            "max_width": null,
            "min_height": null,
            "min_width": null,
            "object_fit": null,
            "object_position": null,
            "order": null,
            "overflow": null,
            "overflow_x": null,
            "overflow_y": null,
            "padding": null,
            "right": null,
            "top": null,
            "visibility": null,
            "width": null
          }
        },
        "fb75c95961be45bcb8c7adcd66eb20fb": {
          "model_module": "@jupyter-widgets/controls",
          "model_name": "ProgressStyleModel",
          "model_module_version": "1.5.0",
          "state": {
            "_model_module": "@jupyter-widgets/controls",
            "_model_module_version": "1.5.0",
            "_model_name": "ProgressStyleModel",
            "_view_count": null,
            "_view_module": "@jupyter-widgets/base",
            "_view_module_version": "1.2.0",
            "_view_name": "StyleView",
            "bar_color": null,
            "description_width": ""
          }
        },
        "a8be7147043c46cb81d3e07778b45e6c": {
          "model_module": "@jupyter-widgets/base",
          "model_name": "LayoutModel",
          "model_module_version": "1.2.0",
          "state": {
            "_model_module": "@jupyter-widgets/base",
            "_model_module_version": "1.2.0",
            "_model_name": "LayoutModel",
            "_view_count": null,
            "_view_module": "@jupyter-widgets/base",
            "_view_module_version": "1.2.0",
            "_view_name": "LayoutView",
            "align_content": null,
            "align_items": null,
            "align_self": null,
            "border": null,
            "bottom": null,
            "display": null,
            "flex": null,
            "flex_flow": null,
            "grid_area": null,
            "grid_auto_columns": null,
            "grid_auto_flow": null,
            "grid_auto_rows": null,
            "grid_column": null,
            "grid_gap": null,
            "grid_row": null,
            "grid_template_areas": null,
            "grid_template_columns": null,
            "grid_template_rows": null,
            "height": null,
            "justify_content": null,
            "justify_items": null,
            "left": null,
            "margin": null,
            "max_height": null,
            "max_width": null,
            "min_height": null,
            "min_width": null,
            "object_fit": null,
            "object_position": null,
            "order": null,
            "overflow": null,
            "overflow_x": null,
            "overflow_y": null,
            "padding": null,
            "right": null,
            "top": null,
            "visibility": null,
            "width": null
          }
        },
        "9c943d7cd9e74de8b9bcf300ff36d503": {
          "model_module": "@jupyter-widgets/controls",
          "model_name": "DescriptionStyleModel",
          "model_module_version": "1.5.0",
          "state": {
            "_model_module": "@jupyter-widgets/controls",
            "_model_module_version": "1.5.0",
            "_model_name": "DescriptionStyleModel",
            "_view_count": null,
            "_view_module": "@jupyter-widgets/base",
            "_view_module_version": "1.2.0",
            "_view_name": "StyleView",
            "description_width": ""
          }
        }
      }
    }
  },
  "cells": [
    {
      "cell_type": "code",
      "execution_count": 1,
      "metadata": {
        "id": "i7qzFcg2toTf"
      },
      "outputs": [],
      "source": [
        "import pandas as pd\n",
        "import numpy as np\n",
        "import matplotlib.pyplot as plt\n",
        "import seaborn as sns\n",
        "import nltk\n",
        "plt.style.use(\"ggplot\")\n"
      ]
    },
    {
      "cell_type": "markdown",
      "source": [
        "product/productId: asin, e.g. amazon.com/dp/B001E4KFG0\n",
        "review/userId: id of the user, e.g. A3SGXH7AUHU8GW\n",
        "review/profileName: name of the user\n",
        "review/helpfulness: fraction of users who found the review helpful\n",
        "review/score: rating of the product\n",
        "review/time: time of the review (unix time)\n",
        "review/summary: review summary\n",
        "review/text: text of the review"
      ],
      "metadata": {
        "id": "m1i41sUY1b33"
      }
    },
    {
      "cell_type": "code",
      "source": [
        "import pandas as pd\n",
        "from io import StringIO\n",
        "\n",
        "# Initialize an empty list to store problematic row IDs\n",
        "problematic_row_ids = []\n",
        "\n",
        "# Read the CSV file line by line and handle exceptions\n",
        "data = []\n",
        "with open('Reviews.csv', 'r', encoding='utf-8') as file:\n",
        "    for i, line in enumerate(file):\n",
        "        try:\n",
        "            # Attempt to parse the line as a CSV row\n",
        "            pd.read_csv(StringIO(line), encoding='utf-8')\n",
        "            data.append(line)\n",
        "        except pd.errors.ParserError:\n",
        "            # If an exception occurs, record the problematic row ID\n",
        "            problematic_row_ids.append(i)\n",
        "\n",
        "# Create a DataFrame from the valid rows\n",
        "df = pd.read_csv(StringIO('\\n'.join(data)), encoding='utf-8')\n",
        "\n",
        "# Now, the DataFrame 'df' contains all the valid rows from the CSV file,\n",
        "# and the list 'problematic_row_ids' contains the row IDs with parsing issues.\n"
      ],
      "metadata": {
        "id": "pgQnJeBax0d5"
      },
      "execution_count": 9,
      "outputs": []
    },
    {
      "cell_type": "code",
      "source": [
        "# downsizing the data for easy processing with my available GPU\n",
        "output_excel_file = 'reviewswithout exception_output.xlsx'\n",
        "\n",
        "# Save the DataFrame 'vaders' to an Excel file\n",
        "df.to_excel(output_excel_file, index=False)\n",
        "df= df.head(500)\n",
        "df.shape\n",
        "df['Score'].value_counts()"
      ],
      "metadata": {
        "colab": {
          "base_uri": "https://localhost:8080/"
        },
        "id": "bjPh_74T-fk9",
        "outputId": "16b7d885-fea4-48d4-caac-141dbad472d9"
      },
      "execution_count": 71,
      "outputs": [
        {
          "output_type": "execute_result",
          "data": {
            "text/plain": [
              "5    339\n",
              "4     70\n",
              "3     37\n",
              "1     36\n",
              "2     18\n",
              "Name: Score, dtype: int64"
            ]
          },
          "metadata": {},
          "execution_count": 71
        }
      ]
    },
    {
      "cell_type": "code",
      "source": [
        "# QUICK EDA\n",
        "ax=df['Score'].value_counts().sort_index()\\\n",
        ".plot(kind=\"bar\",title='Count of Reviews by Stars',\n",
        "      figsize=(10,5))\n",
        "ax.set_xlabel('Review Stars')\n",
        "plt.show()"
      ],
      "metadata": {
        "colab": {
          "base_uri": "https://localhost:8080/",
          "height": 487
        },
        "id": "tpsYVj5C_Scc",
        "outputId": "7b71e28e-0e70-4a1b-dd84-79662d5d2e6b"
      },
      "execution_count": 14,
      "outputs": [
        {
          "output_type": "display_data",
          "data": {
            "text/plain": [
              "<Figure size 1000x500 with 1 Axes>"
            ],
            "image/png": "[encoded data removed]"
          },
          "metadata": {}
        }
      ]
    },
    {
      "cell_type": "markdown",
      "source": [
        "we have biased reviews in our dataset"
      ],
      "metadata": {
        "id": "zxDB5tbVA0ZT"
      }
    },
    {
      "cell_type": "markdown",
      "source": [
        "**BASIC Nltk**"
      ],
      "metadata": {
        "id": "iUVotib7A6we"
      }
    },
    {
      "cell_type": "code",
      "source": [
        "example = df['Text'][50]\n",
        "print(example)"
      ],
      "metadata": {
        "colab": {
          "base_uri": "https://localhost:8080/"
        },
        "id": "hOh2FmNsAq3o",
        "outputId": "f71d2aba-d629-4922-8fc5-aba904bc2d30"
      },
      "execution_count": 16,
      "outputs": [
        {
          "output_type": "stream",
          "name": "stdout",
          "text": [
            "This oatmeal is not good. Its mushy, soft, I don't like it. Quaker Oats is the way to go.\n"
          ]
        }
      ]
    },
    {
      "cell_type": "markdown",
      "source": [
        "lets see what nLtK can do out of the box"
      ],
      "metadata": {
        "id": "nQAkDwwmBD7i"
      }
    },
    {
      "cell_type": "code",
      "source": [
        "# nltk.download('punkt')"
      ],
      "metadata": {
        "colab": {
          "base_uri": "https://localhost:8080/"
        },
        "id": "25kTCk7cBYVm",
        "outputId": "9e394592-1438-4f7f-d9e3-c12096c13a53"
      },
      "execution_count": 18,
      "outputs": [
        {
          "output_type": "stream",
          "name": "stderr",
          "text": [
            "[nltk_data] Downloading package punkt to /root/nltk_data...\n",
            "[nltk_data]   Unzipping tokenizers/punkt.zip.\n"
          ]
        },
        {
          "output_type": "execute_result",
          "data": {
            "text/plain": [
              "True"
            ]
          },
          "metadata": {},
          "execution_count": 18
        }
      ]
    },
    {
      "cell_type": "code",
      "source": [
        "\n",
        "# To perform sentence tokenization using NLTK, you can use the sent_tokenize function from the nltk.tokenize module. Here's the code for sentence tokenization:\n",
        "\n",
        "# Perform sentence tokenization\n",
        "sentences = nltk.sent_tokenize(example)\n",
        "\n",
        "# Print the result\n",
        "sentences"
      ],
      "metadata": {
        "colab": {
          "base_uri": "https://localhost:8080/"
        },
        "id": "AyFbgTYmGAJ6",
        "outputId": "2a7680ff-c4d5-4f5f-a3f6-34a2e22ebe8a"
      },
      "execution_count": 24,
      "outputs": [
        {
          "output_type": "execute_result",
          "data": {
            "text/plain": [
              "['This oatmeal is not good.',\n",
              " \"Its mushy, soft, I don't like it.\",\n",
              " 'Quaker Oats is the way to go.']"
            ]
          },
          "metadata": {},
          "execution_count": 24
        }
      ]
    },
    {
      "cell_type": "code",
      "source": [
        "tokens = nltk.word_tokenize(example)\n",
        "# tokens[:10]\n",
        "tokens"
      ],
      "metadata": {
        "colab": {
          "base_uri": "https://localhost:8080/"
        },
        "id": "Wq_TrodQBJcN",
        "outputId": "55b97744-78be-4973-b7fa-0b40a6b56198"
      },
      "execution_count": 21,
      "outputs": [
        {
          "output_type": "execute_result",
          "data": {
            "text/plain": [
              "['This',\n",
              " 'oatmeal',\n",
              " 'is',\n",
              " 'not',\n",
              " 'good',\n",
              " '.',\n",
              " 'Its',\n",
              " 'mushy',\n",
              " ',',\n",
              " 'soft',\n",
              " ',',\n",
              " 'I',\n",
              " 'do',\n",
              " \"n't\",\n",
              " 'like',\n",
              " 'it',\n",
              " '.',\n",
              " 'Quaker',\n",
              " 'Oats',\n",
              " 'is',\n",
              " 'the',\n",
              " 'way',\n",
              " 'to',\n",
              " 'go',\n",
              " '.']"
            ]
          },
          "metadata": {},
          "execution_count": 21
        }
      ]
    },
    {
      "cell_type": "code",
      "source": [
        "# nltk.download('averaged_perceptron_tagger')"
      ],
      "metadata": {
        "colab": {
          "base_uri": "https://localhost:8080/"
        },
        "id": "GCAFWOKoGU-6",
        "outputId": "dc4e1a74-9e3d-47e9-d83d-8fbf70a79c02"
      },
      "execution_count": 25,
      "outputs": [
        {
          "output_type": "stream",
          "name": "stderr",
          "text": [
            "[nltk_data] Downloading package averaged_perceptron_tagger to\n",
            "[nltk_data]     /root/nltk_data...\n",
            "[nltk_data]   Unzipping taggers/averaged_perceptron_tagger.zip.\n"
          ]
        },
        {
          "output_type": "execute_result",
          "data": {
            "text/plain": [
              "True"
            ]
          },
          "metadata": {},
          "execution_count": 25
        }
      ]
    },
    {
      "cell_type": "code",
      "source": [
        "# finiding parts of speech for these tockens\n",
        "tagged = nltk.pos_tag(tokens)\n",
        "tagged"
      ],
      "metadata": {
        "colab": {
          "base_uri": "https://localhost:8080/"
        },
        "id": "ShKRboZ7DnfZ",
        "outputId": "21aef073-e42b-41dc-f7df-7fa25199a5ee"
      },
      "execution_count": 26,
      "outputs": [
        {
          "output_type": "execute_result",
          "data": {
            "text/plain": [
              "[('This', 'DT'),\n",
              " ('oatmeal', 'NN'),\n",
              " ('is', 'VBZ'),\n",
              " ('not', 'RB'),\n",
              " ('good', 'JJ'),\n",
              " ('.', '.'),\n",
              " ('Its', 'PRP$'),\n",
              " ('mushy', 'NN'),\n",
              " (',', ','),\n",
              " ('soft', 'JJ'),\n",
              " (',', ','),\n",
              " ('I', 'PRP'),\n",
              " ('do', 'VBP'),\n",
              " (\"n't\", 'RB'),\n",
              " ('like', 'VB'),\n",
              " ('it', 'PRP'),\n",
              " ('.', '.'),\n",
              " ('Quaker', 'NNP'),\n",
              " ('Oats', 'NNPS'),\n",
              " ('is', 'VBZ'),\n",
              " ('the', 'DT'),\n",
              " ('way', 'NN'),\n",
              " ('to', 'TO'),\n",
              " ('go', 'VB'),\n",
              " ('.', '.')]"
            ]
          },
          "metadata": {},
          "execution_count": 26
        }
      ]
    },
    {
      "cell_type": "code",
      "source": [
        "# nltk.download('maxent_ne_chunker')\n",
        "nltk.download('words')"
      ],
      "metadata": {
        "colab": {
          "base_uri": "https://localhost:8080/"
        },
        "id": "WPxlxsupNWHe",
        "outputId": "d6750141-dde1-4b91-a923-85f09d4d551d"
      },
      "execution_count": 31,
      "outputs": [
        {
          "output_type": "stream",
          "name": "stderr",
          "text": [
            "[nltk_data] Downloading package words to /root/nltk_data...\n",
            "[nltk_data]   Unzipping corpora/words.zip.\n"
          ]
        },
        {
          "output_type": "execute_result",
          "data": {
            "text/plain": [
              "True"
            ]
          },
          "metadata": {},
          "execution_count": 31
        }
      ]
    },
    {
      "cell_type": "code",
      "source": [
        "# Taking from here we can put entities\n",
        "entities = nltk.chunk.ne_chunk(tagged)\n",
        "entities.pprint()"
      ],
      "metadata": {
        "colab": {
          "base_uri": "https://localhost:8080/"
        },
        "id": "NEGalIY2M1hO",
        "outputId": "d72799df-4b65-4bd6-e948-b0d743207394"
      },
      "execution_count": 32,
      "outputs": [
        {
          "output_type": "stream",
          "name": "stdout",
          "text": [
            "(S\n",
            "  This/DT\n",
            "  oatmeal/NN\n",
            "  is/VBZ\n",
            "  not/RB\n",
            "  good/JJ\n",
            "  ./.\n",
            "  Its/PRP$\n",
            "  mushy/NN\n",
            "  ,/,\n",
            "  soft/JJ\n",
            "  ,/,\n",
            "  I/PRP\n",
            "  do/VBP\n",
            "  n't/RB\n",
            "  like/VB\n",
            "  it/PRP\n",
            "  ./.\n",
            "  (ORGANIZATION Quaker/NNP Oats/NNPS)\n",
            "  is/VBZ\n",
            "  the/DT\n",
            "  way/NN\n",
            "  to/TO\n",
            "  go/VB\n",
            "  ./.)\n"
          ]
        }
      ]
    },
    {
      "cell_type": "markdown",
      "source": [
        "Step 1. VADER Seniment Scoring\n",
        "We will use NLTK's SentimentIntensityAnalyzer to get the neg/neu/pos scores of the text.\n",
        "\n",
        "This uses a \"bag of words\" approach:\n",
        "Stop words are removed\n",
        "each word is scored and combined to a total score."
      ],
      "metadata": {
        "id": "7NI1a9qETQ9_"
      }
    },
    {
      "cell_type": "code",
      "source": [
        "from nltk.sentiment import SentimentIntensityAnalyzer\n",
        "from tqdm.notebook import tqdm\n",
        "\n",
        "sia = SentimentIntensityAnalyzer()"
      ],
      "metadata": {
        "id": "L1k3NL2FTi25"
      },
      "execution_count": 37,
      "outputs": []
    },
    {
      "cell_type": "markdown",
      "source": [
        "The tqdm library offers two primary functionalities:\n",
        "\n",
        "Progress Bar Creation: You can wrap an iterable object (e.g., list, range, data generator) with tqdm to create a progress bar. As the loop iterates through the elements, tqdm updates and displays the progress bar.\n",
        "\n",
        "Time Estimation: tqdm also provides an estimate of the time remaining based on the current progress. It calculates the average iteration time and uses it to estimate the time needed to complete the entire process."
      ],
      "metadata": {
        "id": "iqlxjj8fcMGM"
      }
    },
    {
      "cell_type": "code",
      "source": [
        "# nltk.download('vader_lexicon')"
      ],
      "metadata": {
        "colab": {
          "base_uri": "https://localhost:8080/"
        },
        "id": "QcVIoYDKXWh1",
        "outputId": "f29a4cd9-e543-4e5f-e11f-eb528993093f"
      },
      "execution_count": 35,
      "outputs": [
        {
          "output_type": "stream",
          "name": "stderr",
          "text": [
            "[nltk_data] Downloading package vader_lexicon to /root/nltk_data...\n"
          ]
        },
        {
          "output_type": "execute_result",
          "data": {
            "text/plain": [
              "True"
            ]
          },
          "metadata": {},
          "execution_count": 35
        }
      ]
    },
    {
      "cell_type": "code",
      "source": [
        "# analysing Postive satment polarity score\n",
        "sia.polarity_scores('I')\n",
        "sia.polarity_scores('am')\n",
        "sia.polarity_scores('so')\n",
        "sia.polarity_scores('happy')\n",
        "sia.polarity_scores('I am so happy !')"
      ],
      "metadata": {
        "colab": {
          "base_uri": "https://localhost:8080/"
        },
        "id": "z8yGr4ZDXLtR",
        "outputId": "25bc7a6a-0bd9-4f84-e2fd-97d5b04d2f3a"
      },
      "execution_count": 46,
      "outputs": [
        {
          "output_type": "execute_result",
          "data": {
            "text/plain": [
              "{'neg': 0.0, 'neu': 0.318, 'pos': 0.682, 'compound': 0.6468}"
            ]
          },
          "metadata": {},
          "execution_count": 46
        }
      ]
    },
    {
      "cell_type": "markdown",
      "source": [
        "here this statment has zero negative value after the sentiment analyser funct looked up against the polarity score of each of the word and calculated the polarity it came up with that the negative polarity score is zero,neutral is slightly higher but pos polarity score is 0.6 and compound which is the normalised score for the complete text aggreagation is 0.6 thus highlighting that the text has a positive score"
      ],
      "metadata": {
        "id": "fJIItznca6fk"
      }
    },
    {
      "cell_type": "code",
      "source": [
        "# analysing negative satment polarity score\n",
        "sia.polarity_scores('This is the worst thing ever.')\n"
      ],
      "metadata": {
        "colab": {
          "base_uri": "https://localhost:8080/"
        },
        "id": "WSk45VVdarAu",
        "outputId": "df6c3880-3d2a-45d5-9f92-24002667beb6"
      },
      "execution_count": 47,
      "outputs": [
        {
          "output_type": "execute_result",
          "data": {
            "text/plain": [
              "{'neg': 0.451, 'neu': 0.549, 'pos': 0.0, 'compound': -0.6249}"
            ]
          },
          "metadata": {},
          "execution_count": 47
        }
      ]
    },
    {
      "cell_type": "code",
      "source": [
        "sia.polarity_scores(example)"
      ],
      "metadata": {
        "colab": {
          "base_uri": "https://localhost:8080/"
        },
        "id": "WC-qwPyebguu",
        "outputId": "4d186bc9-ed00-417e-c41e-11fc60b1d2de"
      },
      "execution_count": 48,
      "outputs": [
        {
          "output_type": "execute_result",
          "data": {
            "text/plain": [
              "{'neg': 0.22, 'neu': 0.78, 'pos': 0.0, 'compound': -0.5448}"
            ]
          },
          "metadata": {},
          "execution_count": 48
        }
      ]
    },
    {
      "cell_type": "code",
      "source": [
        "# Run the polarity score on the entire dataset\n",
        "res = {}\n",
        "for i, row in tqdm(df.iterrows(), total=len(df)):\n",
        "    text = row['Text']\n",
        "    myid = row['Id']\n",
        "    res[myid] = sia.polarity_scores(text)"
      ],
      "metadata": {
        "colab": {
          "base_uri": "https://localhost:8080/",
          "height": 49,
          "referenced_widgets": [
            "3d07c45242c1418b9453bb76376a3030",
            "70e9bc4476cd4443a1438823a64d7103",
            "f9bc1d7f13484d7ea72f30844443bc5f",
            "498778ca521547fe901500c57b023ae6",
            "a4af44a067844b33a0a9efa2b31a6d71",
            "3baa72ad6c5e4aeabc4d6b93ffd54fce",
            "a26f82f9df3b455b99f490bbeb5d4f30",
            "61f2fee5568d4c9dbb40a5880a59d291",
            "9c38f796679a4f0fa0da0cc161519b81",
            "ac21f020e55c43ca82e7158464f9c3b3",
            "41e5a291813f4440b8a08df22d20d9ef"
          ]
        },
        "id": "ht6iA6E8-hqE",
        "outputId": "7ed22280-b301-47ff-ee2e-d8eef699d195"
      },
      "execution_count": 49,
      "outputs": [
        {
          "output_type": "display_data",
          "data": {
            "text/plain": [
              "  0%|          | 0/500 [00:00<?, ?it/s]"
            ],
            "application/vnd.jupyter.widget-view+json": {
              "version_major": 2,
              "version_minor": 0,
              "model_id": "3d07c45242c1418b9453bb76376a3030"
            }
          },
          "metadata": {}
        }
      ]
    },
    {
      "cell_type": "code",
      "source": [
        "res"
      ],
      "metadata": {
        "colab": {
          "base_uri": "https://localhost:8080/"
        },
        "id": "-YOqmKdWcau9",
        "outputId": "8cf5620a-34fa-400d-96cc-e12bfcfc2291"
      },
      "execution_count": 50,
      "outputs": [
        {
          "output_type": "execute_result",
          "data": {
            "text/plain": [
              "{1: {'neg': 0.0, 'neu': 0.695, 'pos': 0.305, 'compound': 0.9441},\n",
              " 2: {'neg': 0.138, 'neu': 0.862, 'pos': 0.0, 'compound': -0.5664},\n",
              " 3: {'neg': 0.091, 'neu': 0.754, 'pos': 0.155, 'compound': 0.8265},\n",
              " 4: {'neg': 0.0, 'neu': 1.0, 'pos': 0.0, 'compound': 0.0},\n",
              " 5: {'neg': 0.0, 'neu': 0.552, 'pos': 0.448, 'compound': 0.9468},\n",
              " 6: {'neg': 0.029, 'neu': 0.809, 'pos': 0.163, 'compound': 0.883},\n",
              " 7: {'neg': 0.034, 'neu': 0.693, 'pos': 0.273, 'compound': 0.9346},\n",
              " 8: {'neg': 0.0, 'neu': 0.52, 'pos': 0.48, 'compound': 0.9487},\n",
              " 9: {'neg': 0.0, 'neu': 0.851, 'pos': 0.149, 'compound': 0.6369},\n",
              " 10: {'neg': 0.0, 'neu': 0.705, 'pos': 0.295, 'compound': 0.8313},\n",
              " 11: {'neg': 0.017, 'neu': 0.846, 'pos': 0.137, 'compound': 0.9746},\n",
              " 12: {'neg': 0.113, 'neu': 0.887, 'pos': 0.0, 'compound': -0.7579},\n",
              " 13: {'neg': 0.031, 'neu': 0.923, 'pos': 0.046, 'compound': 0.296},\n",
              " 14: {'neg': 0.0, 'neu': 0.355, 'pos': 0.645, 'compound': 0.9466},\n",
              " 15: {'neg': 0.104, 'neu': 0.632, 'pos': 0.264, 'compound': 0.6486},\n",
              " 16: {'neg': 0.0, 'neu': 0.861, 'pos': 0.139, 'compound': 0.5719},\n",
              " 17: {'neg': 0.097, 'neu': 0.694, 'pos': 0.209, 'compound': 0.7481},\n",
              " 18: {'neg': 0.0, 'neu': 0.61, 'pos': 0.39, 'compound': 0.8883},\n",
              " 19: {'neg': 0.012, 'neu': 0.885, 'pos': 0.103, 'compound': 0.8957},\n",
              " 20: {'neg': 0.0, 'neu': 0.863, 'pos': 0.137, 'compound': 0.6077},\n",
              " 21: {'neg': 0.0, 'neu': 0.865, 'pos': 0.135, 'compound': 0.6249},\n",
              " 22: {'neg': 0.0, 'neu': 0.739, 'pos': 0.261, 'compound': 0.9153},\n",
              " 23: {'neg': 0.0, 'neu': 0.768, 'pos': 0.232, 'compound': 0.7687},\n",
              " 24: {'neg': 0.085, 'neu': 0.771, 'pos': 0.143, 'compound': 0.2617},\n",
              " 25: {'neg': 0.038, 'neu': 0.895, 'pos': 0.068, 'compound': 0.3939},\n",
              " 26: {'neg': 0.0, 'neu': 1.0, 'pos': 0.0, 'compound': 0.0},\n",
              " 27: {'neg': 0.128, 'neu': 0.872, 'pos': 0.0, 'compound': -0.296},\n",
              " 28: {'neg': 0.04, 'neu': 0.808, 'pos': 0.152, 'compound': 0.5956},\n",
              " 29: {'neg': 0.022, 'neu': 0.669, 'pos': 0.309, 'compound': 0.9913},\n",
              " 30: {'neg': 0.017, 'neu': 0.846, 'pos': 0.137, 'compound': 0.9746},\n",
              " 31: {'neg': 0.041, 'neu': 0.692, 'pos': 0.267, 'compound': 0.9713},\n",
              " 32: {'neg': 0.0, 'neu': 0.484, 'pos': 0.516, 'compound': 0.9153},\n",
              " 33: {'neg': 0.069, 'neu': 0.839, 'pos': 0.092, 'compound': 0.7103},\n",
              " 34: {'neg': 0.024, 'neu': 0.72, 'pos': 0.256, 'compound': 0.9779},\n",
              " 35: {'neg': 0.0, 'neu': 0.874, 'pos': 0.126, 'compound': 0.9091},\n",
              " 36: {'neg': 0.024, 'neu': 0.821, 'pos': 0.155, 'compound': 0.7622},\n",
              " 37: {'neg': 0.0, 'neu': 0.754, 'pos': 0.246, 'compound': 0.9196},\n",
              " 38: {'neg': 0.0, 'neu': 0.938, 'pos': 0.062, 'compound': 0.4457},\n",
              " 39: {'neg': 0.05, 'neu': 0.846, 'pos': 0.104, 'compound': 0.7638},\n",
              " 40: {'neg': 0.0, 'neu': 0.856, 'pos': 0.144, 'compound': 0.8114},\n",
              " 41: {'neg': 0.033, 'neu': 0.82, 'pos': 0.147, 'compound': 0.9301},\n",
              " 42: {'neg': 0.03, 'neu': 0.848, 'pos': 0.122, 'compound': 0.9435},\n",
              " 43: {'neg': 0.0, 'neu': 0.588, 'pos': 0.412, 'compound': 0.9441},\n",
              " 44: {'neg': 0.0, 'neu': 0.685, 'pos': 0.315, 'compound': 0.9161},\n",
              " 45: {'neg': 0.031, 'neu': 0.778, 'pos': 0.191, 'compound': 0.8421},\n",
              " 46: {'neg': 0.0, 'neu': 1.0, 'pos': 0.0, 'compound': 0.0},\n",
              " 47: {'neg': 0.0, 'neu': 0.737, 'pos': 0.263, 'compound': 0.9169},\n",
              " 48: {'neg': 0.0, 'neu': 0.868, 'pos': 0.132, 'compound': 0.4404},\n",
              " 49: {'neg': 0.0, 'neu': 0.821, 'pos': 0.179, 'compound': 0.747},\n",
              " 50: {'neg': 0.056, 'neu': 0.865, 'pos': 0.079, 'compound': 0.2363},\n",
              " 51: {'neg': 0.22, 'neu': 0.78, 'pos': 0.0, 'compound': -0.5448},\n",
              " 52: {'neg': 0.047, 'neu': 0.735, 'pos': 0.218, 'compound': 0.9194},\n",
              " 53: {'neg': 0.09, 'neu': 0.858, 'pos': 0.052, 'compound': -0.8259},\n",
              " 54: {'neg': 0.075, 'neu': 0.925, 'pos': 0.0, 'compound': -0.3612},\n",
              " 55: {'neg': 0.0, 'neu': 0.857, 'pos': 0.143, 'compound': 0.8761},\n",
              " 56: {'neg': 0.071, 'neu': 0.708, 'pos': 0.221, 'compound': 0.8908},\n",
              " 57: {'neg': 0.029, 'neu': 0.694, 'pos': 0.277, 'compound': 0.908},\n",
              " 58: {'neg': 0.0, 'neu': 0.701, 'pos': 0.299, 'compound': 0.91},\n",
              " 59: {'neg': 0.0, 'neu': 0.611, 'pos': 0.389, 'compound': 0.9323},\n",
              " 60: {'neg': 0.0, 'neu': 0.638, 'pos': 0.362, 'compound': 0.8807},\n",
              " 61: {'neg': 0.0, 'neu': 0.9, 'pos': 0.1, 'compound': 0.4404},\n",
              " 62: {'neg': 0.0, 'neu': 0.741, 'pos': 0.259, 'compound': 0.8442},\n",
              " 63: {'neg': 0.0, 'neu': 1.0, 'pos': 0.0, 'compound': 0.0},\n",
              " 64: {'neg': 0.055, 'neu': 0.765, 'pos': 0.179, 'compound': 0.9817},\n",
              " 65: {'neg': 0.046, 'neu': 0.75, 'pos': 0.205, 'compound': 0.8674},\n",
              " 66: {'neg': 0.04, 'neu': 0.822, 'pos': 0.138, 'compound': 0.5165},\n",
              " 67: {'neg': 0.057, 'neu': 0.869, 'pos': 0.073, 'compound': 0.492},\n",
              " 68: {'neg': 0.183, 'neu': 0.776, 'pos': 0.041, 'compound': -0.9116},\n",
              " 69: {'neg': 0.135, 'neu': 0.71, 'pos': 0.155, 'compound': -0.0096},\n",
              " 70: {'neg': 0.344, 'neu': 0.52, 'pos': 0.136, 'compound': -0.7345},\n",
              " 71: {'neg': 0.036, 'neu': 0.916, 'pos': 0.048, 'compound': 0.2228},\n",
              " 72: {'neg': 0.078, 'neu': 0.701, 'pos': 0.222, 'compound': 0.9733},\n",
              " 73: {'neg': 0.025, 'neu': 0.653, 'pos': 0.323, 'compound': 0.9787},\n",
              " 74: {'neg': 0.093, 'neu': 0.762, 'pos': 0.144, 'compound': 0.9665},\n",
              " 75: {'neg': 0.0, 'neu': 0.872, 'pos': 0.128, 'compound': 0.2263},\n",
              " 76: {'neg': 0.106, 'neu': 0.768, 'pos': 0.126, 'compound': 0.1098},\n",
              " 77: {'neg': 0.019, 'neu': 0.898, 'pos': 0.083, 'compound': 0.5647},\n",
              " 78: {'neg': 0.034, 'neu': 0.798, 'pos': 0.168, 'compound': 0.8303},\n",
              " 79: {'neg': 0.0, 'neu': 0.763, 'pos': 0.237, 'compound': 0.7814},\n",
              " 80: {'neg': 0.087, 'neu': 0.589, 'pos': 0.324, 'compound': 0.8636},\n",
              " 81: {'neg': 0.0, 'neu': 0.723, 'pos': 0.277, 'compound': 0.9098},\n",
              " 82: {'neg': 0.0, 'neu': 0.663, 'pos': 0.337, 'compound': 0.9041},\n",
              " 83: {'neg': 0.04, 'neu': 0.794, 'pos': 0.165, 'compound': 0.9957},\n",
              " 84: {'neg': 0.055, 'neu': 0.767, 'pos': 0.178, 'compound': 0.8642},\n",
              " 85: {'neg': 0.109, 'neu': 0.676, 'pos': 0.214, 'compound': 0.8431},\n",
              " 86: {'neg': 0.035, 'neu': 0.698, 'pos': 0.267, 'compound': 0.9487},\n",
              " 87: {'neg': 0.019, 'neu': 0.855, 'pos': 0.126, 'compound': 0.8797},\n",
              " 88: {'neg': 0.05, 'neu': 0.735, 'pos': 0.215, 'compound': 0.7424},\n",
              " 89: {'neg': 0.048, 'neu': 0.762, 'pos': 0.19, 'compound': 0.9716},\n",
              " 90: {'neg': 0.029, 'neu': 0.645, 'pos': 0.326, 'compound': 0.9554},\n",
              " 91: {'neg': 0.0, 'neu': 0.833, 'pos': 0.167, 'compound': 0.7351},\n",
              " 92: {'neg': 0.0, 'neu': 0.837, 'pos': 0.163, 'compound': 0.6249},\n",
              " 93: {'neg': 0.069, 'neu': 0.663, 'pos': 0.268, 'compound': 0.8255},\n",
              " 94: {'neg': 0.01, 'neu': 0.781, 'pos': 0.208, 'compound': 0.9882},\n",
              " 95: {'neg': 0.0, 'neu': 1.0, 'pos': 0.0, 'compound': 0.0},\n",
              " 96: {'neg': 0.031, 'neu': 0.732, 'pos': 0.237, 'compound': 0.9273},\n",
              " 97: {'neg': 0.0, 'neu': 0.818, 'pos': 0.182, 'compound': 0.982},\n",
              " 98: {'neg': 0.053, 'neu': 0.793, 'pos': 0.154, 'compound': 0.7729},\n",
              " 99: {'neg': 0.024, 'neu': 0.91, 'pos': 0.066, 'compound': 0.5106},\n",
              " 100: {'neg': 0.173, 'neu': 0.735, 'pos': 0.092, 'compound': -0.5267},\n",
              " 101: {'neg': 0.0, 'neu': 0.807, 'pos': 0.193, 'compound': 0.7717},\n",
              " 102: {'neg': 0.103, 'neu': 0.752, 'pos': 0.145, 'compound': 0.2285},\n",
              " 103: {'neg': 0.0, 'neu': 0.75, 'pos': 0.25, 'compound': 0.9287},\n",
              " 104: {'neg': 0.0, 'neu': 0.859, 'pos': 0.141, 'compound': 0.7249},\n",
              " 105: {'neg': 0.051, 'neu': 0.577, 'pos': 0.372, 'compound': 0.9313},\n",
              " 106: {'neg': 0.0, 'neu': 0.696, 'pos': 0.304, 'compound': 0.9603},\n",
              " 107: {'neg': 0.0, 'neu': 0.791, 'pos': 0.209, 'compound': 0.5719},\n",
              " 108: {'neg': 0.0, 'neu': 0.804, 'pos': 0.196, 'compound': 0.9503},\n",
              " 109: {'neg': 0.059, 'neu': 0.676, 'pos': 0.265, 'compound': 0.9116},\n",
              " 110: {'neg': 0.014, 'neu': 0.764, 'pos': 0.222, 'compound': 0.9841},\n",
              " 111: {'neg': 0.059, 'neu': 0.879, 'pos': 0.062, 'compound': 0.0176},\n",
              " 112: {'neg': 0.0, 'neu': 0.81, 'pos': 0.19, 'compound': 0.8769},\n",
              " 113: {'neg': 0.037, 'neu': 0.786, 'pos': 0.177, 'compound': 0.9946},\n",
              " 114: {'neg': 0.0, 'neu': 0.631, 'pos': 0.369, 'compound': 0.8779},\n",
              " 115: {'neg': 0.027, 'neu': 0.727, 'pos': 0.245, 'compound': 0.9379},\n",
              " 116: {'neg': 0.0, 'neu': 0.645, 'pos': 0.355, 'compound': 0.872},\n",
              " 117: {'neg': 0.0, 'neu': 0.892, 'pos': 0.108, 'compound': 0.6573},\n",
              " 118: {'neg': 0.0, 'neu': 0.781, 'pos': 0.219, 'compound': 0.9751},\n",
              " 119: {'neg': 0.05, 'neu': 0.872, 'pos': 0.079, 'compound': 0.8972},\n",
              " 120: {'neg': 0.013, 'neu': 0.785, 'pos': 0.203, 'compound': 0.9828},\n",
              " 121: {'neg': 0.026, 'neu': 0.759, 'pos': 0.215, 'compound': 0.9509},\n",
              " 122: {'neg': 0.102, 'neu': 0.822, 'pos': 0.076, 'compound': -0.3626},\n",
              " 123: {'neg': 0.025, 'neu': 0.803, 'pos': 0.172, 'compound': 0.9022},\n",
              " 124: {'neg': 0.017, 'neu': 0.795, 'pos': 0.188, 'compound': 0.9769},\n",
              " 125: {'neg': 0.079, 'neu': 0.67, 'pos': 0.252, 'compound': 0.9678},\n",
              " 126: {'neg': 0.035, 'neu': 0.87, 'pos': 0.095, 'compound': 0.5709},\n",
              " 127: {'neg': 0.0, 'neu': 0.721, 'pos': 0.279, 'compound': 0.9258},\n",
              " 128: {'neg': 0.067, 'neu': 0.633, 'pos': 0.299, 'compound': 0.9022},\n",
              " 129: {'neg': 0.043, 'neu': 0.728, 'pos': 0.229, 'compound': 0.8142},\n",
              " 130: {'neg': 0.114, 'neu': 0.676, 'pos': 0.21, 'compound': 0.6721},\n",
              " 131: {'neg': 0.0, 'neu': 0.755, 'pos': 0.245, 'compound': 0.8658},\n",
              " 132: {'neg': 0.135, 'neu': 0.76, 'pos': 0.105, 'compound': -0.3612},\n",
              " 133: {'neg': 0.046, 'neu': 0.772, 'pos': 0.181, 'compound': 0.7902},\n",
              " 134: {'neg': 0.02, 'neu': 0.878, 'pos': 0.103, 'compound': 0.8082},\n",
              " 135: {'neg': 0.0, 'neu': 0.877, 'pos': 0.123, 'compound': 0.4215},\n",
              " 136: {'neg': 0.0, 'neu': 0.9, 'pos': 0.1, 'compound': 0.6503},\n",
              " 137: {'neg': 0.0, 'neu': 0.695, 'pos': 0.305, 'compound': 0.9661},\n",
              " 138: {'neg': 0.0, 'neu': 0.689, 'pos': 0.311, 'compound': 0.8591},\n",
              " 139: {'neg': 0.15, 'neu': 0.773, 'pos': 0.077, 'compound': -0.4199},\n",
              " 140: {'neg': 0.043, 'neu': 0.833, 'pos': 0.125, 'compound': 0.835},\n",
              " 141: {'neg': 0.098, 'neu': 0.787, 'pos': 0.114, 'compound': 0.2023},\n",
              " 142: {'neg': 0.0, 'neu': 0.782, 'pos': 0.218, 'compound': 0.7814},\n",
              " 143: {'neg': 0.0, 'neu': 0.763, 'pos': 0.237, 'compound': 0.9296},\n",
              " 144: {'neg': 0.059, 'neu': 0.667, 'pos': 0.274, 'compound': 0.9653},\n",
              " 145: {'neg': 0.058, 'neu': 0.841, 'pos': 0.102, 'compound': 0.6124},\n",
              " 146: {'neg': 0.144, 'neu': 0.677, 'pos': 0.178, 'compound': 0.6341},\n",
              " 147: {'neg': 0.087, 'neu': 0.783, 'pos': 0.13, 'compound': 0.7567},\n",
              " 148: {'neg': 0.058, 'neu': 0.867, 'pos': 0.075, 'compound': 0.1533},\n",
              " 149: {'neg': 0.04, 'neu': 0.833, 'pos': 0.127, 'compound': 0.6956},\n",
              " 150: {'neg': 0.0, 'neu': 0.709, 'pos': 0.291, 'compound': 0.9231},\n",
              " 151: {'neg': 0.0, 'neu': 0.564, 'pos': 0.436, 'compound': 0.9858},\n",
              " 152: {'neg': 0.0, 'neu': 0.784, 'pos': 0.216, 'compound': 0.765},\n",
              " 153: {'neg': 0.0, 'neu': 0.775, 'pos': 0.225, 'compound': 0.7269},\n",
              " 154: {'neg': 0.12, 'neu': 0.76, 'pos': 0.12, 'compound': 0.2502},\n",
              " 155: {'neg': 0.0, 'neu': 0.647, 'pos': 0.353, 'compound': 0.9803},\n",
              " 156: {'neg': 0.0, 'neu': 0.768, 'pos': 0.232, 'compound': 0.9681},\n",
              " 157: {'neg': 0.191, 'neu': 0.809, 'pos': 0.0, 'compound': -0.7269},\n",
              " 158: {'neg': 0.071, 'neu': 0.514, 'pos': 0.415, 'compound': 0.8934},\n",
              " 159: {'neg': 0.065, 'neu': 0.893, 'pos': 0.042, 'compound': -0.4721},\n",
              " 160: {'neg': 0.081, 'neu': 0.779, 'pos': 0.14, 'compound': 0.4194},\n",
              " 161: {'neg': 0.0, 'neu': 0.644, 'pos': 0.356, 'compound': 0.9117},\n",
              " 162: {'neg': 0.106, 'neu': 0.894, 'pos': 0.0, 'compound': -0.5504},\n",
              " 163: {'neg': 0.072, 'neu': 0.652, 'pos': 0.276, 'compound': 0.9517},\n",
              " 164: {'neg': 0.047, 'neu': 0.869, 'pos': 0.085, 'compound': 0.4199},\n",
              " 165: {'neg': 0.025, 'neu': 0.752, 'pos': 0.223, 'compound': 0.8957},\n",
              " 166: {'neg': 0.032, 'neu': 0.717, 'pos': 0.251, 'compound': 0.9597},\n",
              " 167: {'neg': 0.0, 'neu': 0.657, 'pos': 0.343, 'compound': 0.9098},\n",
              " 168: {'neg': 0.05, 'neu': 0.905, 'pos': 0.045, 'compound': -0.1154},\n",
              " 169: {'neg': 0.186, 'neu': 0.74, 'pos': 0.074, 'compound': -0.5283},\n",
              " 170: {'neg': 0.141, 'neu': 0.832, 'pos': 0.028, 'compound': -0.7721},\n",
              " 171: {'neg': 0.0, 'neu': 0.854, 'pos': 0.146, 'compound': 0.6476},\n",
              " 172: {'neg': 0.04, 'neu': 0.844, 'pos': 0.116, 'compound': 0.6808},\n",
              " 173: {'neg': 0.0, 'neu': 0.763, 'pos': 0.237, 'compound': 0.8906},\n",
              " 174: {'neg': 0.022, 'neu': 0.788, 'pos': 0.189, 'compound': 0.9901},\n",
              " 175: {'neg': 0.04, 'neu': 0.722, 'pos': 0.237, 'compound': 0.9782},\n",
              " 176: {'neg': 0.0, 'neu': 0.874, 'pos': 0.126, 'compound': 0.7579},\n",
              " 177: {'neg': 0.0, 'neu': 0.938, 'pos': 0.062, 'compound': 0.4215},\n",
              " 178: {'neg': 0.058, 'neu': 0.794, 'pos': 0.148, 'compound': 0.6249},\n",
              " 179: {'neg': 0.2, 'neu': 0.63, 'pos': 0.171, 'compound': 0.1203},\n",
              " 180: {'neg': 0.048, 'neu': 0.829, 'pos': 0.122, 'compound': 0.7458},\n",
              " 181: {'neg': 0.076, 'neu': 0.767, 'pos': 0.156, 'compound': 0.6085},\n",
              " 182: {'neg': 0.0, 'neu': 0.433, 'pos': 0.567, 'compound': 0.9667},\n",
              " 183: {'neg': 0.088, 'neu': 0.743, 'pos': 0.169, 'compound': 0.943},\n",
              " 184: {'neg': 0.0, 'neu': 0.857, 'pos': 0.143, 'compound': 0.9577},\n",
              " 185: {'neg': 0.11, 'neu': 0.593, 'pos': 0.297, 'compound': 0.6597},\n",
              " 186: {'neg': 0.189, 'neu': 0.811, 'pos': 0.0, 'compound': -0.5994},\n",
              " 187: {'neg': 0.016, 'neu': 0.842, 'pos': 0.142, 'compound': 0.9944},\n",
              " 188: {'neg': 0.0, 'neu': 0.824, 'pos': 0.176, 'compound': 0.6983},\n",
              " 189: {'neg': 0.0, 'neu': 0.843, 'pos': 0.157, 'compound': 0.8868},\n",
              " 190: {'neg': 0.0, 'neu': 0.934, 'pos': 0.066, 'compound': 0.3506},\n",
              " 191: {'neg': 0.148, 'neu': 0.64, 'pos': 0.212, 'compound': 0.4926},\n",
              " 192: {'neg': 0.0, 'neu': 0.75, 'pos': 0.25, 'compound': 0.9062},\n",
              " 193: {'neg': 0.055, 'neu': 0.728, 'pos': 0.217, 'compound': 0.8756},\n",
              " 194: {'neg': 0.031, 'neu': 0.735, 'pos': 0.234, 'compound': 0.9595},\n",
              " 195: {'neg': 0.082, 'neu': 0.483, 'pos': 0.435, 'compound': 0.8299},\n",
              " 196: {'neg': 0.0, 'neu': 0.761, 'pos': 0.239, 'compound': 0.9538},\n",
              " 197: {'neg': 0.0, 'neu': 0.917, 'pos': 0.083, 'compound': 0.4738},\n",
              " 198: {'neg': 0.0, 'neu': 0.904, 'pos': 0.096, 'compound': 0.4153},\n",
              " 199: {'neg': 0.0, 'neu': 0.701, 'pos': 0.299, 'compound': 0.8268},\n",
              " 200: {'neg': 0.0, 'neu': 0.811, 'pos': 0.189, 'compound': 0.7178},\n",
              " 201: {'neg': 0.039, 'neu': 0.888, 'pos': 0.072, 'compound': 0.6381},\n",
              " 202: {'neg': 0.064, 'neu': 0.597, 'pos': 0.339, 'compound': 0.9531},\n",
              " 203: {'neg': 0.0, 'neu': 0.688, 'pos': 0.312, 'compound': 0.8225},\n",
              " 204: {'neg': 0.061, 'neu': 0.814, 'pos': 0.125, 'compound': 0.8728},\n",
              " 205: {'neg': 0.0, 'neu': 0.882, 'pos': 0.118, 'compound': 0.6249},\n",
              " 206: {'neg': 0.0, 'neu': 0.754, 'pos': 0.246, 'compound': 0.9368},\n",
              " 207: {'neg': 0.0, 'neu': 0.59, 'pos': 0.41, 'compound': 0.8779},\n",
              " 208: {'neg': 0.051, 'neu': 0.8, 'pos': 0.15, 'compound': 0.8436},\n",
              " 209: {'neg': 0.05, 'neu': 0.82, 'pos': 0.13, 'compound': 0.8913},\n",
              " 210: {'neg': 0.045, 'neu': 0.761, 'pos': 0.194, 'compound': 0.9893},\n",
              " 211: {'neg': 0.075, 'neu': 0.755, 'pos': 0.171, 'compound': 0.9218},\n",
              " 212: {'neg': 0.051, 'neu': 0.821, 'pos': 0.129, 'compound': 0.9529},\n",
              " 213: {'neg': 0.051, 'neu': 0.838, 'pos': 0.11, 'compound': 0.4404},\n",
              " 214: {'neg': 0.095, 'neu': 0.883, 'pos': 0.022, 'compound': -0.9726},\n",
              " 215: {'neg': 0.0, 'neu': 0.891, 'pos': 0.109, 'compound': 0.6476},\n",
              " 216: {'neg': 0.0, 'neu': 0.798, 'pos': 0.202, 'compound': 0.7964},\n",
              " 217: {'neg': 0.078, 'neu': 0.922, 'pos': 0.0, 'compound': -0.296},\n",
              " 218: {'neg': 0.015, 'neu': 0.884, 'pos': 0.101, 'compound': 0.9736},\n",
              " 219: {'neg': 0.059, 'neu': 0.774, 'pos': 0.167, 'compound': 0.9424},\n",
              " 220: {'neg': 0.031, 'neu': 0.702, 'pos': 0.267, 'compound': 0.9812},\n",
              " 221: {'neg': 0.027, 'neu': 0.909, 'pos': 0.064, 'compound': 0.25},\n",
              " 222: {'neg': 0.068, 'neu': 0.666, 'pos': 0.266, 'compound': 0.9883},\n",
              " 223: {'neg': 0.0, 'neu': 0.779, 'pos': 0.221, 'compound': 0.9623},\n",
              " 224: {'neg': 0.0, 'neu': 0.607, 'pos': 0.393, 'compound': 0.923},\n",
              " 225: {'neg': 0.152, 'neu': 0.739, 'pos': 0.109, 'compound': -0.25},\n",
              " 226: {'neg': 0.064, 'neu': 0.794, 'pos': 0.141, 'compound': 0.7951},\n",
              " 227: {'neg': 0.139, 'neu': 0.754, 'pos': 0.108, 'compound': -0.3774},\n",
              " 228: {'neg': 0.106, 'neu': 0.718, 'pos': 0.176, 'compound': 0.5475},\n",
              " 229: {'neg': 0.0, 'neu': 0.837, 'pos': 0.163, 'compound': 0.6486},\n",
              " 230: {'neg': 0.025, 'neu': 0.854, 'pos': 0.121, 'compound': 0.6478},\n",
              " 231: {'neg': 0.03, 'neu': 0.726, 'pos': 0.244, 'compound': 0.9281},\n",
              " 232: {'neg': 0.0, 'neu': 0.904, 'pos': 0.096, 'compound': 0.8144},\n",
              " 233: {'neg': 0.0, 'neu': 0.807, 'pos': 0.193, 'compound': 0.8126},\n",
              " 234: {'neg': 0.103, 'neu': 0.729, 'pos': 0.169, 'compound': 0.2481},\n",
              " 235: {'neg': 0.0, 'neu': 0.805, 'pos': 0.195, 'compound': 0.8655},\n",
              " 236: {'neg': 0.11, 'neu': 0.792, 'pos': 0.098, 'compound': -0.4786},\n",
              " 237: {'neg': 0.041, 'neu': 0.793, 'pos': 0.166, 'compound': 0.9387},\n",
              " 238: {'neg': 0.029, 'neu': 0.798, 'pos': 0.174, 'compound': 0.9936},\n",
              " 239: {'neg': 0.064, 'neu': 0.7, 'pos': 0.236, 'compound': 0.9677},\n",
              " 240: {'neg': 0.0, 'neu': 0.72, 'pos': 0.28, 'compound': 0.765},\n",
              " 241: {'neg': 0.066, 'neu': 0.71, 'pos': 0.223, 'compound': 0.9553},\n",
              " 242: {'neg': 0.0, 'neu': 0.765, 'pos': 0.235, 'compound': 0.807},\n",
              " 243: {'neg': 0.0, 'neu': 0.76, 'pos': 0.24, 'compound': 0.9344},\n",
              " 244: {'neg': 0.0, 'neu': 1.0, 'pos': 0.0, 'compound': 0.0},\n",
              " 245: {'neg': 0.081, 'neu': 0.63, 'pos': 0.289, 'compound': 0.765},\n",
              " 246: {'neg': 0.072, 'neu': 0.825, 'pos': 0.103, 'compound': 0.682},\n",
              " 247: {'neg': 0.075, 'neu': 0.633, 'pos': 0.292, 'compound': 0.9757},\n",
              " 248: {'neg': 0.0, 'neu': 0.869, 'pos': 0.131, 'compound': 0.7717},\n",
              " 249: {'neg': 0.0, 'neu': 0.602, 'pos': 0.398, 'compound': 0.9351},\n",
              " 250: {'neg': 0.0, 'neu': 0.75, 'pos': 0.25, 'compound': 0.7184},\n",
              " 251: {'neg': 0.047, 'neu': 0.781, 'pos': 0.172, 'compound': 0.9476},\n",
              " 252: {'neg': 0.076, 'neu': 0.924, 'pos': 0.0, 'compound': -0.4823},\n",
              " 253: {'neg': 0.107, 'neu': 0.893, 'pos': 0.0, 'compound': -0.4767},\n",
              " 254: {'neg': 0.0, 'neu': 0.801, 'pos': 0.199, 'compound': 0.9698},\n",
              " 255: {'neg': 0.091, 'neu': 0.736, 'pos': 0.172, 'compound': 0.4118},\n",
              " 256: {'neg': 0.103, 'neu': 0.699, 'pos': 0.198, 'compound': 0.9805},\n",
              " 257: {'neg': 0.034, 'neu': 0.664, 'pos': 0.302, 'compound': 0.9463},\n",
              " 258: {'neg': 0.105, 'neu': 0.816, 'pos': 0.079, 'compound': -0.3489},\n",
              " 259: {'neg': 0.04, 'neu': 0.841, 'pos': 0.119, 'compound': 0.8883},\n",
              " 260: {'neg': 0.0, 'neu': 0.833, 'pos': 0.167, 'compound': 0.8824},\n",
              " 261: {'neg': 0.0, 'neu': 0.613, 'pos': 0.387, 'compound': 0.9493},\n",
              " 262: {'neg': 0.0, 'neu': 0.54, 'pos': 0.46, 'compound': 0.9153},\n",
              " 263: {'neg': 0.106, 'neu': 0.706, 'pos': 0.188, 'compound': 0.5849},\n",
              " 264: {'neg': 0.098, 'neu': 0.875, 'pos': 0.026, 'compound': -0.9218},\n",
              " 265: {'neg': 0.051, 'neu': 0.802, 'pos': 0.147, 'compound': 0.872},\n",
              " 266: {'neg': 0.0, 'neu': 0.619, 'pos': 0.381, 'compound': 0.902},\n",
              " 267: {'neg': 0.0, 'neu': 0.862, 'pos': 0.138, 'compound': 0.4926},\n",
              " 268: {'neg': 0.062, 'neu': 0.911, 'pos': 0.028, 'compound': -0.7067},\n",
              " 269: {'neg': 0.0, 'neu': 0.767, 'pos': 0.233, 'compound': 0.8176},\n",
              " 270: {'neg': 0.032, 'neu': 0.794, 'pos': 0.174, 'compound': 0.9354},\n",
              " 271: {'neg': 0.0, 'neu': 0.839, 'pos': 0.161, 'compound': 0.5927},\n",
              " 272: {'neg': 0.062, 'neu': 0.863, 'pos': 0.074, 'compound': 0.2609},\n",
              " 273: {'neg': 0.052, 'neu': 0.817, 'pos': 0.132, 'compound': 0.7003},\n",
              " 274: {'neg': 0.0, 'neu': 0.733, 'pos': 0.267, 'compound': 0.7346},\n",
              " 275: {'neg': 0.037, 'neu': 0.693, 'pos': 0.271, 'compound': 0.9421},\n",
              " 276: {'neg': 0.132, 'neu': 0.711, 'pos': 0.157, 'compound': 0.3303},\n",
              " 277: {'neg': 0.0, 'neu': 0.523, 'pos': 0.477, 'compound': 0.9542},\n",
              " 278: {'neg': 0.025, 'neu': 0.809, 'pos': 0.167, 'compound': 0.937},\n",
              " 279: {'neg': 0.072, 'neu': 0.641, 'pos': 0.288, 'compound': 0.8565},\n",
              " 280: {'neg': 0.066, 'neu': 0.859, 'pos': 0.075, 'compound': 0.1666},\n",
              " 281: {'neg': 0.049, 'neu': 0.823, 'pos': 0.127, 'compound': 0.6438},\n",
              " 282: {'neg': 0.0, 'neu': 0.754, 'pos': 0.246, 'compound': 0.8016},\n",
              " 283: {'neg': 0.028, 'neu': 0.934, 'pos': 0.038, 'compound': 0.1779},\n",
              " 284: {'neg': 0.032, 'neu': 0.792, 'pos': 0.176, 'compound': 0.9852},\n",
              " 285: {'neg': 0.0, 'neu': 0.864, 'pos': 0.136, 'compound': 0.5255},\n",
              " 286: {'neg': 0.0, 'neu': 0.898, 'pos': 0.102, 'compound': 0.7917},\n",
              " 287: {'neg': 0.0, 'neu': 0.857, 'pos': 0.143, 'compound': 0.919},\n",
              " 288: {'neg': 0.035, 'neu': 0.801, 'pos': 0.163, 'compound': 0.9676},\n",
              " 289: {'neg': 0.054, 'neu': 0.745, 'pos': 0.2, 'compound': 0.9557},\n",
              " 290: {'neg': 0.039, 'neu': 0.697, 'pos': 0.264, 'compound': 0.8439},\n",
              " 291: {'neg': 0.104, 'neu': 0.705, 'pos': 0.191, 'compound': 0.6257},\n",
              " 292: {'neg': 0.052, 'neu': 0.745, 'pos': 0.203, 'compound': 0.9434},\n",
              " 293: {'neg': 0.09, 'neu': 0.705, 'pos': 0.205, 'compound': 0.8636},\n",
              " 294: {'neg': 0.034, 'neu': 0.757, 'pos': 0.209, 'compound': 0.9823},\n",
              " 295: {'neg': 0.0, 'neu': 0.887, 'pos': 0.113, 'compound': 0.4939},\n",
              " 296: {'neg': 0.12, 'neu': 0.781, 'pos': 0.099, 'compound': -0.7095},\n",
              " 297: {'neg': 0.025, 'neu': 0.737, 'pos': 0.239, 'compound': 0.9566},\n",
              " 298: {'neg': 0.0, 'neu': 0.811, 'pos': 0.189, 'compound': 0.8781},\n",
              " 299: {'neg': 0.0, 'neu': 0.681, 'pos': 0.319, 'compound': 0.8934},\n",
              " 300: {'neg': 0.078, 'neu': 0.735, 'pos': 0.187, 'compound': 0.9637},\n",
              " 301: {'neg': 0.0, 'neu': 0.632, 'pos': 0.368, 'compound': 0.9661},\n",
              " 302: {'neg': 0.148, 'neu': 0.625, 'pos': 0.227, 'compound': 0.5849},\n",
              " 303: {'neg': 0.014, 'neu': 0.705, 'pos': 0.281, 'compound': 0.9763},\n",
              " 304: {'neg': 0.076, 'neu': 0.791, 'pos': 0.133, 'compound': 0.25},\n",
              " 305: {'neg': 0.058, 'neu': 0.778, 'pos': 0.165, 'compound': 0.5734},\n",
              " 306: {'neg': 0.15, 'neu': 0.773, 'pos': 0.077, 'compound': -0.9037},\n",
              " 307: {'neg': 0.097, 'neu': 0.781, 'pos': 0.122, 'compound': 0.4733},\n",
              " 308: {'neg': 0.0, 'neu': 0.649, 'pos': 0.351, 'compound': 0.894},\n",
              " 309: {'neg': 0.0, 'neu': 0.796, 'pos': 0.204, 'compound': 0.9695},\n",
              " 310: {'neg': 0.0, 'neu': 0.774, 'pos': 0.226, 'compound': 0.9287},\n",
              " 311: {'neg': 0.031, 'neu': 0.657, 'pos': 0.312, 'compound': 0.9644},\n",
              " 312: {'neg': 0.087, 'neu': 0.913, 'pos': 0.0, 'compound': -0.4939},\n",
              " 313: {'neg': 0.0, 'neu': 1.0, 'pos': 0.0, 'compound': 0.0},\n",
              " 314: {'neg': 0.018, 'neu': 0.914, 'pos': 0.069, 'compound': 0.4971},\n",
              " 315: {'neg': 0.024, 'neu': 0.828, 'pos': 0.148, 'compound': 0.6897},\n",
              " 316: {'neg': 0.06, 'neu': 0.772, 'pos': 0.168, 'compound': 0.9109},\n",
              " 317: {'neg': 0.0, 'neu': 0.823, 'pos': 0.177, 'compound': 0.5783},\n",
              " 318: {'neg': 0.07, 'neu': 0.839, 'pos': 0.091, 'compound': 0.6785},\n",
              " 319: {'neg': 0.0, 'neu': 0.904, 'pos': 0.096, 'compound': 0.3716},\n",
              " 320: {'neg': 0.0, 'neu': 0.758, 'pos': 0.242, 'compound': 0.7717},\n",
              " 321: {'neg': 0.065, 'neu': 0.562, 'pos': 0.373, 'compound': 0.886},\n",
              " 322: {'neg': 0.0, 'neu': 1.0, 'pos': 0.0, 'compound': 0.0},\n",
              " 323: {'neg': 0.05, 'neu': 0.69, 'pos': 0.26, 'compound': 0.7712},\n",
              " 324: {'neg': 0.0, 'neu': 1.0, 'pos': 0.0, 'compound': 0.0},\n",
              " 325: {'neg': 0.213, 'neu': 0.514, 'pos': 0.274, 'compound': 0.3185},\n",
              " 326: {'neg': 0.0, 'neu': 0.688, 'pos': 0.312, 'compound': 0.8979},\n",
              " 327: {'neg': 0.075, 'neu': 0.726, 'pos': 0.199, 'compound': 0.9373},\n",
              " 328: {'neg': 0.064, 'neu': 0.594, 'pos': 0.342, 'compound': 0.9581},\n",
              " 329: {'neg': 0.163, 'neu': 0.708, 'pos': 0.129, 'compound': -0.8462},\n",
              " 330: {'neg': 0.029, 'neu': 0.856, 'pos': 0.115, 'compound': 0.5709},\n",
              " 331: {'neg': 0.0, 'neu': 0.837, 'pos': 0.163, 'compound': 0.6249},\n",
              " 332: {'neg': 0.115, 'neu': 0.885, 'pos': 0.0, 'compound': -0.4588},\n",
              " 333: {'neg': 0.0, 'neu': 0.689, 'pos': 0.311, 'compound': 0.9732},\n",
              " 334: {'neg': 0.0, 'neu': 0.662, 'pos': 0.338, 'compound': 0.9719},\n",
              " 335: {'neg': 0.0, 'neu': 0.886, 'pos': 0.114, 'compound': 0.6124},\n",
              " 336: {'neg': 0.046, 'neu': 0.8, 'pos': 0.154, 'compound': 0.6796},\n",
              " 337: {'neg': 0.078, 'neu': 0.651, 'pos': 0.271, 'compound': 0.8506},\n",
              " 338: {'neg': 0.0, 'neu': 0.765, 'pos': 0.235, 'compound': 0.9008},\n",
              " 339: {'neg': 0.0, 'neu': 0.734, 'pos': 0.266, 'compound': 0.784},\n",
              " 340: {'neg': 0.078, 'neu': 0.823, 'pos': 0.098, 'compound': 0.4416},\n",
              " 341: {'neg': 0.069, 'neu': 0.782, 'pos': 0.149, 'compound': 0.8499},\n",
              " 342: {'neg': 0.041, 'neu': 0.657, 'pos': 0.302, 'compound': 0.8731},\n",
              " 343: {'neg': 0.0, 'neu': 0.912, 'pos': 0.088, 'compound': 0.4939},\n",
              " 344: {'neg': 0.11, 'neu': 0.678, 'pos': 0.211, 'compound': 0.8053},\n",
              " 345: {'neg': 0.101, 'neu': 0.627, 'pos': 0.273, 'compound': 0.9758},\n",
              " 346: {'neg': 0.044, 'neu': 0.725, 'pos': 0.231, 'compound': 0.8319},\n",
              " 347: {'neg': 0.0, 'neu': 0.608, 'pos': 0.392, 'compound': 0.9694},\n",
              " 348: {'neg': 0.093, 'neu': 0.752, 'pos': 0.155, 'compound': 0.7667},\n",
              " 349: {'neg': 0.0, 'neu': 0.678, 'pos': 0.322, 'compound': 0.908},\n",
              " 350: {'neg': 0.071, 'neu': 0.861, 'pos': 0.068, 'compound': -0.0258},\n",
              " 351: {'neg': 0.0, 'neu': 0.715, 'pos': 0.285, 'compound': 0.9177},\n",
              " 352: {'neg': 0.064, 'neu': 0.727, 'pos': 0.209, 'compound': 0.7337},\n",
              " 353: {'neg': 0.0, 'neu': 0.893, 'pos': 0.107, 'compound': 0.802},\n",
              " 354: {'neg': 0.0, 'neu': 0.888, 'pos': 0.112, 'compound': 0.6604},\n",
              " 355: {'neg': 0.0, 'neu': 0.802, 'pos': 0.198, 'compound': 0.6892},\n",
              " 356: {'neg': 0.05, 'neu': 0.734, 'pos': 0.215, 'compound': 0.8008},\n",
              " 357: {'neg': 0.027, 'neu': 0.835, 'pos': 0.138, 'compound': 0.8805},\n",
              " 358: {'neg': 0.0, 'neu': 0.895, 'pos': 0.105, 'compound': 0.631},\n",
              " 359: {'neg': 0.164, 'neu': 0.694, 'pos': 0.142, 'compound': 0.283},\n",
              " 360: {'neg': 0.0, 'neu': 0.705, 'pos': 0.295, 'compound': 0.954},\n",
              " 361: {'neg': 0.033, 'neu': 0.785, 'pos': 0.182, 'compound': 0.9441},\n",
              " 362: {'neg': 0.228, 'neu': 0.772, 'pos': 0.0, 'compound': -0.734},\n",
              " 363: {'neg': 0.0, 'neu': 0.891, 'pos': 0.109, 'compound': 0.8802},\n",
              " 364: {'neg': 0.0, 'neu': 0.742, 'pos': 0.258, 'compound': 0.8088},\n",
              " 365: {'neg': 0.033, 'neu': 0.621, 'pos': 0.346, 'compound': 0.9334},\n",
              " 366: {'neg': 0.076, 'neu': 0.768, 'pos': 0.156, 'compound': 0.4434},\n",
              " 367: {'neg': 0.0, 'neu': 0.685, 'pos': 0.315, 'compound': 0.9366},\n",
              " 368: {'neg': 0.038, 'neu': 0.84, 'pos': 0.122, 'compound': 0.8016},\n",
              " 369: {'neg': 0.064, 'neu': 0.871, 'pos': 0.066, 'compound': 0.0258},\n",
              " 370: {'neg': 0.0, 'neu': 0.913, 'pos': 0.087, 'compound': 0.7703},\n",
              " 371: {'neg': 0.012, 'neu': 0.86, 'pos': 0.128, 'compound': 0.9923},\n",
              " 372: {'neg': 0.087, 'neu': 0.643, 'pos': 0.27, 'compound': 0.6912},\n",
              " 373: {'neg': 0.11, 'neu': 0.748, 'pos': 0.142, 'compound': 0.1264},\n",
              " 374: {'neg': 0.0, 'neu': 0.588, 'pos': 0.412, 'compound': 0.9168},\n",
              " 375: {'neg': 0.0, 'neu': 0.728, 'pos': 0.272, 'compound': 0.9472},\n",
              " 376: {'neg': 0.054, 'neu': 0.69, 'pos': 0.256, 'compound': 0.8962},\n",
              " 377: {'neg': 0.0, 'neu': 0.796, 'pos': 0.204, 'compound': 0.874},\n",
              " 378: {'neg': 0.046, 'neu': 0.793, 'pos': 0.161, 'compound': 0.9341},\n",
              " 379: {'neg': 0.063, 'neu': 0.524, 'pos': 0.413, 'compound': 0.9709},\n",
              " 380: {'neg': 0.036, 'neu': 0.695, 'pos': 0.269, 'compound': 0.9468},\n",
              " 381: {'neg': 0.074, 'neu': 0.715, 'pos': 0.212, 'compound': 0.8349},\n",
              " 382: {'neg': 0.318, 'neu': 0.515, 'pos': 0.167, 'compound': -0.7184},\n",
              " 383: {'neg': 0.0, 'neu': 0.905, 'pos': 0.095, 'compound': 0.6369},\n",
              " 384: {'neg': 0.027, 'neu': 0.78, 'pos': 0.193, 'compound': 0.9913},\n",
              " 385: {'neg': 0.0, 'neu': 0.767, 'pos': 0.233, 'compound': 0.8065},\n",
              " 386: {'neg': 0.0, 'neu': 0.774, 'pos': 0.226, 'compound': 0.9796},\n",
              " 387: {'neg': 0.0, 'neu': 0.839, 'pos': 0.161, 'compound': 0.8625},\n",
              " 388: {'neg': 0.089, 'neu': 0.75, 'pos': 0.161, 'compound': 0.8201},\n",
              " 389: {'neg': 0.088, 'neu': 0.537, 'pos': 0.375, 'compound': 0.755},\n",
              " 390: {'neg': 0.031, 'neu': 0.764, 'pos': 0.205, 'compound': 0.9183},\n",
              " 391: {'neg': 0.248, 'neu': 0.636, 'pos': 0.116, 'compound': -0.8174},\n",
              " 392: {'neg': 0.0, 'neu': 0.642, 'pos': 0.358, 'compound': 0.8591},\n",
              " 393: {'neg': 0.0, 'neu': 0.661, 'pos': 0.339, 'compound': 0.8481},\n",
              " 394: {'neg': 0.0, 'neu': 1.0, 'pos': 0.0, 'compound': 0.0},\n",
              " 395: {'neg': 0.0, 'neu': 0.83, 'pos': 0.17, 'compound': 0.8016},\n",
              " 396: {'neg': 0.0, 'neu': 0.502, 'pos': 0.498, 'compound': 0.9677},\n",
              " 397: {'neg': 0.0, 'neu': 0.638, 'pos': 0.362, 'compound': 0.9682},\n",
              " 398: {'neg': 0.046, 'neu': 0.703, 'pos': 0.251, 'compound': 0.867},\n",
              " 399: {'neg': 0.0, 'neu': 0.8, 'pos': 0.2, 'compound': 0.9885},\n",
              " 400: {'neg': 0.0, 'neu': 0.787, 'pos': 0.213, 'compound': 0.7644},\n",
              " 401: {'neg': 0.234, 'neu': 0.556, 'pos': 0.211, 'compound': 0.0},\n",
              " 402: {'neg': 0.093, 'neu': 0.813, 'pos': 0.095, 'compound': 0.0258},\n",
              " 403: {'neg': 0.215, 'neu': 0.697, 'pos': 0.088, 'compound': -0.6351},\n",
              " 404: {'neg': 0.194, 'neu': 0.771, 'pos': 0.035, 'compound': -0.9058},\n",
              " 405: {'neg': 0.0, 'neu': 0.691, 'pos': 0.309, 'compound': 0.8172},\n",
              " 406: {'neg': 0.019, 'neu': 0.702, 'pos': 0.279, 'compound': 0.9622},\n",
              " 407: {'neg': 0.0, 'neu': 0.954, 'pos': 0.046, 'compound': 0.6249},\n",
              " 408: {'neg': 0.036, 'neu': 0.772, 'pos': 0.192, 'compound': 0.9477},\n",
              " 409: {'neg': 0.0, 'neu': 0.713, 'pos': 0.287, 'compound': 0.9257},\n",
              " 410: {'neg': 0.05, 'neu': 0.758, 'pos': 0.192, 'compound': 0.8316},\n",
              " 411: {'neg': 0.016, 'neu': 0.879, 'pos': 0.105, 'compound': 0.8681},\n",
              " 412: {'neg': 0.0, 'neu': 0.802, 'pos': 0.198, 'compound': 0.8555},\n",
              " 413: {'neg': 0.0, 'neu': 0.815, 'pos': 0.185, 'compound': 0.7777},\n",
              " 414: {'neg': 0.0, 'neu': 0.914, 'pos': 0.086, 'compound': 0.4118},\n",
              " 415: {'neg': 0.0, 'neu': 0.722, 'pos': 0.278, 'compound': 0.8902},\n",
              " 416: {'neg': 0.0, 'neu': 0.594, 'pos': 0.406, 'compound': 0.9612},\n",
              " 417: {'neg': 0.07, 'neu': 0.799, 'pos': 0.131, 'compound': 0.9222},\n",
              " 418: {'neg': 0.166, 'neu': 0.809, 'pos': 0.025, 'compound': -0.8957},\n",
              " 419: {'neg': 0.0, 'neu': 0.784, 'pos': 0.216, 'compound': 0.8876},\n",
              " 420: {'neg': 0.148, 'neu': 0.815, 'pos': 0.037, 'compound': -0.5983},\n",
              " 421: {'neg': 0.035, 'neu': 0.754, 'pos': 0.211, 'compound': 0.9561},\n",
              " 422: {'neg': 0.0, 'neu': 0.861, 'pos': 0.139, 'compound': 0.4404},\n",
              " 423: {'neg': 0.223, 'neu': 0.68, 'pos': 0.096, 'compound': -0.3314},\n",
              " 424: {'neg': 0.055, 'neu': 0.687, 'pos': 0.258, 'compound': 0.9106},\n",
              " 425: {'neg': 0.017, 'neu': 0.821, 'pos': 0.161, 'compound': 0.9576},\n",
              " 426: {'neg': 0.0, 'neu': 0.806, 'pos': 0.194, 'compound': 0.7717},\n",
              " 427: {'neg': 0.029, 'neu': 0.817, 'pos': 0.154, 'compound': 0.7845},\n",
              " 428: {'neg': 0.0, 'neu': 0.761, 'pos': 0.239, 'compound': 0.9337},\n",
              " 429: {'neg': 0.0, 'neu': 0.739, 'pos': 0.261, 'compound': 0.9741},\n",
              " 430: {'neg': 0.0, 'neu': 0.617, 'pos': 0.383, 'compound': 0.9876},\n",
              " 431: {'neg': 0.04, 'neu': 0.786, 'pos': 0.174, 'compound': 0.9847},\n",
              " 432: {'neg': 0.0, 'neu': 0.73, 'pos': 0.27, 'compound': 0.9516},\n",
              " 433: {'neg': 0.083, 'neu': 0.751, 'pos': 0.166, 'compound': 0.8044},\n",
              " 434: {'neg': 0.108, 'neu': 0.593, 'pos': 0.299, 'compound': 0.8655},\n",
              " 435: {'neg': 0.0, 'neu': 0.771, 'pos': 0.229, 'compound': 0.9179},\n",
              " 436: {'neg': 0.0, 'neu': 0.829, 'pos': 0.171, 'compound': 0.8519},\n",
              " 437: {'neg': 0.0, 'neu': 0.926, 'pos': 0.074, 'compound': 0.7383},\n",
              " 438: {'neg': 0.0, 'neu': 0.887, 'pos': 0.113, 'compound': 0.6369},\n",
              " 439: {'neg': 0.0, 'neu': 0.728, 'pos': 0.272, 'compound': 0.87},\n",
              " 440: {'neg': 0.072, 'neu': 0.781, 'pos': 0.147, 'compound': 0.9307},\n",
              " 441: {'neg': 0.078, 'neu': 0.793, 'pos': 0.129, 'compound': 0.5176},\n",
              " 442: {'neg': 0.054, 'neu': 0.69, 'pos': 0.257, 'compound': 0.9683},\n",
              " 443: {'neg': 0.0, 'neu': 0.616, 'pos': 0.384, 'compound': 0.9603},\n",
              " 444: {'neg': 0.044, 'neu': 0.898, 'pos': 0.058, 'compound': 0.1882},\n",
              " 445: {'neg': 0.055, 'neu': 0.873, 'pos': 0.072, 'compound': 0.0935},\n",
              " 446: {'neg': 0.077, 'neu': 0.78, 'pos': 0.143, 'compound': 0.3699},\n",
              " 447: {'neg': 0.042, 'neu': 0.763, 'pos': 0.195, 'compound': 0.9883},\n",
              " 448: {'neg': 0.0, 'neu': 0.713, 'pos': 0.287, 'compound': 0.967},\n",
              " 449: {'neg': 0.0, 'neu': 0.737, 'pos': 0.263, 'compound': 0.8531},\n",
              " 450: {'neg': 0.0, 'neu': 0.845, 'pos': 0.155, 'compound': 0.6908},\n",
              " 451: {'neg': 0.034, 'neu': 0.743, 'pos': 0.223, 'compound': 0.9873},\n",
              " 452: {'neg': 0.054, 'neu': 0.782, 'pos': 0.164, 'compound': 0.9337},\n",
              " 453: {'neg': 0.0, 'neu': 0.5, 'pos': 0.5, 'compound': 0.943},\n",
              " 454: {'neg': 0.0, 'neu': 0.603, 'pos': 0.397, 'compound': 0.8811},\n",
              " 455: {'neg': 0.0, 'neu': 0.699, 'pos': 0.301, 'compound': 0.9619},\n",
              " 456: {'neg': 0.082, 'neu': 0.854, 'pos': 0.064, 'compound': -0.4854},\n",
              " 457: {'neg': 0.0, 'neu': 0.684, 'pos': 0.316, 'compound': 0.926},\n",
              " 458: {'neg': 0.0, 'neu': 0.564, 'pos': 0.436, 'compound': 0.9642},\n",
              " 459: {'neg': 0.045, 'neu': 0.717, 'pos': 0.239, 'compound': 0.8455},\n",
              " 460: {'neg': 0.066, 'neu': 0.743, 'pos': 0.19, 'compound': 0.9481},\n",
              " 461: {'neg': 0.08, 'neu': 0.821, 'pos': 0.099, 'compound': 0.4883},\n",
              " 462: {'neg': 0.037, 'neu': 0.87, 'pos': 0.093, 'compound': 0.34},\n",
              " 463: {'neg': 0.099, 'neu': 0.794, 'pos': 0.108, 'compound': 0.5983},\n",
              " 464: {'neg': 0.019, 'neu': 0.868, 'pos': 0.113, 'compound': 0.8443},\n",
              " 465: {'neg': 0.0, 'neu': 0.838, 'pos': 0.162, 'compound': 0.7823},\n",
              " 466: {'neg': 0.0, 'neu': 0.772, 'pos': 0.228, 'compound': 0.9606},\n",
              " 467: {'neg': 0.009, 'neu': 0.845, 'pos': 0.147, 'compound': 0.9874},\n",
              " 468: {'neg': 0.008, 'neu': 0.818, 'pos': 0.174, 'compound': 0.9926},\n",
              " 469: {'neg': 0.049, 'neu': 0.951, 'pos': 0.0, 'compound': -0.3595},\n",
              " 470: {'neg': 0.0, 'neu': 0.957, 'pos': 0.043, 'compound': 0.25},\n",
              " 471: {'neg': 0.051, 'neu': 0.676, 'pos': 0.273, 'compound': 0.9749},\n",
              " 472: {'neg': 0.0, 'neu': 0.565, 'pos': 0.435, 'compound': 0.9649},\n",
              " 473: {'neg': 0.0, 'neu': 0.686, 'pos': 0.314, 'compound': 0.7506},\n",
              " 474: {'neg': 0.013, 'neu': 0.75, 'pos': 0.237, 'compound': 0.9828},\n",
              " 475: {'neg': 0.0, 'neu': 0.585, 'pos': 0.415, 'compound': 0.9095},\n",
              " 476: {'neg': 0.066, 'neu': 0.614, 'pos': 0.32, 'compound': 0.9684},\n",
              " 477: {'neg': 0.034, 'neu': 0.728, 'pos': 0.238, 'compound': 0.8555},\n",
              " 478: {'neg': 0.0, 'neu': 0.823, 'pos': 0.177, 'compound': 0.6239},\n",
              " 479: {'neg': 0.245, 'neu': 0.652, 'pos': 0.103, 'compound': -0.3855},\n",
              " 480: {'neg': 0.0, 'neu': 0.435, 'pos': 0.565, 'compound': 0.9935},\n",
              " 481: {'neg': 0.022, 'neu': 0.728, 'pos': 0.249, 'compound': 0.9451},\n",
              " 482: {'neg': 0.0, 'neu': 0.605, 'pos': 0.395, 'compound': 0.9079},\n",
              " 483: {'neg': 0.0, 'neu': 0.862, 'pos': 0.138, 'compound': 0.3384},\n",
              " 484: {'neg': 0.088, 'neu': 0.767, 'pos': 0.145, 'compound': 0.4516},\n",
              " 485: {'neg': 0.0, 'neu': 0.761, 'pos': 0.239, 'compound': 0.8547},\n",
              " 486: {'neg': 0.0, 'neu': 0.818, 'pos': 0.182, 'compound': 0.9224},\n",
              " 487: {'neg': 0.0, 'neu': 0.909, 'pos': 0.091, 'compound': 0.296},\n",
              " 488: {'neg': 0.179, 'neu': 0.707, 'pos': 0.114, 'compound': -0.3723},\n",
              " 489: {'neg': 0.0, 'neu': 0.861, 'pos': 0.139, 'compound': 0.9598},\n",
              " 490: {'neg': 0.0, 'neu': 0.763, 'pos': 0.237, 'compound': 0.9788},\n",
              " 491: {'neg': 0.055, 'neu': 0.704, 'pos': 0.241, 'compound': 0.9287},\n",
              " 492: {'neg': 0.0, 'neu': 0.717, 'pos': 0.283, 'compound': 0.9367},\n",
              " 493: {'neg': 0.056, 'neu': 0.855, 'pos': 0.089, 'compound': 0.5976},\n",
              " 494: {'neg': 0.1, 'neu': 0.645, 'pos': 0.254, 'compound': 0.6486},\n",
              " 495: {'neg': 0.0, 'neu': 0.788, 'pos': 0.212, 'compound': 0.9743},\n",
              " 496: {'neg': 0.0, 'neu': 0.554, 'pos': 0.446, 'compound': 0.9725},\n",
              " 497: {'neg': 0.059, 'neu': 0.799, 'pos': 0.142, 'compound': 0.7833},\n",
              " 498: {'neg': 0.025, 'neu': 0.762, 'pos': 0.212, 'compound': 0.9848},\n",
              " 499: {'neg': 0.041, 'neu': 0.904, 'pos': 0.055, 'compound': 0.128},\n",
              " 500: {'neg': 0.0, 'neu': 0.678, 'pos': 0.322, 'compound': 0.9811}}"
            ]
          },
          "metadata": {},
          "execution_count": 50
        }
      ]
    },
    {
      "cell_type": "code",
      "source": [
        "vaders = pd.DataFrame(res).T\n",
        "vaders = vaders.reset_index().rename(columns={'index': 'Id'})\n",
        "vaders = vaders.merge(df, how='left')\n",
        "vaders.head()\n",
        "# Specify the file path where you want to save the Excel file\n",
        "output_excel_file = 'vaders_output.xlsx'\n",
        "\n",
        "# Save the DataFrame 'vaders' to an Excel file\n",
        "vaders.to_excel(output_excel_file, index=False)"
      ],
      "metadata": {
        "id": "V0EMygvictlH"
      },
      "execution_count": 57,
      "outputs": []
    },
    {
      "cell_type": "code",
      "source": [
        "# Plot VADER results\n",
        "ax = sns.barplot(data=vaders, x='Score', y='compound')\n",
        "ax.set_title('Compund Score by Amazon Star Review')\n",
        "plt.show()"
      ],
      "metadata": {
        "colab": {
          "base_uri": "https://localhost:8080/",
          "height": 477
        },
        "id": "iJlBOznydN33",
        "outputId": "9930a289-7e6f-4e10-df12-9bbc981d9edc"
      },
      "execution_count": 55,
      "outputs": [
        {
          "output_type": "display_data",
          "data": {
            "text/plain": [
              "<Figure size 640x480 with 1 Axes>"
            ],
            "image/png": "[encoded data removed]"
          },
          "metadata": {}
        }
      ]
    },
    {
      "cell_type": "markdown",
      "source": [
        "here we can see as per the dataset it is showing the scores wrt the compound scores which reflects as our dataset"
      ],
      "metadata": {
        "id": "o5HqTplidhw0"
      }
    },
    {
      "cell_type": "code",
      "source": [
        "fig, axs = plt.subplots(1, 3, figsize=(12, 3))\n",
        "sns.barplot(data=vaders, x='Score', y='pos', ax=axs[0])\n",
        "sns.barplot(data=vaders, x='Score', y='neu', ax=axs[1])\n",
        "sns.barplot(data=vaders, x='Score', y='neg', ax=axs[2])\n",
        "axs[0].set_title('Positive')\n",
        "axs[1].set_title('Neutral')\n",
        "axs[2].set_title('Negative')\n",
        "plt.tight_layout()\n",
        "plt.show()"
      ],
      "metadata": {
        "colab": {
          "base_uri": "https://localhost:8080/",
          "height": 307
        },
        "id": "JomVIopNddZX",
        "outputId": "565a6643-85af-4fbc-d3f3-f10fed599665"
      },
      "execution_count": 56,
      "outputs": [
        {
          "output_type": "display_data",
          "data": {
            "text/plain": [
              "<Figure size 1200x300 with 3 Axes>"
            ],
            "image/png": "[encoded data removed]"
          },
          "metadata": {}
        }
      ]
    },
    {
      "cell_type": "markdown",
      "source": [
        "NOTE : POS,NEG AND NEU WILL RANGE BETWENEEN 0 TO 1 AND THE O MEANS LEAST NEG OR NEU OR POSITIVE AND 1 MEANS HIGHLY NEG ,NEU ,POSTHERE WE CAN SEE POSITIVITY IS HIGHER AS THE SCORE IS HIGHER\n",
        "VADER IS VALUABLE WHICH SHOWS THAT THE AFTER WE HAVE GROUPED THE DATASET WRT SCORES AND PLOTTED THE AVERAGE OF THE POS IN THE 1st chart we can see that 5 has the maximum avearge values wrt polarity score, similarly for Neutral we chaeked that for each score the average polarity score is same. and for the last graph we can see that the polarityscore for the 1 score is highest thus specifying that the 1 score corresponds to negative statments and 5 means a positive score.thus VADER IS VALUABLE IN HAVING THIS CONNECTION BETWEEN THE SENTIMENT SCORE OF TEXT AND THE SCORE FEATURE OF THE DATASET"
      ],
      "metadata": {
        "id": "zVDRfJuoeC2A"
      }
    },
    {
      "cell_type": "markdown",
      "source": [
        "Step 3. Roberta Pretrained Model\n",
        "Use a model trained of a large corpus of data.\n",
        "Transformer model accounts for the words but also the context related to other words.\n",
        "\n",
        "eaRLIER WE USED ONE WORD BUT IT MISSED THE SARCASM AND CONTEXTUAL RELATIONSHIPS SO HERE WE ARE CHECKING THE SIGNIFICANCE OF DEEPLEARNING tRANSFORMERS TO CHECK ITS IMPORTANCE AND EVALUATE"
      ],
      "metadata": {
        "id": "1EGhAUV2iqis"
      }
    },
    {
      "cell_type": "code",
      "source": [],
      "metadata": {
        "id": "j0V842oNj7wR"
      },
      "execution_count": null,
      "outputs": []
    },
    {
      "cell_type": "markdown",
      "source": [
        "The \"cardiffnlp/twitter-roberta-base-sentiment\" model is a variant of the RoBERTa model fine-tuned specifically for sentiment analysis on Twitter data. RoBERTa is a highly effective language representation model based on the transformer architecture. The \"twitter-roberta-base-sentiment\" variant is fine-tuned to classify text into sentiment categories, such as positive, negative, or neutral, typically using three output nodes."
      ],
      "metadata": {
        "id": "7GmKjYpoj8F6"
      }
    },
    {
      "cell_type": "code",
      "source": [
        "!pip install transformers"
      ],
      "metadata": {
        "colab": {
          "base_uri": "https://localhost:8080/"
        },
        "id": "ISsHAlJmjWrs",
        "outputId": "6835ab92-9246-4b1a-cd54-17e13ed83155"
      },
      "execution_count": 59,
      "outputs": [
        {
          "output_type": "stream",
          "name": "stdout",
          "text": [
            "Collecting transformers\n",
            "  Downloading transformers-4.31.0-py3-none-any.whl (7.4 MB)\n",
            "\u001b[2K     \u001b[90m━━━━━━━━━━━━━━━━━━━━━━━━━━━━━━━━━━━━━━━━\u001b[0m \u001b[32m7.4/7.4 MB\u001b[0m \u001b[31m16.1 MB/s\u001b[0m eta \u001b[36m0:00:00\u001b[0m\n",
            "\u001b[?25hRequirement already satisfied: filelock in /usr/local/lib/python3.10/dist-packages (from transformers) (3.12.2)\n",
            "Collecting huggingface-hub<1.0,>=0.14.1 (from transformers)\n",
            "  Downloading huggingface_hub-0.16.4-py3-none-any.whl (268 kB)\n",
            "\u001b[2K     \u001b[90m━━━━━━━━━━━━━━━━━━━━━━━━━━━━━━━━━━━━━━\u001b[0m \u001b[32m268.8/268.8 kB\u001b[0m \u001b[31m33.5 MB/s\u001b[0m eta \u001b[36m0:00:00\u001b[0m\n",
            "\u001b[?25hRequirement already satisfied: numpy>=1.17 in /usr/local/lib/python3.10/dist-packages (from transformers) (1.22.4)\n",
            "Requirement already satisfied: packaging>=20.0 in /usr/local/lib/python3.10/dist-packages (from transformers) (23.1)\n",
            "Requirement already satisfied: pyyaml>=5.1 in /usr/local/lib/python3.10/dist-packages (from transformers) (6.0.1)\n",
            "Requirement already satisfied: regex!=2019.12.17 in /usr/local/lib/python3.10/dist-packages (from transformers) (2022.10.31)\n",
            "Requirement already satisfied: requests in /usr/local/lib/python3.10/dist-packages (from transformers) (2.27.1)\n",
            "Collecting tokenizers!=0.11.3,<0.14,>=0.11.1 (from transformers)\n",
            "  Downloading tokenizers-0.13.3-cp310-cp310-manylinux_2_17_x86_64.manylinux2014_x86_64.whl (7.8 MB)\n",
            "\u001b[2K     \u001b[90m━━━━━━━━━━━━━━━━━━━━━━━━━━━━━━━━━━━━━━━━\u001b[0m \u001b[32m7.8/7.8 MB\u001b[0m \u001b[31m44.2 MB/s\u001b[0m eta \u001b[36m0:00:00\u001b[0m\n",
            "\u001b[?25hCollecting safetensors>=0.3.1 (from transformers)\n",
            "  Downloading safetensors-0.3.1-cp310-cp310-manylinux_2_17_x86_64.manylinux2014_x86_64.whl (1.3 MB)\n",
            "\u001b[2K     \u001b[90m━━━━━━━━━━━━━━━━━━━━━━━━━━━━━━━━━━━━━━━━\u001b[0m \u001b[32m1.3/1.3 MB\u001b[0m \u001b[31m44.4 MB/s\u001b[0m eta \u001b[36m0:00:00\u001b[0m\n",
            "\u001b[?25hRequirement already satisfied: tqdm>=4.27 in /usr/local/lib/python3.10/dist-packages (from transformers) (4.65.0)\n",
            "Requirement already satisfied: fsspec in /usr/local/lib/python3.10/dist-packages (from huggingface-hub<1.0,>=0.14.1->transformers) (2023.6.0)\n",
            "Requirement already satisfied: typing-extensions>=3.7.4.3 in /usr/local/lib/python3.10/dist-packages (from huggingface-hub<1.0,>=0.14.1->transformers) (4.7.1)\n",
            "Requirement already satisfied: urllib3<1.27,>=1.21.1 in /usr/local/lib/python3.10/dist-packages (from requests->transformers) (1.26.16)\n",
            "Requirement already satisfied: certifi>=2017.4.17 in /usr/local/lib/python3.10/dist-packages (from requests->transformers) (2023.7.22)\n",
            "Requirement already satisfied: charset-normalizer~=2.0.0 in /usr/local/lib/python3.10/dist-packages (from requests->transformers) (2.0.12)\n",
            "Requirement already satisfied: idna<4,>=2.5 in /usr/local/lib/python3.10/dist-packages (from requests->transformers) (3.4)\n",
            "Installing collected packages: tokenizers, safetensors, huggingface-hub, transformers\n",
            "Successfully installed huggingface-hub-0.16.4 safetensors-0.3.1 tokenizers-0.13.3 transformers-4.31.0\n"
          ]
        }
      ]
    },
    {
      "cell_type": "code",
      "source": [
        "from transformers import AutoTokenizer\n",
        "from transformers import AutoModelForSequenceClassification\n",
        "from scipy.special import softmax"
      ],
      "metadata": {
        "id": "xMQjdUhkjAiB"
      },
      "execution_count": 60,
      "outputs": []
    },
    {
      "cell_type": "code",
      "source": [
        "MODEL = f\"cardiffnlp/twitter-roberta-base-sentiment\"\n",
        "tokenizer = AutoTokenizer.from_pretrained(MODEL)\n",
        "model = AutoModelForSequenceClassification.from_pretrained(MODEL)"
      ],
      "metadata": {
        "colab": {
          "base_uri": "https://localhost:8080/",
          "height": 177,
          "referenced_widgets": [
            "54766c65539c40269eb0317ed7c33e6e",
            "24793ee894f544b5b9bc4037a12fc2e9",
            "8324251b13424a7bbc3b3d8c9e7eec61",
            "5fb6a648a15e4fa080f7fc8938ea9e21",
            "ea3f1ed829684bc9ae696a2c4c8ea93f",
            "321f68b7770244e78c6410cfe33e1243",
            "fbb55ccb2a0d4a4791cd9206722a34b3",
            "a927f3c55f6f4783b7fc1d2f36f1cc8e",
            "5fb19341df384367bd0f049eb716fd28",
            "cfd13aff3b0f4534b262795964831999",
            "6585acc0f9e64c36ac3d9e3f9022a4b7",
            "d62d140c9cfe4be18f109dc94de740bf",
            "85b020f4de0a4a97838ccd311b33829c",
            "8aaa042fdc7c479c81ce141b9f598027",
            "1a9c4ccbda8649e5bbabe78afcbf83a6",
            "1f4804ac06034c1eaf55f93354f8dbec",
            "3f6f87feeccc4c7b86391cc807d059b5",
            "bb0c1ce5a42543e0a7f26817a47dc9fb",
            "2fd17664f1674f09aed69b2b8468deb5",
            "074f9261b8c3483c9e592c0b6dbf03d4",
            "cda2b4fe3b8f4f96821a49577d07830f",
            "9b7c492676994ea2a9decfd1ac057a3c",
            "df4cf4129c304c4da69fbed03ac73cc5",
            "d3155fc067a64a08b6f22ce360155c84",
            "6a38ce0b065d45b1bda9383f3daa546e",
            "12933bea82e4424499aa5dfdfdcd905e",
            "a556d452ff6b48ea8e1b68df06aa33dd",
            "ddef7eaa573346acab858388981b5ce0",
            "2150664878334a1c8a58bf9f65047f3e",
            "7efbce70cb054d3c8f44bb805a39546c",
            "0486c154d4fb47ffb703a9f1cdf67dd4",
            "19e45663ebf041c89fb2450db7ecb860",
            "850705780c8c4297b4f2bdcd9913e304",
            "fac18cf0a5f947da967932560a7c6b93",
            "52e25895f43b4515b1c2b513e5afa8f7",
            "264096ee782446f9b4811328dc5b8d4f",
            "6e35c39175de482183819c3f8a91c65e",
            "4680885a198f48f88b4a27ecdbfdc3d8",
            "4c2d3db9d09743e48a817e89e3050f28",
            "3b740e6d08b24440820f3de356b88424",
            "2079fb44a7b74379959dc6f41d692ead",
            "70a8dc82826a4cff94d51cf59f932b7b",
            "508a4fdf15dd4e7b9999b4ce04d4df2c",
            "c821445b9d474269b7f7f08af389f5ab",
            "3e853a041eaa485384e6f86b705acb44",
            "4b5cce74008d48569d728a3dab89d2a7",
            "bb7cc2447c2c4d9291a4ddc880dec5da",
            "c2dbfc1edc5a4c449e06d75be12fe7d3",
            "b7dee9bdd78945a4b5628b92103f6ce5",
            "453364b3785d47efbe56a3447794c5f5",
            "ee769952dfea4c599c236d7808d09b61",
            "8f890a4766594592b4cc5b1db719ba84",
            "8a36d917a4574e83af2df4ad9ede3077",
            "9c4f6bdc0c8b4d8593bec135ad938d5c",
            "fc0b3b272870462cab961737d90ca14d"
          ]
        },
        "id": "S-_LWmhud20s",
        "outputId": "a599442b-b860-4e97-d113-1fb012ac97b9"
      },
      "execution_count": 61,
      "outputs": [
        {
          "output_type": "display_data",
          "data": {
            "text/plain": [
              "Downloading (…)lve/main/config.json:   0%|          | 0.00/747 [00:00<?, ?B/s]"
            ],
            "application/vnd.jupyter.widget-view+json": {
              "version_major": 2,
              "version_minor": 0,
              "model_id": "54766c65539c40269eb0317ed7c33e6e"
            }
          },
          "metadata": {}
        },
        {
          "output_type": "display_data",
          "data": {
            "text/plain": [
              "Downloading (…)olve/main/vocab.json:   0%|          | 0.00/899k [00:00<?, ?B/s]"
            ],
            "application/vnd.jupyter.widget-view+json": {
              "version_major": 2,
              "version_minor": 0,
              "model_id": "d62d140c9cfe4be18f109dc94de740bf"
            }
          },
          "metadata": {}
        },
        {
          "output_type": "display_data",
          "data": {
            "text/plain": [
              "Downloading (…)olve/main/merges.txt:   0%|          | 0.00/456k [00:00<?, ?B/s]"
            ],
            "application/vnd.jupyter.widget-view+json": {
              "version_major": 2,
              "version_minor": 0,
              "model_id": "df4cf4129c304c4da69fbed03ac73cc5"
            }
          },
          "metadata": {}
        },
        {
          "output_type": "display_data",
          "data": {
            "text/plain": [
              "Downloading (…)cial_tokens_map.json:   0%|          | 0.00/150 [00:00<?, ?B/s]"
            ],
            "application/vnd.jupyter.widget-view+json": {
              "version_major": 2,
              "version_minor": 0,
              "model_id": "fac18cf0a5f947da967932560a7c6b93"
            }
          },
          "metadata": {}
        },
        {
          "output_type": "display_data",
          "data": {
            "text/plain": [
              "Downloading pytorch_model.bin:   0%|          | 0.00/499M [00:00<?, ?B/s]"
            ],
            "application/vnd.jupyter.widget-view+json": {
              "version_major": 2,
              "version_minor": 0,
              "model_id": "3e853a041eaa485384e6f86b705acb44"
            }
          },
          "metadata": {}
        }
      ]
    },
    {
      "cell_type": "code",
      "source": [
        "# VADER results on example\n",
        "print(example)\n",
        "sia.polarity_scores(example)"
      ],
      "metadata": {
        "colab": {
          "base_uri": "https://localhost:8080/"
        },
        "id": "0A8xwKe1kMYQ",
        "outputId": "1607ffa3-0b94-4d55-da4a-3a0a06827a4f"
      },
      "execution_count": 62,
      "outputs": [
        {
          "output_type": "stream",
          "name": "stdout",
          "text": [
            "This oatmeal is not good. Its mushy, soft, I don't like it. Quaker Oats is the way to go.\n"
          ]
        },
        {
          "output_type": "execute_result",
          "data": {
            "text/plain": [
              "{'neg': 0.22, 'neu': 0.78, 'pos': 0.0, 'compound': -0.5448}"
            ]
          },
          "metadata": {},
          "execution_count": 62
        }
      ]
    },
    {
      "cell_type": "code",
      "source": [
        "# Run for Roberta Model\n",
        "encoded_text = tokenizer(example, return_tensors='pt')\n",
        "output = model(**encoded_text)\n",
        "scores = output[0][0].detach().numpy()\n",
        "scores = softmax(scores)\n",
        "scores_dict = {\n",
        "    'roberta_neg' : scores[0],\n",
        "    'roberta_neu' : scores[1],\n",
        "    'roberta_pos' : scores[2]\n",
        "}\n",
        "print(scores_dict)\n",
        "scores"
      ],
      "metadata": {
        "colab": {
          "base_uri": "https://localhost:8080/"
        },
        "id": "ZLLSdXJ3khU1",
        "outputId": "1e33d026-cc48-4fcf-cc35-d51f3424d296"
      },
      "execution_count": 65,
      "outputs": [
        {
          "output_type": "stream",
          "name": "stdout",
          "text": [
            "{'roberta_neg': 0.97635514, 'roberta_neu': 0.020687476, 'roberta_pos': 0.002957372}\n"
          ]
        },
        {
          "output_type": "execute_result",
          "data": {
            "text/plain": [
              "array([0.97635514, 0.02068748, 0.00295737], dtype=float32)"
            ]
          },
          "metadata": {},
          "execution_count": 65
        }
      ]
    },
    {
      "cell_type": "markdown",
      "source": [
        "<h2>Conclusion:</h2>\n",
        "<p>\n",
        "    <b>From the Sentiment Analysis Outputs:</b>\n",
        "    <ul>\n",
        "        <li>VADER Sentiment Analysis Output:</li>\n",
        "        <blockquote>\n",
        "            <p>{'neg': 0.22, 'neu': 0.78, 'pos': 0.0, 'compound': -0.5448}</p>\n",
        "        </blockquote>\n",
        "        <p>VADER's sentiment analysis output provides sentiment scores for the input text. The scores indicate the proportion of negative, neutral, and positive sentiments in the text, as well as an overall compound score.</p>\n",
        "        <ul>\n",
        "            <li>'neg': 0.22 means approximately 22% of the text has negative sentiment.</li>\n",
        "            <li>'neu': 0.78 means approximately 78% of the text has neutral sentiment.</li>\n",
        "            <li>'pos': 0.0 means there are no words with positive sentiment in the text.</li>\n",
        "            <li>'compound': -0.5448 is an overall sentiment score, combining both positive and negative sentiments. The negative compound score indicates a negative overall sentiment.</li>\n",
        "        </ul>\n",
        "        <li>RoBERTa Sentiment Analysis Output:</li>\n",
        "        <blockquote>\n",
        "            <p>{'roberta_neg': 0.97635514, 'roberta_neu': 0.02068748, 'roberta_pos': 0.00295737}</p>\n",
        "        </blockquote>\n",
        "        <p>The RoBERTa model's sentiment analysis output provides sentiment probabilities for the input text. The probabilities indicate the model's confidence that the text belongs to each sentiment class.</p>\n",
        "        <ul>\n",
        "            <li>'roberta_neg': 0.97635514 means the model predicts with high confidence (approximately 97.6%) that the text has negative sentiment.</li>\n",
        "            <li>'roberta_neu': 0.02068748 means the model predicts with very low confidence (approximately 2.1%) that the text has neutral sentiment.</li>\n",
        "            <li>'roberta_pos': 0.00295737 means the model predicts with very low confidence (approximately 0.3%) that the text has positive sentiment.</li>\n",
        "        </ul>\n",
        "    </ul>\n",
        "</p>\n",
        "<p>\n",
        "    <b>Conclusions:</b>\n",
        "    <ul>\n",
        "        <li>Both VADER and the RoBERTa model agree that the input text has a negative sentiment, as indicated by their respective sentiment scores and probabilities. This aligns with the statement \"This oatmeal is not good.\"</li>\n",
        "        <li>VADER assigns approximately 22% negative sentiment and 78% neutral sentiment, while RoBERTa predicts almost all of the text (97.6%) to be negative sentiment.</li>\n",
        "        <li>RoBERTa's low probabilities for neutral and positive sentiment suggest that it is highly confident in its negative sentiment prediction.</li>\n",
        "    </ul>\n",
        "</p>\n"
      ],
      "metadata": {
        "id": "KTp5tmVemG2k"
      }
    },
    {
      "cell_type": "code",
      "source": [
        "def polarity_scores_roberta(example):\n",
        "    encoded_text = tokenizer(example, return_tensors='pt')\n",
        "    output = model(**encoded_text)\n",
        "    scores = output[0][0].detach().numpy()\n",
        "    scores = softmax(scores)\n",
        "    scores_dict = {\n",
        "        'roberta_neg' : scores[0],\n",
        "        'roberta_neu' : scores[1],\n",
        "        'roberta_pos' : scores[2]\n",
        "    }\n",
        "    return scores_dict"
      ],
      "metadata": {
        "id": "uMIE8eMYnA3U"
      },
      "execution_count": 67,
      "outputs": []
    },
    {
      "cell_type": "code",
      "source": [],
      "metadata": {
        "id": "rrr-nTwEqVJE"
      },
      "execution_count": null,
      "outputs": []
    },
    {
      "cell_type": "code",
      "source": [
        "res = {}\n",
        "for i, row in tqdm(df.iterrows(), total=len(df)):\n",
        "    try:\n",
        "        text = row['Text']\n",
        "        myid = row['Id']\n",
        "        vader_result = sia.polarity_scores(text)\n",
        "        vader_result_rename = {}\n",
        "        for key, value in vader_result.items():\n",
        "            vader_result_rename[f\"vader_{key}\"] = value\n",
        "        roberta_result = polarity_scores_roberta(text)\n",
        "        both = {**vader_result_rename, **roberta_result}\n",
        "        res[myid] = both\n",
        "    except RuntimeError:\n",
        "        print(f'Broke for id {myid}')"
      ],
      "metadata": {
        "colab": {
          "base_uri": "https://localhost:8080/",
          "height": 84,
          "referenced_widgets": [
            "e500185d9a9e45e3b0c64d4a235d9292",
            "32df97c8d3444789b8d3ebe12ea951c5",
            "26e889fc574747aa94ecf9c9a0357bcd",
            "66133c1411664184ab9cc8589be057b8",
            "f7894459e4ea4d03b614621b036c0b3e",
            "3929fa7df6684e0bb07520c7a4d32e05",
            "59bdb2ea57394a079a8f02ce700f6bde",
            "558c16bf3e5d451db79f5124b5fc80a0",
            "f3ac90ac0a24406dbdc56431428c61e5",
            "ca2a41480663428ca2bca80f5ee0c4ad",
            "3ce1a549f9c147c79c490d2ab6cd38ff"
          ]
        },
        "id": "gIINxW0bmXLb",
        "outputId": "0210e0f8-545a-4f49-d041-b9cc75180269"
      },
      "execution_count": 68,
      "outputs": [
        {
          "output_type": "display_data",
          "data": {
            "text/plain": [
              "  0%|          | 0/500 [00:00<?, ?it/s]"
            ],
            "application/vnd.jupyter.widget-view+json": {
              "version_major": 2,
              "version_minor": 0,
              "model_id": "e500185d9a9e45e3b0c64d4a235d9292"
            }
          },
          "metadata": {}
        },
        {
          "output_type": "stream",
          "name": "stdout",
          "text": [
            "Broke for id 83\n",
            "Broke for id 187\n"
          ]
        }
      ]
    },
    {
      "cell_type": "code",
      "source": [
        "results_df = pd.DataFrame(res).T\n",
        "results_df = results_df.reset_index().rename(columns={'index': 'Id'})\n",
        "results_df = results_df.merge(df, how='left')"
      ],
      "metadata": {
        "id": "zOdS5ORYoMhy"
      },
      "execution_count": 69,
      "outputs": []
    },
    {
      "cell_type": "markdown",
      "source": [
        "Compare Scores between"
      ],
      "metadata": {
        "id": "cwKWzjrQoQp-"
      }
    },
    {
      "cell_type": "code",
      "source": [
        "results_df.columns"
      ],
      "metadata": {
        "colab": {
          "base_uri": "https://localhost:8080/"
        },
        "id": "3iu9TvkQoXuq",
        "outputId": "7a91e6cc-4311-4fba-e443-9e4a8cd1c902"
      },
      "execution_count": 70,
      "outputs": [
        {
          "output_type": "execute_result",
          "data": {
            "text/plain": [
              "Index(['Id', 'vader_neg', 'vader_neu', 'vader_pos', 'vader_compound',\n",
              "       'roberta_neg', 'roberta_neu', 'roberta_pos', 'ProductId', 'UserId',\n",
              "       'ProfileName', 'HelpfulnessNumerator', 'HelpfulnessDenominator',\n",
              "       'Score', 'Time', 'Summary', 'Text'],\n",
              "      dtype='object')"
            ]
          },
          "metadata": {},
          "execution_count": 70
        }
      ]
    },
    {
      "cell_type": "markdown",
      "source": [
        "combine and compare"
      ],
      "metadata": {
        "id": "PkmuJ72DkT_L"
      }
    },
    {
      "cell_type": "code",
      "source": [
        "# sns.pairplot(data=results_df,\n",
        "#              vars=['vader_neg', 'vader_neu', 'vader_pos',\n",
        "#                   'roberta_neg', 'roberta_neu', 'roberta_pos'],\n",
        "#             hue='Score',\n",
        "#             palette='tab10')\n",
        "# plt.show()"
      ],
      "metadata": {
        "id": "fvpWDq3loN8S"
      },
      "execution_count": 73,
      "outputs": []
    },
    {
      "cell_type": "markdown",
      "source": [
        "Step 4: Review Examples:\n",
        "Positive 1-Star and Negative 5-Star Reviews\n",
        "Lets look at some examples where the model scoring and review score differ the most."
      ],
      "metadata": {
        "id": "uFV9pwqkqjZH"
      }
    },
    {
      "cell_type": "code",
      "source": [
        "results_df.query('Score == 1') \\\n",
        "    .sort_values('roberta_pos', ascending=False)['Text'].values[0]"
      ],
      "metadata": {
        "colab": {
          "base_uri": "https://localhost:8080/",
          "height": 36
        },
        "id": "8nQqcIlmqWfi",
        "outputId": "e5b507cf-1488-4783-fc5b-e3cf3d97f141"
      },
      "execution_count": 76,
      "outputs": [
        {
          "output_type": "execute_result",
          "data": {
            "text/plain": [
              "'I felt energized within five minutes, but it lasted for about 45 minutes. I paid $3.99 for this drink. I could have just drunk a cup of coffee and saved my money.'"
            ],
            "application/vnd.google.colaboratory.intrinsic+json": {
              "type": "string"
            }
          },
          "metadata": {},
          "execution_count": 76
        }
      ]
    },
    {
      "cell_type": "markdown",
      "source": [
        "As we can see thought this statment has a highest pos score but this is a sarcastic statment AND A NEGATIVE REVIEW stating tht the customer is not at all happy with the product.so roberta model failed on this review"
      ],
      "metadata": {
        "id": "adnd3yiNrKcF"
      }
    },
    {
      "cell_type": "code",
      "source": [
        "results_df.query('Score == 1') \\\n",
        "    .sort_values('vader_pos', ascending=False)['Text'].values[0]"
      ],
      "metadata": {
        "colab": {
          "base_uri": "https://localhost:8080/",
          "height": 36
        },
        "id": "LuZ4fvuUsF-0",
        "outputId": "4875264c-666a-4dc0-df09-f729cd4847bf"
      },
      "execution_count": 77,
      "outputs": [
        {
          "output_type": "execute_result",
          "data": {
            "text/plain": [
              "'So we cancelled the order.  It was cancelled without any problem.  That is a positive note...'"
            ],
            "application/vnd.google.colaboratory.intrinsic+json": {
              "type": "string"
            }
          },
          "metadata": {},
          "execution_count": 77
        }
      ]
    },
    {
      "cell_type": "markdown",
      "source": [
        "here with the vader model as well we see that their is a failure in sentiment analysis .This statment specifies that the customer was angry abt the service and used sarcasm to state that  since it was cancelled without a problem but vader classified it as a positive"
      ],
      "metadata": {
        "id": "1N12N4AAsKd2"
      }
    },
    {
      "cell_type": "markdown",
      "source": [
        "# negative sentiment 5-Star view"
      ],
      "metadata": {
        "id": "6Lxek6i8s-d5"
      }
    },
    {
      "cell_type": "code",
      "source": [
        "results_df.query('Score == 5') \\\n",
        "    .sort_values('roberta_neg', ascending=False)['Text'].values[0]"
      ],
      "metadata": {
        "colab": {
          "base_uri": "https://localhost:8080/",
          "height": 36
        },
        "id": "EETxtjvotDVG",
        "outputId": "18fee144-2629-4271-948d-5fd209cad8ab"
      },
      "execution_count": 78,
      "outputs": [
        {
          "output_type": "execute_result",
          "data": {
            "text/plain": [
              "'this was sooooo deliscious but too bad i ate em too fast and gained 2 pds! my fault'"
            ],
            "application/vnd.google.colaboratory.intrinsic+json": {
              "type": "string"
            }
          },
          "metadata": {},
          "execution_count": 78
        }
      ]
    },
    {
      "cell_type": "code",
      "source": [
        "results_df.query('Score == 5') \\\n",
        "    .sort_values('vader_neg', ascending=False)['Text'].values[0]"
      ],
      "metadata": {
        "colab": {
          "base_uri": "https://localhost:8080/",
          "height": 36
        },
        "id": "RaGLdDNmtGbb",
        "outputId": "6c2f5de6-eff9-4264-c82b-38f793caffb2"
      },
      "execution_count": 79,
      "outputs": [
        {
          "output_type": "execute_result",
          "data": {
            "text/plain": [
              "'this was sooooo deliscious but too bad i ate em too fast and gained 2 pds! my fault'"
            ],
            "application/vnd.google.colaboratory.intrinsic+json": {
              "type": "string"
            }
          },
          "metadata": {},
          "execution_count": 79
        }
      ]
    },
    {
      "cell_type": "markdown",
      "source": [
        "The Transformers Pipeline;\n",
        "*    Quick & easy way to run sentiment predictions\n",
        "\n",
        "\n",
        "\n",
        "\n"
      ],
      "metadata": {
        "id": "_kmWiFXatXXv"
      }
    },
    {
      "cell_type": "code",
      "source": [
        "from transformers import pipeline\n",
        "\n",
        "sent_pipeline = pipeline(\"sentiment-analysis\")"
      ],
      "metadata": {
        "colab": {
          "base_uri": "https://localhost:8080/",
          "height": 214,
          "referenced_widgets": [
            "c7e1ca13ff7e45e4bb3f9d7629a5d555",
            "50f4091f002347d68a3b76a747b5a955",
            "1d0b7141f903499e83a3660ac534bd14",
            "0f2ab9fc0a2d401bb373879ecb6c0d82",
            "1bc4511584e843cf8939911387f081ca",
            "074f9795486348cd93a5a199e5cb801b",
            "56c305643d5d408bad82a367d5105226",
            "01957d36eb024374b7d809b37470c925",
            "d5267ce54bfb4ff39292e60bcbc8f067",
            "b47ab27c1625408f956b9f08352f6d30",
            "f81df5ab60ac4d4c93cfe357fd43139b",
            "b2754bb4c7db4fcc98dd2d40d6762b85",
            "2cf4e9422ee9453b9bddd8da23d7a5ca",
            "537458c84a4a48f6ac1ee2a38d28469b",
            "82ecb73c013b4b28a4664b730f54f423",
            "c72e1388591f4dc692f3b5128ec78fc4",
            "c30ecfc3f6594ed28c2d0b4178dc7060",
            "24c680e00ee94e9c81bfb4049969407d",
            "98a8d0e28b8c42b484ff3e2de16305ab",
            "a99346b1f46748599dea19d665524fb5",
            "a9d99016a0be4ee585d86ae4a9c151f6",
            "a48b447b29a54dd5b75f28cd14316721",
            "45f1b0c570c64aaa863a27bdfa1e33cd",
            "a4534bbc7d2443cbb084ea2bdce2041e",
            "b934d01a22e94b5e8ac3577bda9e3cc9",
            "a3a2854b09fe45f7911239fa6d40da16",
            "d528b5b55e1b48159063d2c2402b104b",
            "a25698f0bc35449aa54a90212e484bca",
            "dfb56d59bb604a5e8ad12d1415b59a68",
            "f4250e421f0e43c9a89af3cef4d4d4c8",
            "c143c4b4fcb846dcb42748dffa8a9e04",
            "d6b44767a67543e48ac557c790a51924",
            "ca668de36e954d43828920907367dc98",
            "e72f5f1c96d44d3e99a96e0fff8e8fc8",
            "71fcc52a76b94406b7b252ec970ec0e4",
            "f18ee603b12840d599615fd7434688b9",
            "b338aeac9b1545b0b6cb6adef07b4710",
            "60f2f6e46e2e404d95abe5944ec1c0dd",
            "235e4b41c934469ab1738c82165ebbd6",
            "3240421115934bf8b8c4b3e738fe0f87",
            "bb5b59125579472f8cc6458cdc470009",
            "fb75c95961be45bcb8c7adcd66eb20fb",
            "a8be7147043c46cb81d3e07778b45e6c",
            "9c943d7cd9e74de8b9bcf300ff36d503"
          ]
        },
        "id": "mLKJZc7GtXIC",
        "outputId": "409a64d0-24dd-4e80-fccb-c90a94c3757a"
      },
      "execution_count": 80,
      "outputs": [
        {
          "output_type": "stream",
          "name": "stderr",
          "text": [
            "No model was supplied, defaulted to distilbert-base-uncased-finetuned-sst-2-english and revision af0f99b (https://huggingface.co/distilbert-base-uncased-finetuned-sst-2-english).\n",
            "Using a pipeline without specifying a model name and revision in production is not recommended.\n"
          ]
        },
        {
          "output_type": "display_data",
          "data": {
            "text/plain": [
              "Downloading (…)lve/main/config.json:   0%|          | 0.00/629 [00:00<?, ?B/s]"
            ],
            "application/vnd.jupyter.widget-view+json": {
              "version_major": 2,
              "version_minor": 0,
              "model_id": "c7e1ca13ff7e45e4bb3f9d7629a5d555"
            }
          },
          "metadata": {}
        },
        {
          "output_type": "display_data",
          "data": {
            "text/plain": [
              "Downloading model.safetensors:   0%|          | 0.00/268M [00:00<?, ?B/s]"
            ],
            "application/vnd.jupyter.widget-view+json": {
              "version_major": 2,
              "version_minor": 0,
              "model_id": "b2754bb4c7db4fcc98dd2d40d6762b85"
            }
          },
          "metadata": {}
        },
        {
          "output_type": "display_data",
          "data": {
            "text/plain": [
              "Downloading (…)okenizer_config.json:   0%|          | 0.00/48.0 [00:00<?, ?B/s]"
            ],
            "application/vnd.jupyter.widget-view+json": {
              "version_major": 2,
              "version_minor": 0,
              "model_id": "45f1b0c570c64aaa863a27bdfa1e33cd"
            }
          },
          "metadata": {}
        },
        {
          "output_type": "display_data",
          "data": {
            "text/plain": [
              "Downloading (…)solve/main/vocab.txt:   0%|          | 0.00/232k [00:00<?, ?B/s]"
            ],
            "application/vnd.jupyter.widget-view+json": {
              "version_major": 2,
              "version_minor": 0,
              "model_id": "e72f5f1c96d44d3e99a96e0fff8e8fc8"
            }
          },
          "metadata": {}
        },
        {
          "output_type": "stream",
          "name": "stderr",
          "text": [
            "Xformers is not installed correctly. If you want to use memory_efficient_attention to accelerate training use the following command to install Xformers\n",
            "pip install xformers.\n"
          ]
        }
      ]
    },
    {
      "cell_type": "code",
      "source": [
        "sent_pipeline('I love sentiment analysis! its cool , really a brain racker ,so many things to take into account why does it not take the relation ship. u must be kidding')"
      ],
      "metadata": {
        "colab": {
          "base_uri": "https://localhost:8080/"
        },
        "id": "eZt-LtYXt0l2",
        "outputId": "d8c28952-4595-4c05-d708-ae0e043745fe"
      },
      "execution_count": 89,
      "outputs": [
        {
          "output_type": "execute_result",
          "data": {
            "text/plain": [
              "[{'label': 'POSITIVE', 'score': 0.994724690914154}]"
            ]
          },
          "metadata": {},
          "execution_count": 89
        }
      ]
    },
    {
      "cell_type": "markdown",
      "source": [
        "i just removed the , after cool and added but and the same statment changed from positive with a 0.99 score to negative 0.98"
      ],
      "metadata": {
        "id": "Q7mBCYAOvUPu"
      }
    },
    {
      "cell_type": "code",
      "source": [
        "sent_pipeline('I love sentiment analysis! its cool but really a brain racker ,so many things to take into account why does it not take the relation ship. u must be kidding')"
      ],
      "metadata": {
        "colab": {
          "base_uri": "https://localhost:8080/"
        },
        "id": "DDk4M2_tuzXw",
        "outputId": "40c701c9-abe3-4182-df38-d50b0ce518dd"
      },
      "execution_count": 91,
      "outputs": [
        {
          "output_type": "execute_result",
          "data": {
            "text/plain": [
              "[{'label': 'NEGATIVE', 'score': 0.985082745552063}]"
            ]
          },
          "metadata": {},
          "execution_count": 91
        }
      ]
    },
    {
      "cell_type": "code",
      "source": [
        "# check on previous example\n",
        "sent_pipeline(example)"
      ],
      "metadata": {
        "colab": {
          "base_uri": "https://localhost:8080/"
        },
        "id": "kLikbywSt3CW",
        "outputId": "e14ebb95-c3a7-4769-8296-8676e82acbcf"
      },
      "execution_count": 83,
      "outputs": [
        {
          "output_type": "execute_result",
          "data": {
            "text/plain": [
              "[{'label': 'NEGATIVE', 'score': 0.9994776844978333}]"
            ]
          },
          "metadata": {},
          "execution_count": 83
        }
      ]
    }
  ]
}